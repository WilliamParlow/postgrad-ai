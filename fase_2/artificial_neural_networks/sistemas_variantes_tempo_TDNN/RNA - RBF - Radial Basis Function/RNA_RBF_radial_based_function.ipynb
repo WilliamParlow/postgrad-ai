{
 "cells": [
  {
   "cell_type": "markdown",
   "id": "63732f41",
   "metadata": {},
   "source": [
    "# RNA - RBF - Radial Basis Function\n",
    "\n",
    "- [Vídeo do Paulo Henrique Siqueira com a explicação sobre RBF](https://www.youtube.com/watch?v=j3pcwmGgLnY)\n",
    "\n",
    "- [Conteúdo da aula do Paulo Henrique Siqueira](https://paulohscwb.github.io/metaheuristicas/)\n",
    "\n",
    "Links do scikit-Learn com informações da biblioteca relacionadas ao tema:\n",
    "\n",
    "- https://scikit-learn.org/stable/modules/generated/sklearn.gaussian_process.kernels.RBF.html\n",
    "\n",
    "- https://scikit-learn.org/stable/modules/gaussian_process.html#gp-kernels\n",
    "\n",
    "Orientações para testes da RNA RBF:\n",
    "\n",
    "- Tentar aplicar a classificação do dataset Iris utilizando RBF."
   ]
  },
  {
   "cell_type": "markdown",
   "id": "f52173d4",
   "metadata": {},
   "source": [
    "## Implementação de uma Rede Neural RBF (Radial Basis Function) para o dataset Iris\n",
    "Nesta seção, será implementada uma rede neural RBF simples utilizando o scikit-learn para classificar o dataset Iris."
   ]
  },
  {
   "cell_type": "code",
   "execution_count": 1,
   "id": "ba0e6e45",
   "metadata": {},
   "outputs": [
    {
     "data": {
      "application/vnd.microsoft.datawrangler.viewer.v0+json": {
       "columns": [
        {
         "name": "index",
         "rawType": "int64",
         "type": "integer"
        },
        {
         "name": "sepal.length",
         "rawType": "float64",
         "type": "float"
        },
        {
         "name": "sepal.width",
         "rawType": "float64",
         "type": "float"
        },
        {
         "name": "petal.length",
         "rawType": "float64",
         "type": "float"
        },
        {
         "name": "petal.width",
         "rawType": "float64",
         "type": "float"
        },
        {
         "name": "variety",
         "rawType": "object",
         "type": "string"
        }
       ],
       "ref": "afd7ed8f-a535-492f-9087-11d7be71c281",
       "rows": [
        [
         "0",
         "5.1",
         "3.5",
         "1.4",
         "0.2",
         "Iris-setosa"
        ],
        [
         "1",
         "4.9",
         "3.0",
         "1.4",
         "0.2",
         "Iris-setosa"
        ],
        [
         "2",
         "4.7",
         "3.2",
         "1.3",
         "0.2",
         "Iris-setosa"
        ],
        [
         "3",
         "4.6",
         "3.1",
         "1.5",
         "0.2",
         "Iris-setosa"
        ],
        [
         "4",
         "5.0",
         "3.6",
         "1.4",
         "0.2",
         "Iris-setosa"
        ]
       ],
       "shape": {
        "columns": 5,
        "rows": 5
       }
      },
      "text/html": [
       "<div>\n",
       "<style scoped>\n",
       "    .dataframe tbody tr th:only-of-type {\n",
       "        vertical-align: middle;\n",
       "    }\n",
       "\n",
       "    .dataframe tbody tr th {\n",
       "        vertical-align: top;\n",
       "    }\n",
       "\n",
       "    .dataframe thead th {\n",
       "        text-align: right;\n",
       "    }\n",
       "</style>\n",
       "<table border=\"1\" class=\"dataframe\">\n",
       "  <thead>\n",
       "    <tr style=\"text-align: right;\">\n",
       "      <th></th>\n",
       "      <th>sepal.length</th>\n",
       "      <th>sepal.width</th>\n",
       "      <th>petal.length</th>\n",
       "      <th>petal.width</th>\n",
       "      <th>variety</th>\n",
       "    </tr>\n",
       "  </thead>\n",
       "  <tbody>\n",
       "    <tr>\n",
       "      <th>0</th>\n",
       "      <td>5.1</td>\n",
       "      <td>3.5</td>\n",
       "      <td>1.4</td>\n",
       "      <td>0.2</td>\n",
       "      <td>Iris-setosa</td>\n",
       "    </tr>\n",
       "    <tr>\n",
       "      <th>1</th>\n",
       "      <td>4.9</td>\n",
       "      <td>3.0</td>\n",
       "      <td>1.4</td>\n",
       "      <td>0.2</td>\n",
       "      <td>Iris-setosa</td>\n",
       "    </tr>\n",
       "    <tr>\n",
       "      <th>2</th>\n",
       "      <td>4.7</td>\n",
       "      <td>3.2</td>\n",
       "      <td>1.3</td>\n",
       "      <td>0.2</td>\n",
       "      <td>Iris-setosa</td>\n",
       "    </tr>\n",
       "    <tr>\n",
       "      <th>3</th>\n",
       "      <td>4.6</td>\n",
       "      <td>3.1</td>\n",
       "      <td>1.5</td>\n",
       "      <td>0.2</td>\n",
       "      <td>Iris-setosa</td>\n",
       "    </tr>\n",
       "    <tr>\n",
       "      <th>4</th>\n",
       "      <td>5.0</td>\n",
       "      <td>3.6</td>\n",
       "      <td>1.4</td>\n",
       "      <td>0.2</td>\n",
       "      <td>Iris-setosa</td>\n",
       "    </tr>\n",
       "  </tbody>\n",
       "</table>\n",
       "</div>"
      ],
      "text/plain": [
       "   sepal.length  sepal.width  petal.length  petal.width      variety\n",
       "0           5.1          3.5           1.4          0.2  Iris-setosa\n",
       "1           4.9          3.0           1.4          0.2  Iris-setosa\n",
       "2           4.7          3.2           1.3          0.2  Iris-setosa\n",
       "3           4.6          3.1           1.5          0.2  Iris-setosa\n",
       "4           5.0          3.6           1.4          0.2  Iris-setosa"
      ]
     },
     "execution_count": 1,
     "metadata": {},
     "output_type": "execute_result"
    }
   ],
   "source": [
    "import pandas as pd\n",
    "iris = pd.read_csv('../../classificacao_de_padroes_pmc_classifier/irisMLP.csv')\n",
    "iris.head()"
   ]
  },
  {
   "cell_type": "code",
   "execution_count": 2,
   "id": "db708d50",
   "metadata": {},
   "outputs": [],
   "source": [
    "from sklearn.model_selection import train_test_split\n",
    "from sklearn.preprocessing import LabelEncoder\n",
    "import numpy as np\n",
    "\n",
    "# Separar features e rótulos\n",
    "X = iris.iloc[:, :-1].values\n",
    "y = iris.iloc[:, -1].values\n",
    "\n",
    "# Codificar as classes\n",
    "le = LabelEncoder()\n",
    "y_encoded = le.fit_transform(y)\n",
    "\n",
    "# Dividir em treino e teste\n",
    "X_train, X_test, y_train, y_test = train_test_split(X, y_encoded, test_size=0.2, random_state=42)"
   ]
  },
  {
   "cell_type": "code",
   "execution_count": 3,
   "id": "31af28c7",
   "metadata": {},
   "outputs": [
    {
     "name": "stdout",
     "output_type": "stream",
     "text": [
      "Acurácia da RBF no conjunto de teste: 1.00\n"
     ]
    }
   ],
   "source": [
    "from sklearn.svm import SVC\n",
    "from sklearn.metrics import accuracy_score\n",
    "\n",
    "# Criar e treinar o modelo RBF\n",
    "rbf_model = SVC(kernel='rbf', gamma='scale')\n",
    "rbf_model.fit(X_train, y_train)\n",
    "\n",
    "# Prever no conjunto de teste\n",
    "y_pred = rbf_model.predict(X_test)\n",
    "\n",
    "# Avaliar acurácia\n",
    "accuracy = accuracy_score(y_test, y_pred)\n",
    "print(f'Acurácia da RBF no conjunto de teste: {accuracy:.2f}')"
   ]
  },
  {
   "cell_type": "code",
   "execution_count": 4,
   "id": "5796c6ba",
   "metadata": {},
   "outputs": [
    {
     "data": {
      "image/png": "[encoded data removed]",
      "text/plain": [
       "<Figure size 640x480 with 2 Axes>"
      ]
     },
     "metadata": {},
     "output_type": "display_data"
    }
   ],
   "source": [
    "import matplotlib.pyplot as plt\n",
    "from sklearn.metrics import ConfusionMatrixDisplay\n",
    "\n",
    "ConfusionMatrixDisplay.from_estimator(rbf_model, X_test, y_test, display_labels=le.classes_, cmap=plt.cm.Blues)\n",
    "plt.title('Matriz de Confusão - RBF (SVC)')\n",
    "plt.show()"
   ]
  }
 ],
 "metadata": {
  "kernelspec": {
   "display_name": ".venv",
   "language": "python",
   "name": "python3"
  },
  "language_info": {
   "codemirror_mode": {
    "name": "ipython",
    "version": 3
   },
   "file_extension": ".py",
   "mimetype": "text/x-python",
   "name": "python",
   "nbconvert_exporter": "python",
   "pygments_lexer": "ipython3",
   "version": "3.11.7"
  }
 },
 "nbformat": 4,
 "nbformat_minor": 5
}
