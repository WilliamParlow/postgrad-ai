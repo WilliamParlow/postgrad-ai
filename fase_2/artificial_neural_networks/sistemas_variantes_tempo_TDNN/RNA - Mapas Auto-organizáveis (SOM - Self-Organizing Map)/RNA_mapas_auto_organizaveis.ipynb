{
 "cells": [
  {
   "cell_type": "markdown",
   "id": "9ffac3f7",
   "metadata": {},
   "source": [
    "# RNA - Mapas Auto-organizáveis (SOM - Self-Organizing Map)\n",
    "\n",
    "Link para estudo:\n",
    "\n",
    "- https://medium.com/machine-learning-researcher/self-organizing-map-som-c296561e2117\n",
    "\n",
    "Sugestão de prática:\n",
    "\n",
    "- Com base no tutorial apresentado no link acima, implementar o exemplo proposto."
   ]
  },
  {
   "cell_type": "markdown",
   "metadata": {},
   "source": [
    "![SOM](https://pbs.twimg.com/media/FczksoAWYAIl0NT?format=jpg&name=medium)"
   ]
  },
  {
   "cell_type": "markdown",
   "metadata": {},
   "source": [
    "The Self Organizing Map is one of the most popular neural models. It belongs to the category of the competitive learning network. The SOM is based on unsupervised learning, which means that is no human intervention is needed during the training and those little needs to be known about characterized by the input data. We could, for example, use the SOM for clustering membership of the input data. The SOM can be used to detect features inherent to the problem and thus has also been called SOFM the Self Origination Feature Map. <br>\n",
    "[Click to see my article on SOM](https://medium.com/machine-learning-researcher/self-organizing-map-som-c296561e2117)"
   ]
  },
  {
   "cell_type": "markdown",
   "metadata": {},
   "source": [
    "![Machine Learning Project](https://user-images.githubusercontent.com/7065401/52071927-c1cd7100-2562-11e9-908a-dde91ba14e59.png)"
   ]
  },
  {
   "cell_type": "markdown",
   "metadata": {},
   "source": [
    "## <font color = #950CDF> Part 1: </font> <font color = #4854E8> Import Dataset and Feature Scaling</font>\n",
    "In this part, we import required libraries and dataset. The dataset is aboutcredit card applications. All attribute names and values have been changed to meaningless symbols to protect the confidentiality of the data.\n",
    "This dataset is interesting because there is a good mix of attributes — continuous, nominal with small numbers of values, and nominal with larger numbers of values."
   ]
  },
  {
   "cell_type": "markdown",
   "metadata": {},
   "source": [
    "![ML](https://user-images.githubusercontent.com/7065401/52071924-c003ad80-2562-11e9-8297-1c6595f8a7ff.png)"
   ]
  },
  {
   "cell_type": "markdown",
   "metadata": {},
   "source": [
    "#### <font color = blue>Import the Libraries"
   ]
  },
  {
   "cell_type": "code",
   "execution_count": 1,
   "metadata": {},
   "outputs": [],
   "source": [
    "import numpy as np\n",
    "import pandas as pd\n",
    "import matplotlib.pyplot as plt"
   ]
  },
  {
   "cell_type": "markdown",
   "metadata": {},
   "source": [
    "#### <font color = blue> Import the dataset"
   ]
  },
  {
   "cell_type": "code",
   "execution_count": 2,
   "metadata": {},
   "outputs": [
    {
     "data": {
      "application/vnd.microsoft.datawrangler.viewer.v0+json": {
       "columns": [
        {
         "name": "index",
         "rawType": "int64",
         "type": "integer"
        },
        {
         "name": "CustomerID",
         "rawType": "int64",
         "type": "integer"
        },
        {
         "name": "A1",
         "rawType": "int64",
         "type": "integer"
        },
        {
         "name": "A2",
         "rawType": "float64",
         "type": "float"
        },
        {
         "name": "A3",
         "rawType": "float64",
         "type": "float"
        },
        {
         "name": "A4",
         "rawType": "int64",
         "type": "integer"
        },
        {
         "name": "A5",
         "rawType": "int64",
         "type": "integer"
        },
        {
         "name": "A6",
         "rawType": "int64",
         "type": "integer"
        },
        {
         "name": "A7",
         "rawType": "float64",
         "type": "float"
        },
        {
         "name": "A8",
         "rawType": "int64",
         "type": "integer"
        },
        {
         "name": "A9",
         "rawType": "int64",
         "type": "integer"
        },
        {
         "name": "A10",
         "rawType": "int64",
         "type": "integer"
        },
        {
         "name": "A11",
         "rawType": "int64",
         "type": "integer"
        },
        {
         "name": "A12",
         "rawType": "int64",
         "type": "integer"
        },
        {
         "name": "A13",
         "rawType": "int64",
         "type": "integer"
        },
        {
         "name": "A14",
         "rawType": "int64",
         "type": "integer"
        },
        {
         "name": "Class",
         "rawType": "int64",
         "type": "integer"
        }
       ],
       "ref": "8b85cd4c-0382-42a6-b910-3fd8e4a155e1",
       "rows": [
        [
         "0",
         "15776156",
         "1",
         "22.08",
         "11.46",
         "2",
         "4",
         "4",
         "1.585",
         "0",
         "0",
         "0",
         "1",
         "2",
         "100",
         "1213",
         "0"
        ],
        [
         "1",
         "15739548",
         "0",
         "22.67",
         "7.0",
         "2",
         "8",
         "4",
         "0.165",
         "0",
         "0",
         "0",
         "0",
         "2",
         "160",
         "1",
         "0"
        ],
        [
         "2",
         "15662854",
         "0",
         "29.58",
         "1.75",
         "1",
         "4",
         "4",
         "1.25",
         "0",
         "0",
         "0",
         "1",
         "2",
         "280",
         "1",
         "0"
        ],
        [
         "3",
         "15687688",
         "0",
         "21.67",
         "11.5",
         "1",
         "5",
         "3",
         "0.0",
         "1",
         "1",
         "11",
         "1",
         "2",
         "0",
         "1",
         "1"
        ],
        [
         "4",
         "15715750",
         "1",
         "20.17",
         "8.17",
         "2",
         "6",
         "4",
         "1.96",
         "1",
         "1",
         "14",
         "0",
         "2",
         "60",
         "159",
         "1"
        ]
       ],
       "shape": {
        "columns": 16,
        "rows": 5
       }
      },
      "text/html": [
       "<div>\n",
       "<style scoped>\n",
       "    .dataframe tbody tr th:only-of-type {\n",
       "        vertical-align: middle;\n",
       "    }\n",
       "\n",
       "    .dataframe tbody tr th {\n",
       "        vertical-align: top;\n",
       "    }\n",
       "\n",
       "    .dataframe thead th {\n",
       "        text-align: right;\n",
       "    }\n",
       "</style>\n",
       "<table border=\"1\" class=\"dataframe\">\n",
       "  <thead>\n",
       "    <tr style=\"text-align: right;\">\n",
       "      <th></th>\n",
       "      <th>CustomerID</th>\n",
       "      <th>A1</th>\n",
       "      <th>A2</th>\n",
       "      <th>A3</th>\n",
       "      <th>A4</th>\n",
       "      <th>A5</th>\n",
       "      <th>A6</th>\n",
       "      <th>A7</th>\n",
       "      <th>A8</th>\n",
       "      <th>A9</th>\n",
       "      <th>A10</th>\n",
       "      <th>A11</th>\n",
       "      <th>A12</th>\n",
       "      <th>A13</th>\n",
       "      <th>A14</th>\n",
       "      <th>Class</th>\n",
       "    </tr>\n",
       "  </thead>\n",
       "  <tbody>\n",
       "    <tr>\n",
       "      <th>0</th>\n",
       "      <td>15776156</td>\n",
       "      <td>1</td>\n",
       "      <td>22.08</td>\n",
       "      <td>11.46</td>\n",
       "      <td>2</td>\n",
       "      <td>4</td>\n",
       "      <td>4</td>\n",
       "      <td>1.585</td>\n",
       "      <td>0</td>\n",
       "      <td>0</td>\n",
       "      <td>0</td>\n",
       "      <td>1</td>\n",
       "      <td>2</td>\n",
       "      <td>100</td>\n",
       "      <td>1213</td>\n",
       "      <td>0</td>\n",
       "    </tr>\n",
       "    <tr>\n",
       "      <th>1</th>\n",
       "      <td>15739548</td>\n",
       "      <td>0</td>\n",
       "      <td>22.67</td>\n",
       "      <td>7.00</td>\n",
       "      <td>2</td>\n",
       "      <td>8</td>\n",
       "      <td>4</td>\n",
       "      <td>0.165</td>\n",
       "      <td>0</td>\n",
       "      <td>0</td>\n",
       "      <td>0</td>\n",
       "      <td>0</td>\n",
       "      <td>2</td>\n",
       "      <td>160</td>\n",
       "      <td>1</td>\n",
       "      <td>0</td>\n",
       "    </tr>\n",
       "    <tr>\n",
       "      <th>2</th>\n",
       "      <td>15662854</td>\n",
       "      <td>0</td>\n",
       "      <td>29.58</td>\n",
       "      <td>1.75</td>\n",
       "      <td>1</td>\n",
       "      <td>4</td>\n",
       "      <td>4</td>\n",
       "      <td>1.250</td>\n",
       "      <td>0</td>\n",
       "      <td>0</td>\n",
       "      <td>0</td>\n",
       "      <td>1</td>\n",
       "      <td>2</td>\n",
       "      <td>280</td>\n",
       "      <td>1</td>\n",
       "      <td>0</td>\n",
       "    </tr>\n",
       "    <tr>\n",
       "      <th>3</th>\n",
       "      <td>15687688</td>\n",
       "      <td>0</td>\n",
       "      <td>21.67</td>\n",
       "      <td>11.50</td>\n",
       "      <td>1</td>\n",
       "      <td>5</td>\n",
       "      <td>3</td>\n",
       "      <td>0.000</td>\n",
       "      <td>1</td>\n",
       "      <td>1</td>\n",
       "      <td>11</td>\n",
       "      <td>1</td>\n",
       "      <td>2</td>\n",
       "      <td>0</td>\n",
       "      <td>1</td>\n",
       "      <td>1</td>\n",
       "    </tr>\n",
       "    <tr>\n",
       "      <th>4</th>\n",
       "      <td>15715750</td>\n",
       "      <td>1</td>\n",
       "      <td>20.17</td>\n",
       "      <td>8.17</td>\n",
       "      <td>2</td>\n",
       "      <td>6</td>\n",
       "      <td>4</td>\n",
       "      <td>1.960</td>\n",
       "      <td>1</td>\n",
       "      <td>1</td>\n",
       "      <td>14</td>\n",
       "      <td>0</td>\n",
       "      <td>2</td>\n",
       "      <td>60</td>\n",
       "      <td>159</td>\n",
       "      <td>1</td>\n",
       "    </tr>\n",
       "  </tbody>\n",
       "</table>\n",
       "</div>"
      ],
      "text/plain": [
       "   CustomerID  A1     A2     A3  A4  A5  A6     A7  A8  A9  A10  A11  A12  \\\n",
       "0    15776156   1  22.08  11.46   2   4   4  1.585   0   0    0    1    2   \n",
       "1    15739548   0  22.67   7.00   2   8   4  0.165   0   0    0    0    2   \n",
       "2    15662854   0  29.58   1.75   1   4   4  1.250   0   0    0    1    2   \n",
       "3    15687688   0  21.67  11.50   1   5   3  0.000   1   1   11    1    2   \n",
       "4    15715750   1  20.17   8.17   2   6   4  1.960   1   1   14    0    2   \n",
       "\n",
       "   A13   A14  Class  \n",
       "0  100  1213      0  \n",
       "1  160     1      0  \n",
       "2  280     1      0  \n",
       "3    0     1      1  \n",
       "4   60   159      1  "
      ]
     },
     "execution_count": 2,
     "metadata": {},
     "output_type": "execute_result"
    }
   ],
   "source": [
    "dataset=pd.read_csv('Credit_Card_Applications.csv')\n",
    "X=dataset.iloc[:,:-1].values  # Predictor attributes\n",
    "Y=dataset.iloc[:,-1].values   # Target attribute\n",
    "\n",
    "dataset.head()"
   ]
  },
  {
   "cell_type": "markdown",
   "metadata": {},
   "source": [
    "#### <font color = blue> Feature Scaling"
   ]
  },
  {
   "cell_type": "code",
   "execution_count": 3,
   "metadata": {},
   "outputs": [
    {
     "data": {
      "text/plain": [
       "array([[8.42681467e-01, 1.00000000e+00, 1.25263158e-01, ...,\n",
       "        5.00000000e-01, 5.00000000e-02, 1.21200000e-02],\n",
       "       [6.96090562e-01, 0.00000000e+00, 1.34135338e-01, ...,\n",
       "        5.00000000e-01, 8.00000000e-02, 0.00000000e+00],\n",
       "       [3.88981656e-01, 0.00000000e+00, 2.38045113e-01, ...,\n",
       "        5.00000000e-01, 1.40000000e-01, 0.00000000e+00],\n",
       "       ...,\n",
       "       [4.39420332e-01, 0.00000000e+00, 7.63909774e-02, ...,\n",
       "        5.00000000e-01, 5.00000000e-02, 0.00000000e+00],\n",
       "       [8.44034934e-01, 0.00000000e+00, 2.05563910e-01, ...,\n",
       "        5.00000000e-01, 6.00000000e-02, 1.10000000e-04],\n",
       "       [1.06907888e-01, 1.00000000e+00, 4.09774436e-01, ...,\n",
       "        0.00000000e+00, 2.80000000e-01, 0.00000000e+00]])"
      ]
     },
     "execution_count": 3,
     "metadata": {},
     "output_type": "execute_result"
    }
   ],
   "source": [
    "from sklearn.preprocessing import MinMaxScaler\n",
    "sc = MinMaxScaler(feature_range= (0,1))\n",
    "X=sc.fit_transform(X)\n",
    "X"
   ]
  },
  {
   "cell_type": "markdown",
   "metadata": {},
   "source": [
    "![Machine Learning Project](https://user-images.githubusercontent.com/7065401/52071927-c1cd7100-2562-11e9-908a-dde91ba14e59.png)"
   ]
  },
  {
   "cell_type": "markdown",
   "metadata": {},
   "source": [
    "## <font color = #950CDF> Part 2: </font> <font color = #4854E8> Building the SOM</font>\n",
    "In this part, we will build the SOM from https://test.pypi.org/project/MiniSom/1.0/"
   ]
  },
  {
   "cell_type": "markdown",
   "metadata": {},
   "source": [
    "![ML](https://user-images.githubusercontent.com/7065401/52071924-c003ad80-2562-11e9-8297-1c6595f8a7ff.png)"
   ]
  },
  {
   "cell_type": "markdown",
   "metadata": {},
   "source": [
    "#### <font color = blue>Import the SOM Model"
   ]
  },
  {
   "cell_type": "code",
   "execution_count": 4,
   "metadata": {},
   "outputs": [],
   "source": [
    "from minisom import MiniSom"
   ]
  },
  {
   "cell_type": "markdown",
   "metadata": {},
   "source": [
    "#### <font color = blue>Init the Model"
   ]
  },
  {
   "cell_type": "code",
   "execution_count": 5,
   "metadata": {},
   "outputs": [],
   "source": [
    "som =MiniSom(x=10 ,y=10 ,input_len=15, sigma=1.0 , learning_rate=0.5)"
   ]
  },
  {
   "cell_type": "markdown",
   "metadata": {},
   "source": [
    "#### <font color = blue> Randomly Initialize the Weight of Visible Nodes"
   ]
  },
  {
   "cell_type": "code",
   "execution_count": 6,
   "metadata": {},
   "outputs": [],
   "source": [
    "som.random_weights_init(X)"
   ]
  },
  {
   "cell_type": "markdown",
   "metadata": {},
   "source": [
    "#### <font color = blue> Train the Model on Predictor Attributes"
   ]
  },
  {
   "cell_type": "code",
   "execution_count": 7,
   "metadata": {},
   "outputs": [],
   "source": [
    "som.train_random(data=X, num_iteration=100)"
   ]
  },
  {
   "cell_type": "markdown",
   "metadata": {},
   "source": [
    "![Machine Learning Project](https://user-images.githubusercontent.com/7065401/52071927-c1cd7100-2562-11e9-908a-dde91ba14e59.png)"
   ]
  },
  {
   "cell_type": "markdown",
   "metadata": {},
   "source": [
    "## <font color = #950CDF> Part 3: </font> <font color = #4854E8> Visualize the SOM and Find the Cheat Customers</font>"
   ]
  },
  {
   "cell_type": "markdown",
   "metadata": {},
   "source": [
    "![ML](https://user-images.githubusercontent.com/7065401/52071924-c003ad80-2562-11e9-8297-1c6595f8a7ff.png)"
   ]
  },
  {
   "cell_type": "markdown",
   "metadata": {},
   "source": [
    "#### <font color = blue> Visualizing the results"
   ]
  },
  {
   "cell_type": "code",
   "execution_count": 8,
   "metadata": {},
   "outputs": [
    {
     "data": {
      "image/png": "[encoded data removed]",
      "text/plain": [
       "<Figure size 640x480 with 2 Axes>"
      ]
     },
     "metadata": {},
     "output_type": "display_data"
    }
   ],
   "source": [
    "from pylab import bone,pcolor, colorbar ,plot , show\n",
    "bone()\n",
    "pcolor(som.distance_map().T)\n",
    "colorbar()\n",
    "markers = ['o', 's']\n",
    "colors=['r','g']\n",
    "for i,x in enumerate(X):\n",
    "    w = som.winner(x)\n",
    "    plot(w[0]+0.5,\n",
    "         w[1]+0.5,\n",
    "        markers[Y[i]],\n",
    "        markeredgecolor = colors[Y[i]],\n",
    "        markerfacecolor = 'None',\n",
    "        markersize = 10,\n",
    "        markeredgewidth = 2)\n",
    "show()"
   ]
  },
  {
   "cell_type": "markdown",
   "metadata": {},
   "source": [
    "#### <font color = blue> Find the Cheat Customers"
   ]
  },
  {
   "cell_type": "code",
   "execution_count": 9,
   "metadata": {},
   "outputs": [
    {
     "data": {
      "text/plain": [
       "array([[1.5591552e+07, 1.0000000e+00, 3.5170000e+01, 2.5000000e+00,\n",
       "        2.0000000e+00, 4.0000000e+00, 4.0000000e+00, 4.5000000e+00,\n",
       "        1.0000000e+00, 1.0000000e+00, 7.0000000e+00, 0.0000000e+00,\n",
       "        2.0000000e+00, 1.5000000e+02, 1.2710000e+03],\n",
       "       [1.5591360e+07, 1.0000000e+00, 4.8250000e+01, 2.5085000e+01,\n",
       "        2.0000000e+00, 9.0000000e+00, 4.0000000e+00, 1.7500000e+00,\n",
       "        1.0000000e+00, 1.0000000e+00, 3.0000000e+00, 0.0000000e+00,\n",
       "        2.0000000e+00, 1.2000000e+02, 1.5000000e+01],\n",
       "       [1.5598266e+07, 1.0000000e+00, 3.1670000e+01, 1.6165000e+01,\n",
       "        2.0000000e+00, 2.0000000e+00, 4.0000000e+00, 3.0000000e+00,\n",
       "        1.0000000e+00, 1.0000000e+00, 9.0000000e+00, 0.0000000e+00,\n",
       "        2.0000000e+00, 2.5000000e+02, 7.3100000e+02],\n",
       "       [1.5593694e+07, 1.0000000e+00, 5.5920000e+01, 1.1500000e+01,\n",
       "        2.0000000e+00, 1.0000000e+00, 1.0000000e+00, 5.0000000e+00,\n",
       "        1.0000000e+00, 1.0000000e+00, 5.0000000e+00, 0.0000000e+00,\n",
       "        2.0000000e+00, 0.0000000e+00, 8.8520000e+03],\n",
       "       [1.5568819e+07, 1.0000000e+00, 3.1330000e+01, 1.9500000e+01,\n",
       "        2.0000000e+00, 8.0000000e+00, 4.0000000e+00, 7.0000000e+00,\n",
       "        1.0000000e+00, 1.0000000e+00, 1.6000000e+01, 0.0000000e+00,\n",
       "        2.0000000e+00, 0.0000000e+00, 5.0010000e+03],\n",
       "       [1.5571415e+07, 1.0000000e+00, 3.7580000e+01, 0.0000000e+00,\n",
       "        2.0000000e+00, 8.0000000e+00, 4.0000000e+00, 0.0000000e+00,\n",
       "        0.0000000e+00, 0.0000000e+00, 0.0000000e+00, 0.0000000e+00,\n",
       "        3.0000000e+00, 1.8400000e+02, 1.0000000e+00],\n",
       "       [1.5699340e+07, 1.0000000e+00, 2.3170000e+01, 0.0000000e+00,\n",
       "        2.0000000e+00, 8.0000000e+00, 4.0000000e+00, 0.0000000e+00,\n",
       "        0.0000000e+00, 0.0000000e+00, 0.0000000e+00, 0.0000000e+00,\n",
       "        3.0000000e+00, 1.8400000e+02, 1.0000000e+00],\n",
       "       [1.5644400e+07, 1.0000000e+00, 3.4580000e+01, 0.0000000e+00,\n",
       "        2.0000000e+00, 8.0000000e+00, 4.0000000e+00, 0.0000000e+00,\n",
       "        0.0000000e+00, 0.0000000e+00, 0.0000000e+00, 0.0000000e+00,\n",
       "        3.0000000e+00, 1.8400000e+02, 1.0000000e+00],\n",
       "       [1.5684440e+07, 1.0000000e+00, 3.3670000e+01, 2.1650000e+00,\n",
       "        2.0000000e+00, 8.0000000e+00, 4.0000000e+00, 1.5000000e+00,\n",
       "        0.0000000e+00, 0.0000000e+00, 0.0000000e+00, 0.0000000e+00,\n",
       "        3.0000000e+00, 1.2000000e+02, 1.0000000e+00],\n",
       "       [1.5636626e+07, 1.0000000e+00, 6.2750000e+01, 7.0000000e+00,\n",
       "        2.0000000e+00, 1.0000000e+01, 9.0000000e+00, 0.0000000e+00,\n",
       "        0.0000000e+00, 0.0000000e+00, 0.0000000e+00, 0.0000000e+00,\n",
       "        2.0000000e+00, 0.0000000e+00, 1.3000000e+01]])"
      ]
     },
     "execution_count": 9,
     "metadata": {},
     "output_type": "execute_result"
    }
   ],
   "source": [
    "mappings = som.win_map(X)\n",
    "frauds=np.concatenate((mappings[(5,1)],mappings[(6,2)]), axis=0)\n",
    "frauds = sc.inverse_transform(frauds)\n",
    "frauds"
   ]
  },
  {
   "cell_type": "markdown",
   "metadata": {},
   "source": [
    "![Machine Learning Project](https://user-images.githubusercontent.com/7065401/52071927-c1cd7100-2562-11e9-908a-dde91ba14e59.png)"
   ]
  },
  {
   "cell_type": "markdown",
   "metadata": {},
   "source": [
    "<b>©</b>Amir Ali"
   ]
  }
 ],
 "metadata": {
  "kernelspec": {
   "display_name": ".venv",
   "language": "python",
   "name": "python3"
  },
  "language_info": {
   "codemirror_mode": {
    "name": "ipython",
    "version": 3
   },
   "file_extension": ".py",
   "mimetype": "text/x-python",
   "name": "python",
   "nbconvert_exporter": "python",
   "pygments_lexer": "ipython3",
   "version": "3.11.7"
  }
 },
 "nbformat": 4,
 "nbformat_minor": 2
}
