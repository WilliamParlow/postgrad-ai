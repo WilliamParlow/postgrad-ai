{
  "cells": [
    {
      "cell_type": "code",
      "execution_count": 2,
      "metadata": {
        "colab": {
          "base_uri": "https://localhost:8080/"
        },
        "id": "-cRc6mFkmkdY",
        "outputId": "535e6bb2-4473-4258-c292-7c36b28ce591"
      },
      "outputs": [
        {
          "name": "stdout",
          "output_type": "stream",
          "text": [
            "[[5.1 3.5 1.4 0.2]\n",
            " [4.9 3.  1.4 0.2]\n",
            " [4.7 3.2 1.3 0.2]\n",
            " [4.6 3.1 1.5 0.2]\n",
            " [5.  3.6 1.4 0.2]\n",
            " [5.4 3.9 1.7 0.4]\n",
            " [4.6 3.4 1.4 0.3]\n",
            " [5.  3.4 1.5 0.2]\n",
            " [4.4 2.9 1.4 0.2]\n",
            " [4.9 3.1 1.5 0.1]\n",
            " [5.4 3.7 1.5 0.2]\n",
            " [4.8 3.4 1.6 0.2]\n",
            " [4.8 3.  1.4 0.1]\n",
            " [4.3 3.  1.1 0.1]\n",
            " [5.8 4.  1.2 0.2]\n",
            " [5.7 4.4 1.5 0.4]\n",
            " [5.4 3.9 1.3 0.4]\n",
            " [5.1 3.5 1.4 0.3]\n",
            " [5.7 3.8 1.7 0.3]\n",
            " [5.1 3.8 1.5 0.3]\n",
            " [5.4 3.4 1.7 0.2]\n",
            " [5.1 3.7 1.5 0.4]\n",
            " [4.6 3.6 1.  0.2]\n",
            " [5.1 3.3 1.7 0.5]\n",
            " [4.8 3.4 1.9 0.2]\n",
            " [5.  3.  1.6 0.2]\n",
            " [5.  3.4 1.6 0.4]\n",
            " [5.2 3.5 1.5 0.2]\n",
            " [5.2 3.4 1.4 0.2]\n",
            " [4.7 3.2 1.6 0.2]\n",
            " [4.8 3.1 1.6 0.2]\n",
            " [5.4 3.4 1.5 0.4]\n",
            " [5.2 4.1 1.5 0.1]\n",
            " [5.5 4.2 1.4 0.2]\n",
            " [4.9 3.1 1.5 0.2]\n",
            " [5.  3.2 1.2 0.2]\n",
            " [5.5 3.5 1.3 0.2]\n",
            " [4.9 3.6 1.4 0.1]\n",
            " [4.4 3.  1.3 0.2]\n",
            " [5.1 3.4 1.5 0.2]\n",
            " [5.  3.5 1.3 0.3]\n",
            " [4.5 2.3 1.3 0.3]\n",
            " [4.4 3.2 1.3 0.2]\n",
            " [5.  3.5 1.6 0.6]\n",
            " [5.1 3.8 1.9 0.4]\n",
            " [4.8 3.  1.4 0.3]\n",
            " [5.1 3.8 1.6 0.2]\n",
            " [4.6 3.2 1.4 0.2]\n",
            " [5.3 3.7 1.5 0.2]\n",
            " [5.  3.3 1.4 0.2]\n",
            " [7.  3.2 4.7 1.4]\n",
            " [6.4 3.2 4.5 1.5]\n",
            " [6.9 3.1 4.9 1.5]\n",
            " [5.5 2.3 4.  1.3]\n",
            " [6.5 2.8 4.6 1.5]\n",
            " [5.7 2.8 4.5 1.3]\n",
            " [6.3 3.3 4.7 1.6]\n",
            " [4.9 2.4 3.3 1. ]\n",
            " [6.6 2.9 4.6 1.3]\n",
            " [5.2 2.7 3.9 1.4]\n",
            " [5.  2.  3.5 1. ]\n",
            " [5.9 3.  4.2 1.5]\n",
            " [6.  2.2 4.  1. ]\n",
            " [6.1 2.9 4.7 1.4]\n",
            " [5.6 2.9 3.6 1.3]\n",
            " [6.7 3.1 4.4 1.4]\n",
            " [5.6 3.  4.5 1.5]\n",
            " [5.8 2.7 4.1 1. ]\n",
            " [6.2 2.2 4.5 1.5]\n",
            " [5.6 2.5 3.9 1.1]\n",
            " [5.9 3.2 4.8 1.8]\n",
            " [6.1 2.8 4.  1.3]\n",
            " [6.3 2.5 4.9 1.5]\n",
            " [6.1 2.8 4.7 1.2]\n",
            " [6.4 2.9 4.3 1.3]\n",
            " [6.6 3.  4.4 1.4]\n",
            " [6.8 2.8 4.8 1.4]\n",
            " [6.7 3.  5.  1.7]\n",
            " [6.  2.9 4.5 1.5]\n",
            " [5.7 2.6 3.5 1. ]\n",
            " [5.5 2.4 3.8 1.1]\n",
            " [5.5 2.4 3.7 1. ]\n",
            " [5.8 2.7 3.9 1.2]\n",
            " [6.  2.7 5.1 1.6]\n",
            " [5.4 3.  4.5 1.5]\n",
            " [6.  3.4 4.5 1.6]\n",
            " [6.7 3.1 4.7 1.5]\n",
            " [6.3 2.3 4.4 1.3]\n",
            " [5.6 3.  4.1 1.3]\n",
            " [5.5 2.5 4.  1.3]\n",
            " [5.5 2.6 4.4 1.2]\n",
            " [6.1 3.  4.6 1.4]\n",
            " [5.8 2.6 4.  1.2]\n",
            " [5.  2.3 3.3 1. ]\n",
            " [5.6 2.7 4.2 1.3]\n",
            " [5.7 3.  4.2 1.2]\n",
            " [5.7 2.9 4.2 1.3]\n",
            " [6.2 2.9 4.3 1.3]\n",
            " [5.1 2.5 3.  1.1]\n",
            " [5.7 2.8 4.1 1.3]\n",
            " [6.3 3.3 6.  2.5]\n",
            " [5.8 2.7 5.1 1.9]\n",
            " [7.1 3.  5.9 2.1]\n",
            " [6.3 2.9 5.6 1.8]\n",
            " [6.5 3.  5.8 2.2]\n",
            " [7.6 3.  6.6 2.1]\n",
            " [4.9 2.5 4.5 1.7]\n",
            " [7.3 2.9 6.3 1.8]\n",
            " [6.7 2.5 5.8 1.8]\n",
            " [7.2 3.6 6.1 2.5]\n",
            " [6.5 3.2 5.1 2. ]\n",
            " [6.4 2.7 5.3 1.9]\n",
            " [6.8 3.  5.5 2.1]\n",
            " [5.7 2.5 5.  2. ]\n",
            " [5.8 2.8 5.1 2.4]\n",
            " [6.4 3.2 5.3 2.3]\n",
            " [6.5 3.  5.5 1.8]\n",
            " [7.7 3.8 6.7 2.2]\n",
            " [7.7 2.6 6.9 2.3]\n",
            " [6.  2.2 5.  1.5]\n",
            " [6.9 3.2 5.7 2.3]\n",
            " [5.6 2.8 4.9 2. ]\n",
            " [7.7 2.8 6.7 2. ]\n",
            " [6.3 2.7 4.9 1.8]\n",
            " [6.7 3.3 5.7 2.1]\n",
            " [7.2 3.2 6.  1.8]\n",
            " [6.2 2.8 4.8 1.8]\n",
            " [6.1 3.  4.9 1.8]\n",
            " [6.4 2.8 5.6 2.1]\n",
            " [7.2 3.  5.8 1.6]\n",
            " [7.4 2.8 6.1 1.9]\n",
            " [7.9 3.8 6.4 2. ]\n",
            " [6.4 2.8 5.6 2.2]\n",
            " [6.3 2.8 5.1 1.5]\n",
            " [6.1 2.6 5.6 1.4]\n",
            " [7.7 3.  6.1 2.3]\n",
            " [6.3 3.4 5.6 2.4]\n",
            " [6.4 3.1 5.5 1.8]\n",
            " [6.  3.  4.8 1.8]\n",
            " [6.9 3.1 5.4 2.1]\n",
            " [6.7 3.1 5.6 2.4]\n",
            " [6.9 3.1 5.1 2.3]\n",
            " [5.8 2.7 5.1 1.9]\n",
            " [6.8 3.2 5.9 2.3]\n",
            " [6.7 3.3 5.7 2.5]\n",
            " [6.7 3.  5.2 2.3]\n",
            " [6.3 2.5 5.  1.9]\n",
            " [6.5 3.  5.2 2. ]\n",
            " [6.2 3.4 5.4 2.3]\n",
            " [5.9 3.  5.1 1.8]]\n",
            "[0 0 0 0 0 0 0 0 0 0 0 0 0 0 0 0 0 0 0 0 0 0 0 0 0 0 0 0 0 0 0 0 0 0 0 0 0\n",
            " 0 0 0 0 0 0 0 0 0 0 0 0 0 1 1 1 1 1 1 1 1 1 1 1 1 1 1 1 1 1 1 1 1 1 1 1 1\n",
            " 1 1 1 1 1 1 1 1 1 1 1 1 1 1 1 1 1 1 1 1 1 1 1 1 1 1 2 2 2 2 2 2 2 2 2 2 2\n",
            " 2 2 2 2 2 2 2 2 2 2 2 2 2 2 2 2 2 2 2 2 2 2 2 2 2 2 2 2 2 2 2 2 2 2 2 2 2\n",
            " 2 2]\n"
          ]
        }
      ],
      "source": [
        "from sklearn.datasets import load_iris\n",
        "\n",
        "iris_dataset = load_iris()\n",
        "\n",
        "X = iris_dataset['data']\n",
        "y = iris_dataset['target']\n",
        "\n",
        "print(X)\n",
        "print(y)\n",
        "\n",
        "nome_das_classes = iris_dataset.target_names\n",
        "\n",
        "#print(nome_das_classes)\n",
        "#print(iris_dataset.feature_names)\n",
        "#print(type(iris_dataset))\n",
        "#print(iris_dataset)\n"
      ]
    },
    {
      "cell_type": "markdown",
      "metadata": {
        "id": "azr6sn1yrSiC"
      },
      "source": [
        "Criando um Pipeline"
      ]
    },
    {
      "cell_type": "code",
      "execution_count": null,
      "metadata": {
        "id": "dgBR95SErRsl"
      },
      "outputs": [],
      "source": [
        "from sklearn.pipeline import Pipeline\n",
        "from sklearn.preprocessing import MinMaxScaler\n",
        "from sklearn.neural_network import MLPClassifier\n",
        "\n",
        "MLP_pipeline = Pipeline(steps=[\n",
        "  (\"Normalizacao\", MinMaxScaler()),\n",
        "  (\"MLP\", MLPClassifier())\n",
        "])"
      ]
    },
    {
      "cell_type": "markdown",
      "metadata": {
        "id": "Lcp0o6vtnDq2"
      },
      "source": [
        "Executando o mesmo pipeline multiplas vezes"
      ]
    },
    {
      "cell_type": "code",
      "execution_count": null,
      "metadata": {
        "colab": {
          "base_uri": "https://localhost:8080/"
        },
        "id": "EE5W7rgRmqvl",
        "outputId": "a64bb4fd-8be1-4112-e2b9-231e0e87d810"
      },
      "outputs": [],
      "source": [
        "from sklearn.model_selection import train_test_split\n",
        "import numpy as np\n",
        "N = 10\n",
        "acuracias = list()\n",
        "for i in range(N):\n",
        "    X_treino, X_teste, y_treino, y_teste = train_test_split(X, y, test_size=0.3, shuffle=True)\n",
        "    MLP_pipeline.fit(X_treino, y_treino)\n",
        "    ac_i = MLP_pipeline.score(X_teste, y_teste)\n",
        "    acuracias.append(ac_i)\n",
        "\n",
        "print(\"Acurácia:\")\n",
        "print(acuracias)\n",
        "print(f\"Media: {round(np.mean(acuracias) * 100, 1)}%\")\n",
        "print(f\"Desvio padrão: {round(np.std(acuracias) * 100, 1)}%\")"
      ]
    },
    {
      "cell_type": "markdown",
      "metadata": {
        "id": "FdoARYQPm8vc"
      },
      "source": [
        "Usando cross_val_score"
      ]
    },
    {
      "cell_type": "code",
      "execution_count": null,
      "metadata": {
        "colab": {
          "base_uri": "https://localhost:8080/"
        },
        "id": "slEjkfhkm0f_",
        "outputId": "18d6164a-d25c-401b-bc84-ece73fab822d"
      },
      "outputs": [],
      "source": [
        "from sklearn.model_selection import cross_val_score\n",
        "acuracias = cross_val_score(MLP_pipeline, X, y, cv=5)\n",
        "print(\"Acurácias:\", acuracias)\n",
        "print(\"Acurácia final:\", np.mean(acuracias))\n",
        "print(\"Desvio Padrão:\", np.std(acuracias))\n",
        "\n",
        "# Exemplo da definição do tipo de métrica para retorno\n",
        "acuraciasB = cross_val_score(MLP_pipeline, X, y, cv=5, scoring=\"balanced_accuracy\")\n",
        "print(\"\\nAcurácias Balanceadas:\", acuraciasB)\n",
        "print(\"Acurácia Balanceada Final:\", np.mean(acuraciasB))\n",
        "print(\"Desvio Padrão:\", np.std(acuraciasB))"
      ]
    },
    {
      "cell_type": "markdown",
      "metadata": {
        "id": "zwJFw9GqrbtF"
      },
      "source": [
        "Usando cross_validate"
      ]
    },
    {
      "cell_type": "code",
      "execution_count": null,
      "metadata": {
        "colab": {
          "base_uri": "https://localhost:8080/"
        },
        "id": "jYYFL6QorcSV",
        "outputId": "3d1142a2-932e-4b8e-b4fd-0aafe63addff"
      },
      "outputs": [],
      "source": [
        "from sklearn.model_selection import cross_validate\n",
        "nome_metricas = ['accuracy', 'precision_macro', 'recall_macro']\n",
        "metricas = cross_validate(MLP_pipeline, X, y, cv=5, scoring=nome_metricas)\n",
        "for met in metricas:\n",
        "    print(f\"- {met}:\")\n",
        "    print(f\"-- {metricas[met]}\")\n",
        "    print(f\"-- {np.mean(metricas[met])} +- {np.std(metricas[met])}\\n\")"
      ]
    },
    {
      "cell_type": "markdown",
      "metadata": {
        "id": "NqBc_AVDsh59"
      },
      "source": [
        "Gerando predições via cross_val_predict"
      ]
    },
    {
      "cell_type": "code",
      "execution_count": null,
      "metadata": {
        "colab": {
          "base_uri": "https://localhost:8080/"
        },
        "id": "VwiCsORRsmAo",
        "outputId": "2c3095e9-3ee5-4644-d8ac-32ee50a47d1e"
      },
      "outputs": [],
      "source": [
        "from sklearn.model_selection import cross_val_predict\n",
        "pred = cross_val_predict(MLP_pipeline, X, y, cv=5)\n",
        "print(pred)"
      ]
    },
    {
      "cell_type": "markdown",
      "metadata": {
        "id": "vApieOaU4UXu"
      },
      "source": [
        "Uso do GridSearchCV"
      ]
    },
    {
      "cell_type": "code",
      "execution_count": null,
      "metadata": {
        "colab": {
          "base_uri": "https://localhost:8080/"
        },
        "id": "gPFtpCjL4U2w",
        "outputId": "d33ca377-90ae-422b-9ec2-4e98978992b2"
      },
      "outputs": [],
      "source": [
        "from sklearn.model_selection import GridSearchCV\n",
        "from sklearn.preprocessing import StandardScaler\n",
        "\n",
        "\n",
        "# Divisão dos dados em treino e teste\n",
        "X_train, X_test, y_train, y_test = train_test_split(X, y, test_size=0.2, random_state=42)\n",
        "\n",
        "# Definição do Pipeline\n",
        "pipeline = Pipeline([\n",
        "    ('normalizacao', MinMaxScaler()),      # Escalonamento dos dados\n",
        "    ('mlp', MLPClassifier(max_iter=5000))  # Classificador MLP\n",
        "])\n",
        "\n",
        "# Parâmetros para o GridSearchCV\n",
        "param_grid = {\n",
        "    'mlp__hidden_layer_sizes': [(10,), (20,), (10,10)], # Configurações das camadas ocultas\n",
        "    'mlp__activation': ['relu', 'tanh'],                 # Funções de ativação\n",
        "    'mlp__solver': ['adam', 'sgd'],                      # Otimizadores\n",
        "    'mlp__learning_rate': ['constant', 'adaptive']       # Taxa de aprendizado\n",
        "}\n",
        "\n",
        "# Criação do GridSearchCV\n",
        "grid_search = GridSearchCV(pipeline, param_grid, cv=3)\n",
        "\n",
        "# Ajuste do modelo\n",
        "grid_search.fit(X_train, y_train)\n",
        "\n",
        "# Melhor combinação de hiperparâmetros\n",
        "print(f\"Melhores parâmetros: {grid_search.best_params_}\")\n",
        "\n",
        "# Avaliação do modelo\n",
        "score = grid_search.score(X_test, y_test)\n",
        "print(f\"Acurácia no conjunto de teste: {score}\")\n"
      ]
    },
    {
      "cell_type": "markdown",
      "metadata": {
        "id": "0K-xbXLDmQVn"
      },
      "source": [
        "Testando com o GridSearchCV sem Pipeline - Ideal para pequenas grades de hiperparâmetros, pois testa todas as combinações possíveis."
      ]
    },
    {
      "cell_type": "code",
      "execution_count": null,
      "metadata": {
        "colab": {
          "base_uri": "https://localhost:8080/"
        },
        "id": "HW5-VMiakq7K",
        "outputId": "9c49ee76-5347-4c11-c5bf-3140083aa66c"
      },
      "outputs": [],
      "source": [
        "# Definir a grade de hiperparâmetros\n",
        "param_grid = {\n",
        "    'hidden_layer_sizes': [(10,), (20,)],\n",
        "    'activation': ['relu', 'tanh'],\n",
        "    'solver': ['adam', 'sgd'],\n",
        "    'alpha': [0.0001, 0.001, 0.01],\n",
        "    'learning_rate': ['constant', 'adaptive']\n",
        "}\n",
        "\n",
        "# Configurar GridSearchCV\n",
        "grid_search = GridSearchCV(MLPClassifier(max_iter=5000), param_grid, cv=3)\n",
        "grid_search.fit(X_train, y_train)\n",
        "\n",
        "# Exibir os melhores parâmetros e desempenho\n",
        "print(\"Melhores parâmetros:\", grid_search.best_params_)\n",
        "print(\"Acurácia:\", grid_search.best_score_)"
      ]
    },
    {
      "cell_type": "markdown",
      "metadata": {
        "id": "yB-yIsqClysE"
      },
      "source": [
        "Testando com o RandomizedSearchCV sem Pipeline - Mais eficiente em termos de tempo para grades grandes, pois testa apenas uma amostra aleatória das combinações."
      ]
    },
    {
      "cell_type": "code",
      "execution_count": null,
      "metadata": {
        "colab": {
          "base_uri": "https://localhost:8080/"
        },
        "id": "G_6oxDl3lXLl",
        "outputId": "12cddb55-dba1-4889-9391-f02e6f56240b"
      },
      "outputs": [],
      "source": [
        "from sklearn.model_selection import RandomizedSearchCV\n",
        "from scipy.stats import uniform\n",
        "\n",
        "# Definir o espaço de busca aleatória\n",
        "param_dist = {\n",
        "    'hidden_layer_sizes': [(10,), (20,)],\n",
        "    'activation': ['relu', 'tanh'],\n",
        "    'solver': ['adam', 'sgd'],\n",
        "    'alpha': [0.0001, 0.001, 0.01],\n",
        "    'learning_rate': ['constant', 'adaptive']\n",
        "}\n",
        "\n",
        "# Configurar RandomizedSearchCV\n",
        "random_search = RandomizedSearchCV(MLPClassifier(max_iter=5000), param_dist, cv=3, n_iter=20)\n",
        "random_search.fit(X_train, y_train)\n",
        "\n",
        "# Exibir os melhores parâmetros encontrados\n",
        "print(\"Melhores parâmetros:\", random_search.best_params_)\n",
        "print(\"Acurácia:\", random_search.best_score_)"
      ]
    }
  ],
  "metadata": {
    "colab": {
      "provenance": []
    },
    "kernelspec": {
      "display_name": ".venv",
      "language": "python",
      "name": "python3"
    },
    "language_info": {
      "codemirror_mode": {
        "name": "ipython",
        "version": 3
      },
      "file_extension": ".py",
      "mimetype": "text/x-python",
      "name": "python",
      "nbconvert_exporter": "python",
      "pygments_lexer": "ipython3",
      "version": "3.11.7"
    }
  },
  "nbformat": 4,
  "nbformat_minor": 0
}
