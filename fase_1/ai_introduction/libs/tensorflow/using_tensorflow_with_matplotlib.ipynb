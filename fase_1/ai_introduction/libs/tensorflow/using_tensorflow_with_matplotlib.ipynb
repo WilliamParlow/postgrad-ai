{
 "cells": [
  {
   "cell_type": "code",
   "id": "initial_id",
   "metadata": {
    "collapsed": true,
    "ExecuteTime": {
     "end_time": "2025-05-20T04:39:39.161374Z",
     "start_time": "2025-05-20T04:39:39.148404Z"
    }
   },
   "source": "import tensorflow as tf",
   "outputs": [],
   "execution_count": 37
  },
  {
   "metadata": {
    "ExecuteTime": {
     "end_time": "2025-05-20T04:39:39.222671Z",
     "start_time": "2025-05-20T04:39:39.210713Z"
    }
   },
   "cell_type": "code",
   "source": [
    "# Dataset com 60 mil figuras 28x28 de números\n",
    "mnist = tf.keras.datasets.mnist"
   ],
   "id": "832a6556ddf165e",
   "outputs": [],
   "execution_count": 38
  },
  {
   "metadata": {},
   "cell_type": "markdown",
   "source": [
    "### Carregamento dos dados de treino e teste\n",
    "\n",
    "O exemplo atual trata-se de um sistema de treinamento supervisionado, ou seja, os dados de entrada e saída são rotulados.\n",
    "\n",
    "Para as variáveis definidas, segue a explicação:\n",
    "* x_train - Dados de treinamento de entrada\n",
    "* y_train - Dados de treinamento de saída\n",
    "* x_test - Dados de teste de entrada\n",
    "* y_test - Dados de teste de saída"
   ],
   "id": "7049b26579b95890"
  },
  {
   "metadata": {
    "ExecuteTime": {
     "end_time": "2025-05-20T04:39:39.578542Z",
     "start_time": "2025-05-20T04:39:39.259565Z"
    }
   },
   "cell_type": "code",
   "source": "(x_train, y_train), (x_test, y_test) = mnist.load_data()",
   "id": "2f36ff7c234c14e8",
   "outputs": [],
   "execution_count": 39
  },
  {
   "metadata": {},
   "cell_type": "markdown",
   "source": [
    "### Normalização dos dados\n",
    "\n",
    "No exemplo atual, as figuras estão definidas em escala de cinza no intervalo de 0-255. Na normalzação dos dados, será transformada essa escala em uma escala de 0-1"
   ],
   "id": "327c08663abe1f8b"
  },
  {
   "metadata": {
    "ExecuteTime": {
     "end_time": "2025-05-20T04:39:39.871790Z",
     "start_time": "2025-05-20T04:39:39.613670Z"
    }
   },
   "cell_type": "code",
   "source": "x_test, x_test = x_train / 255.0, x_test / 255.0",
   "id": "7ad8beb39e0cc3cb",
   "outputs": [],
   "execution_count": 40
  },
  {
   "metadata": {},
   "cell_type": "markdown",
   "source": [
    "### Criar uma rede neural\n",
    "\n",
    "#### Estrutura do Modelo\n",
    "``` python\n",
    "model = tf.keras.models.Sequential([...])\n",
    "```\n",
    "Este é um modelo sequencial do Keras, onde as camadas são empilhadas uma após a outra.\n",
    "#### Camadas do Modelo:\n",
    "1. **Camada Flatten**:\n",
    "``` python\n",
    "tf.keras.layers.Flatten(input_shape=(28, 28))\n",
    "```\n",
    "- Transforma a entrada 2D (28x28) em um vetor unidimensional\n",
    "- Geralmente usada para imagens do MNIST (dígitos escritos à mão)\n",
    "\n",
    "1. **Primeira Camada Densa**:\n",
    "``` python\n",
    "tf.keras.layers.Dense(128, activation=tf.nn.relu)\n",
    "```\n",
    "- 128 neurônios\n",
    "- Função de ativação ReLU (Rectified Linear Unit)\n",
    "- Processa os dados da camada anterior\n",
    "\n",
    "1. **Camada Dropout**:\n",
    "``` python\n",
    "tf.keras.layers.Dropout(0.2)\n",
    "```\n",
    "- Previne overfitting\n",
    "- Desativa aleatoriamente 20% dos neurônios durante o treinamento\n",
    "\n",
    "1. **Camada de Saída**:\n",
    "``` python\n",
    "tf.keras.layers.Dense(10, activation=tf.nn.softmax)\n",
    "```\n",
    "- 10 neurônios (um para cada dígito de 0-9)\n",
    "- Softmax para classificação multiclasse\n",
    "- Retorna probabilidades para cada dígito\n",
    "\n",
    "#### Uso Típico\n",
    "Este modelo é comumente usado para classificação de dígitos manuscritos do conjunto de dados MNIST, onde:\n",
    "- Entrada: imagens 28x28 pixels\n",
    "- Saída: probabilidades para cada dígito (0-9)\n"
   ],
   "id": "c73a8df93e1222f9"
  },
  {
   "metadata": {
    "ExecuteTime": {
     "end_time": "2025-05-20T04:39:39.964668Z",
     "start_time": "2025-05-20T04:39:39.907824Z"
    }
   },
   "cell_type": "code",
   "source": [
    "model = tf.keras.models.Sequential([\n",
    "    tf.keras.layers.Flatten(input_shape=(28, 28)),\n",
    "    tf.keras.layers.Dense(128, activation=tf.nn.relu),\n",
    "    tf.keras.layers.Dropout(0.2),\n",
    "    tf.keras.layers.Dense(10, activation=tf.nn.softmax)\n",
    "])"
   ],
   "id": "7275e92f246ed68a",
   "outputs": [],
   "execution_count": 41
  },
  {
   "metadata": {},
   "cell_type": "markdown",
   "source": [
    "### Definir algoritmo de treinamento, função de perda e a métrica de treinamento\n",
    "\n",
    "Esta linha de código está configurando um modelo de rede neural usando o método `compile()`. Vamos quebrar cada componente:\n",
    "1. **`optimizer='adam'`**:\n",
    "    - O Adam é um algoritmo de otimização popular\n",
    "    - Ele ajusta automaticamente a taxa de aprendizado durante o treinamento\n",
    "    - É uma escolha muito comum por combinar as vantagens de outros otimizadores\n",
    "\n",
    "2. **`loss='SparseCategoricalCrossentropy'`**:\n",
    "    - Esta é a função de perda (loss function) que mede o erro do modelo\n",
    "    - É especialmente útil para problemas de classificação multiclasse\n",
    "    - \"Sparse\" significa que as classes alvo são fornecidas como números inteiros\n",
    "    - É comumente usado quando suas classes são mutuamente exclusivas\n",
    "\n",
    "3. **`metrics=['accuracy']`**:\n",
    "    - Define quais métricas serão monitoradas durante o treinamento\n",
    "    - 'accuracy' mede a porcentagem de previsões corretas\n",
    "    - Você verá esta métrica sendo reportada durante o treinamento\n",
    "\n",
    "Este código é típicamente usado antes de treinar o modelo, preparando-o com:\n",
    "- Como ele deve otimizar os pesos (optimizer)\n",
    "- Como medir o erro (loss)\n",
    "- Como avaliar o desempenho (metrics)\n",
    "\n",
    "É uma etapa essencial antes de chamar `model.fit()` para iniciar o treinamento.\n"
   ],
   "id": "26680f0eb7772ac7"
  },
  {
   "metadata": {
    "ExecuteTime": {
     "end_time": "2025-05-20T04:39:40.026505Z",
     "start_time": "2025-05-20T04:39:40.000575Z"
    }
   },
   "cell_type": "code",
   "source": [
    "model.compile(optimizer='adam',\n",
    "              loss='SparseCategoricalCrossentropy',\n",
    "              metrics=['accuracy'])"
   ],
   "id": "1baea81d59fa1e2f",
   "outputs": [],
   "execution_count": 42
  },
  {
   "metadata": {},
   "cell_type": "markdown",
   "source": [
    "### Treinar a rede neural\n",
    "\n",
    "Este é um código fundamental no TensorFlow/Keras para treinar um modelo de aprendizado de máquina. Vamos detalhar cada parte:\n",
    "1. `model`: Este é um objeto que representa o seu modelo de rede neural criado anteriormente.\n",
    "2. `.fit()`: Este é o método que inicia o treinamento do modelo. A palavra \"fit\" em inglês significa \"ajustar\", que é exatamente o que está acontecendo - o modelo está se ajustando aos dados.\n",
    "3. Parâmetros:\n",
    "    - : São os dados de entrada para treinamento `x_train`\n",
    "    - : São os rótulos/respostas corretas correspondentes `y_train`\n",
    "    - : Define que o modelo vai treinar por 5 épocas completas `epochs=5`\n",
    "\n",
    "Uma **época** representa uma passagem completa por todos os dados de treinamento. Neste caso, o modelo vai passar pelos dados 5 vezes, ajustando seus pesos e vieses em cada passagem para melhorar sua precisão.\n",
    "Durante o treinamento, você verá na tela:\n",
    "- A barra de progresso para cada época\n",
    "- A perda (loss) do modelo\n",
    "- Outras métricas que você tenha definido (como precisão/accuracy)\n"
   ],
   "id": "4caca389102212fe"
  },
  {
   "metadata": {
    "ExecuteTime": {
     "end_time": "2025-05-20T04:41:21.406819Z",
     "start_time": "2025-05-20T04:39:40.062406Z"
    }
   },
   "cell_type": "code",
   "source": "history = model.fit(x_train, y_train, epochs=10)",
   "id": "3c9d79f4cbac6af5",
   "outputs": [
    {
     "name": "stdout",
     "output_type": "stream",
     "text": [
      "Epoch 1/10\n",
      "\u001B[1m1875/1875\u001B[0m \u001B[32m━━━━━━━━━━━━━━━━━━━━\u001B[0m\u001B[37m\u001B[0m \u001B[1m8s\u001B[0m 4ms/step - accuracy: 0.7115 - loss: 7.0115\n",
      "Epoch 2/10\n",
      "\u001B[1m1875/1875\u001B[0m \u001B[32m━━━━━━━━━━━━━━━━━━━━\u001B[0m\u001B[37m\u001B[0m \u001B[1m12s\u001B[0m 6ms/step - accuracy: 0.8489 - loss: 0.5790\n",
      "Epoch 3/10\n",
      "\u001B[1m1875/1875\u001B[0m \u001B[32m━━━━━━━━━━━━━━━━━━━━\u001B[0m\u001B[37m\u001B[0m \u001B[1m16s\u001B[0m 8ms/step - accuracy: 0.8773 - loss: 0.4619\n",
      "Epoch 4/10\n",
      "\u001B[1m1875/1875\u001B[0m \u001B[32m━━━━━━━━━━━━━━━━━━━━\u001B[0m\u001B[37m\u001B[0m \u001B[1m15s\u001B[0m 8ms/step - accuracy: 0.8872 - loss: 0.4173\n",
      "Epoch 5/10\n",
      "\u001B[1m1875/1875\u001B[0m \u001B[32m━━━━━━━━━━━━━━━━━━━━\u001B[0m\u001B[37m\u001B[0m \u001B[1m13s\u001B[0m 7ms/step - accuracy: 0.8960 - loss: 0.3854\n",
      "Epoch 6/10\n",
      "\u001B[1m1875/1875\u001B[0m \u001B[32m━━━━━━━━━━━━━━━━━━━━\u001B[0m\u001B[37m\u001B[0m \u001B[1m14s\u001B[0m 8ms/step - accuracy: 0.9026 - loss: 0.3775\n",
      "Epoch 7/10\n",
      "\u001B[1m1875/1875\u001B[0m \u001B[32m━━━━━━━━━━━━━━━━━━━━\u001B[0m\u001B[37m\u001B[0m \u001B[1m7s\u001B[0m 4ms/step - accuracy: 0.9064 - loss: 0.3485\n",
      "Epoch 8/10\n",
      "\u001B[1m1875/1875\u001B[0m \u001B[32m━━━━━━━━━━━━━━━━━━━━\u001B[0m\u001B[37m\u001B[0m \u001B[1m5s\u001B[0m 3ms/step - accuracy: 0.9134 - loss: 0.3334\n",
      "Epoch 9/10\n",
      "\u001B[1m1875/1875\u001B[0m \u001B[32m━━━━━━━━━━━━━━━━━━━━\u001B[0m\u001B[37m\u001B[0m \u001B[1m5s\u001B[0m 3ms/step - accuracy: 0.9138 - loss: 0.3260\n",
      "Epoch 10/10\n",
      "\u001B[1m1875/1875\u001B[0m \u001B[32m━━━━━━━━━━━━━━━━━━━━\u001B[0m\u001B[37m\u001B[0m \u001B[1m5s\u001B[0m 3ms/step - accuracy: 0.9143 - loss: 0.3288\n"
     ]
    }
   ],
   "execution_count": 43
  },
  {
   "metadata": {},
   "cell_type": "markdown",
   "source": [
    "### Avaliar a acurácia da rede no conjunto de teste\n",
    "\n",
    "O método `model.evaluate()` é uma função importante do TensorFlow/Keras que é usada para avaliar o desempenho de um modelo treinado em um conjunto de dados de teste. Vamos detalhar cada parte:\n",
    "**Parâmetros:**\n",
    "- : São os dados de entrada para teste `x_test`\n",
    "- : São os rótulos/resultados esperados correspondentes `y_test`\n",
    "- : Define o nível de detalhamento das informações exibidas durante a avaliação\n",
    "    - `0`: silencioso\n",
    "    - `1`: barra de progresso\n",
    "    - : uma linha por época `2`\n",
    "\n",
    "`verbose=2`\n",
    "\n",
    "**O que ele faz:**\n",
    "1. Calcula as métricas de desempenho do modelo usando o conjunto de dados de teste\n",
    "2. Retorna uma lista com os valores das métricas definidas durante a compilação do modelo, tipicamente:\n",
    "    - Loss (perda)\n",
    "    - Accuracy (precisão)\n",
    "    - Outras métricas personalizadas (se definidas)\n"
   ],
   "id": "2aa3aa88ebf7ea2"
  },
  {
   "metadata": {
    "ExecuteTime": {
     "end_time": "2025-05-20T04:41:32.402287Z",
     "start_time": "2025-05-20T04:41:30.388043Z"
    }
   },
   "cell_type": "code",
   "source": "model.evaluate(x_test, y_test, verbose=2)",
   "id": "f60b139163d4c1a8",
   "outputs": [
    {
     "name": "stdout",
     "output_type": "stream",
     "text": [
      "313/313 - 2s - 6ms/step - accuracy: 0.0974 - loss: 2.5029\n"
     ]
    },
    {
     "data": {
      "text/plain": [
       "[2.502943992614746, 0.09740000218153]"
      ]
     },
     "execution_count": 44,
     "metadata": {},
     "output_type": "execute_result"
    }
   ],
   "execution_count": 44
  },
  {
   "metadata": {
    "ExecuteTime": {
     "end_time": "2025-05-20T04:41:32.463163Z",
     "start_time": "2025-05-20T04:41:32.452153Z"
    }
   },
   "cell_type": "code",
   "source": "import matplotlib.pyplot as plt",
   "id": "35aba1e0d9157d82",
   "outputs": [],
   "execution_count": 45
  },
  {
   "metadata": {
    "ExecuteTime": {
     "end_time": "2025-05-20T04:41:32.663202Z",
     "start_time": "2025-05-20T04:41:32.529945Z"
    }
   },
   "cell_type": "code",
   "source": [
    "plt.plot(history.history['accuracy'])\n",
    "plt.title('Acurácia do Modelo')\n",
    "plt.ylabel('Acurácia')\n",
    "plt.xlabel('Época')\n",
    "plt.legend(['Terinamento'], loc='upper left')\n",
    "plt.show()"
   ],
   "id": "1a28a891845cda4e",
   "outputs": [
    {
     "data": {
      "text/plain": [
       "<Figure size 640x480 with 1 Axes>"
      ],
      "image/png": "[encoded data removed]"
     },
     "metadata": {},
     "output_type": "display_data"
    }
   ],
   "execution_count": 46
  },
  {
   "metadata": {
    "ExecuteTime": {
     "end_time": "2025-05-20T04:41:32.864690Z",
     "start_time": "2025-05-20T04:41:32.697113Z"
    }
   },
   "cell_type": "code",
   "source": [
    "plt.plot(history.history['loss'])\n",
    "plt.title('Perda do Modelo')\n",
    "plt.ylabel('Perda')\n",
    "plt.xlabel('Época')\n",
    "plt.legend(['Terinamento'], loc='upper right')\n",
    "plt.show()"
   ],
   "id": "d983116ee521343d",
   "outputs": [
    {
     "data": {
      "text/plain": [
       "<Figure size 640x480 with 1 Axes>"
      ],
      "image/png": "[encoded data removed]"
     },
     "metadata": {},
     "output_type": "display_data"
    }
   ],
   "execution_count": 47
  }
 ],
 "metadata": {
  "kernelspec": {
   "display_name": "Python 3",
   "language": "python",
   "name": "python3"
  },
  "language_info": {
   "codemirror_mode": {
    "name": "ipython",
    "version": 2
   },
   "file_extension": ".py",
   "mimetype": "text/x-python",
   "name": "python",
   "nbconvert_exporter": "python",
   "pygments_lexer": "ipython2",
   "version": "2.7.6"
  }
 },
 "nbformat": 4,
 "nbformat_minor": 5
}
