{
 "cells": [
  {
   "cell_type": "code",
   "execution_count": 8,
   "id": "c2808557",
   "metadata": {},
   "outputs": [],
   "source": [
    "visitados = [] # Lista de nós visitados.\n",
    "fila = []\n",
    "\n",
    "def bfs(visitados, grafo, no): # algoritmo BFS\n",
    "    visitados.append(no)\n",
    "    fila.append(no)\n",
    "    while fila:\n",
    "        m = fila.pop(0)\n",
    "        print(m, end = \" \") # Imprime o nó visitado\n",
    "        # Loop para visitar todos os nós vizinhos\n",
    "        for vizinho in grafo[m]:\n",
    "            if vizinho not in visitados:\n",
    "                visitados.append(vizinho)\n",
    "                fila.append(vizinho)"
   ]
  },
  {
   "cell_type": "code",
   "execution_count": 9,
   "id": "26b0bf8b",
   "metadata": {},
   "outputs": [
    {
     "name": "stdout",
     "output_type": "stream",
     "text": [
      "Resultado da Busca em Largura (BFS):\n",
      "A B C D E F \n",
      "Nós visitados: ['A', 'B', 'C', 'D', 'E', 'F']\n"
     ]
    }
   ],
   "source": [
    "# Exemplo de um grafo representado como um dicionário\n",
    "grafo = {\n",
    "  'A' : ['B','C'],\n",
    "  'B' : ['D', 'E'],\n",
    "  'C' : ['F'],\n",
    "  'D' : [],\n",
    "  'E' : ['F'],\n",
    "  'F' : []\n",
    "}\n",
    "\n",
    "# Nó inicial para a busca em largura\n",
    "no_inicial = 'A'\n",
    "\n",
    "print(\"Resultado da Busca em Largura (BFS):\")\n",
    "bfs(visitados, grafo, no_inicial)\n",
    "print(\"\\nNós visitados:\", visitados)"
   ]
  }
 ],
 "metadata": {
  "kernelspec": {
   "display_name": ".venv",
   "language": "python",
   "name": "python3"
  },
  "language_info": {
   "codemirror_mode": {
    "name": "ipython",
    "version": 3
   },
   "file_extension": ".py",
   "mimetype": "text/x-python",
   "name": "python",
   "nbconvert_exporter": "python",
   "pygments_lexer": "ipython3",
   "version": "3.9.13"
  }
 },
 "nbformat": 4,
 "nbformat_minor": 5
}
