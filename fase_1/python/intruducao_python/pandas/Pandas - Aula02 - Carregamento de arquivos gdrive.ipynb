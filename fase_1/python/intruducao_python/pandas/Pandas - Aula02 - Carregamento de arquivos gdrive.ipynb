{
 "cells": [
  {
   "cell_type": "markdown",
   "metadata": {
    "id": "6sY_bQpVGNmO"
   },
   "source": [
    "#Importar pandas\n"
   ]
  },
  {
   "cell_type": "code",
   "execution_count": null,
   "metadata": {
    "executionInfo": {
     "elapsed": 651,
     "status": "ok",
     "timestamp": 1681299827738,
     "user": {
      "displayName": "Henrique",
      "userId": "17864219166846584694"
     },
     "user_tz": 180
    },
    "id": "ETxi0pDgGYrv"
   },
   "outputs": [],
   "source": [
    "import pandas"
   ]
  },
  {
   "cell_type": "markdown",
   "metadata": {
    "id": "9Xz3tbE-JfvI"
   },
   "source": [
    "#Montagem do Google Drive, necessário para referenciar os diretórios quando trabalhar no google colab"
   ]
  },
  {
   "cell_type": "code",
   "execution_count": null,
   "metadata": {
    "colab": {
     "base_uri": "https://localhost:8080/"
    },
    "executionInfo": {
     "elapsed": 11549,
     "status": "ok",
     "timestamp": 1681299839284,
     "user": {
      "displayName": "Henrique",
      "userId": "17864219166846584694"
     },
     "user_tz": 180
    },
    "id": "5V2OLxTGJeQc",
    "outputId": "4d83e981-452b-4ba2-cd02-dd1614578c68"
   },
   "outputs": [],
   "source": [
    "import pandas\n",
    "\n",
    "from google.colab import drive\n",
    "drive.mount('/content/gdrive')"
   ]
  },
  {
   "cell_type": "markdown",
   "metadata": {
    "id": "TVwgyE3bufLq"
   },
   "source": [
    "#Carregar um DataFrame a partir de um arquivo CSV\n",
    "Se os dados estiverem armazenados em um arquivo separado por vírgulas (CSV), o Pandas oferece a biblioteca \"read_csv()\" para a leitura dos dados em um DataFrame:"
   ]
  },
  {
   "cell_type": "code",
   "execution_count": null,
   "metadata": {
    "colab": {
     "base_uri": "https://localhost:8080/",
     "height": 381
    },
    "executionInfo": {
     "elapsed": 9,
     "status": "error",
     "timestamp": 1681299839284,
     "user": {
      "displayName": "Henrique",
      "userId": "17864219166846584694"
     },
     "user_tz": 180
    },
    "id": "JmI8F2ySuxjt",
    "outputId": "d6609d6c-0507-4c89-b2d1-0e0e43eca3cb"
   },
   "outputs": [],
   "source": [
    "df = pandas.read_csv(\"/content/gdrive/MyDrive/Colab Notebooks/Curso Pandas/data-aulapandas/nacionalidade-income.csv\")\n",
    "\n",
    "pandas.options.display.max_rows = 10\n",
    "\n",
    "print(df)\n",
    "#Aumenta a quantidade de rows exibida na tela para 20 linhas\n"
   ]
  },
  {
   "cell_type": "markdown",
   "metadata": {
    "id": "0TPFS7JvzSB1"
   },
   "source": [
    "#Carregando um DataFrame de um arquivo JSON\n",
    "O Pandas oferece a função \"read_json()\" para o carregamento de um arquivo JSON em um DataFrame."
   ]
  },
  {
   "cell_type": "code",
   "execution_count": null,
   "metadata": {
    "executionInfo": {
     "elapsed": 7,
     "status": "aborted",
     "timestamp": 1681299839285,
     "user": {
      "displayName": "Henrique",
      "userId": "17864219166846584694"
     },
     "user_tz": 180
    },
    "id": "m-QvDxYzzfU6"
   },
   "outputs": [],
   "source": [
    "df = pandas.read_json(\"/content/gdrive/MyDrive/Colab Notebooks/Curso Pandas/data-aulapandas/nacionalidade-income.json\")\n",
    "\n",
    "print(df)"
   ]
  }
 ],
 "metadata": {
  "colab": {
   "authorship_tag": "ABX9TyMSNGMepcb8Bng+sz4sKYzT",
   "mount_file_id": "1Qm4LpFXBMH6yJocpihpzS4bhEZi70aJd",
   "provenance": [
    {
     "file_id": "1HxspDYITQjQJ-OrIAVaWheRcJnMWIcRb",
     "timestamp": 1663508617344
    }
   ]
  },
  "kernelspec": {
   "display_name": ".venv",
   "language": "python",
   "name": "python3"
  },
  "language_info": {
   "codemirror_mode": {
    "name": "ipython",
    "version": 3
   },
   "file_extension": ".py",
   "mimetype": "text/x-python",
   "name": "python",
   "nbconvert_exporter": "python",
   "pygments_lexer": "ipython3",
   "version": "3.13.2"
  }
 },
 "nbformat": 4,
 "nbformat_minor": 0
}
