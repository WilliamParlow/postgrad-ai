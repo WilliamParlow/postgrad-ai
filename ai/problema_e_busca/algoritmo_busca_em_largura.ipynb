{
 "cells": [
  {
   "cell_type": "code",
   "execution_count": 1,
   "id": "c2808557",
   "metadata": {},
   "outputs": [],
   "source": [
    "visitados = [] #Lista de nós visitados.\n",
    "fila = []\n",
    "#Inicialização da fila\n",
    "def bfs(visitados, grafo, no): #algoritmo BFS\n",
    "  visitados.append(no)\n",
    "  fila.append(no)\n",
    "  while fila:\n",
    "    m = fila.pop(0)\n",
    "    # Loop para visitar todos os nós\n",
    "    for vizinho in grafo[m]:\n",
    "      if vizinho not in visitados:\n",
    "        visitados.append(vizinho)\n",
    "        fila.append(vizinho)"
   ]
  }
 ],
 "metadata": {
  "kernelspec": {
   "display_name": ".venv",
   "language": "python",
   "name": "python3"
  },
  "language_info": {
   "codemirror_mode": {
    "name": "ipython",
    "version": 3
   },
   "file_extension": ".py",
   "mimetype": "text/x-python",
   "name": "python",
   "nbconvert_exporter": "python",
   "pygments_lexer": "ipython3",
   "version": "3.9.13"
  }
 },
 "nbformat": 4,
 "nbformat_minor": 5
}
