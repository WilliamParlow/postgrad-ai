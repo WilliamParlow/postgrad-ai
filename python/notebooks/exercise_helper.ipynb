{
 "cells": [
  {
   "cell_type": "code",
   "execution_count": 3,
   "id": "f370a3cd",
   "metadata": {},
   "outputs": [
    {
     "name": "stdout",
     "output_type": "stream",
     "text": [
      "O valor 10 é igual a 10\n"
     ]
    }
   ],
   "source": [
    "a = int(input())\n",
    "b = int(input())\n",
    "\n",
    "if a == b :\n",
    "    print(\"O valor {0} é igual a {1}\".format(a, b))\n",
    "else:\n",
    "    print(\"O valor {0} é diferente de {1}\".format(a, b))"
   ]
  },
  {
   "cell_type": "code",
   "execution_count": 1,
   "id": "f188bcbb",
   "metadata": {},
   "outputs": [
    {
     "name": "stdout",
     "output_type": "stream",
     "text": [
      "0\n",
      "1\n",
      "2\n",
      "3\n",
      "4\n",
      "5\n",
      "6\n",
      "7\n",
      "8\n",
      "9\n"
     ]
    }
   ],
   "source": [
    "for i in range(0, 10):\n",
    "    print(i)"
   ]
  },
  {
   "cell_type": "code",
   "execution_count": 18,
   "id": "fd0b739b",
   "metadata": {},
   "outputs": [
    {
     "name": "stdout",
     "output_type": "stream",
     "text": [
      "S = 1 + 1/1\n",
      "S = 2.0 + 1/2\n",
      "S = 2.5 + 1/3\n",
      "S = 2.8333333333333335 + 1/4\n",
      "S = 3.0833333333333335 + 1/5\n",
      "3.2833333333333337\n"
     ]
    }
   ],
   "source": [
    "n = int(input(\"Digite o valor de N: \"))\n",
    "S = 1\n",
    "for i in range(1, n+1, 1):\n",
    "    print(\"S = {} + 1/{}\".format(S, i))\n",
    "    S = S + 1/i\n",
    "print(S)"
   ]
  },
  {
   "cell_type": "code",
   "execution_count": 1,
   "id": "2f74948c",
   "metadata": {},
   "outputs": [
    {
     "name": "stdout",
     "output_type": "stream",
     "text": [
      "1\n",
      "1\n"
     ]
    }
   ],
   "source": [
    "n=1.8\n",
    "print(int(n))\n",
    "n=1.2\n",
    "print(int(n))"
   ]
  },
  {
   "cell_type": "code",
   "execution_count": null,
   "id": "12044570",
   "metadata": {},
   "outputs": [
    {
     "name": "stdout",
     "output_type": "stream",
     "text": [
      "567\n",
      "5 nota(s) de R$ 100,00\n",
      "1 nota(s) de R$ 50,00\n",
      "0 nota(s) de R$ 20,00\n",
      "3 nota(s) de R$ 5,00\n",
      "1 nota(s) de R$ 2,00\n",
      "0 nota(s) de R$ 1,00\n"
     ]
    }
   ],
   "source": [
    "value=int(input())\n",
    "\n",
    "print(value)\n",
    "\n",
    "bank_notes=[100, 50, 20, 10, 5, 2, 1]\n",
    "\n",
    "for i in bank_notes:\n",
    "    notes = int(value / i)\n",
    "    value = value - i * notes\n",
    "    if (notes < 0):\n",
    "        notes = 0\n",
    "    print(\"{} nota(s) de R$ {},00\".format(notes, i))"
   ]
  },
  {
   "cell_type": "code",
   "execution_count": 12,
   "id": "ab028aae",
   "metadata": {},
   "outputs": [
    {
     "name": "stdout",
     "output_type": "stream",
     "text": [
      "Novo salario: 784.00\n",
      "Reajuste ganho: 84.00\n",
      "Em percentual: 12 %\n"
     ]
    }
   ],
   "source": [
    "employee_salary = float(input())\n",
    "readjustmentRate = 1.00\n",
    "\n",
    "if (employee_salary <= 400):\n",
    "    readjustmentRate = 1.15\n",
    "elif (employee_salary > 400 and employee_salary <= 800):\n",
    "    readjustmentRate = 1.12\n",
    "elif (employee_salary > 800 and employee_salary <= 1200):\n",
    "    readjustmentRate = 1.10\n",
    "elif (employee_salary > 1200 and employee_salary <= 2000):\n",
    "    readjustmentRate = 1.07\n",
    "else:\n",
    "    readjustmentRate = 1.04\n",
    "    \n",
    "print(\"Novo salario: {:.2f}\".format(employee_salary * readjustmentRate))\n",
    "print(\"Reajuste ganho: {:.2f}\".format(employee_salary * (readjustmentRate - 1)))\n",
    "print(\"Em percentual: {:.0f} %\".format(readjustmentRate * 100 - 100))"
   ]
  },
  {
   "cell_type": "code",
   "execution_count": null,
   "id": "290fa714",
   "metadata": {},
   "outputs": [
    {
     "name": "stdout",
     "output_type": "stream",
     "text": [
      "2\n",
      "4\n",
      "6\n",
      "8\n",
      "10\n",
      "12\n",
      "14\n",
      "16\n",
      "18\n",
      "20\n",
      "22\n",
      "24\n",
      "26\n",
      "28\n",
      "30\n",
      "32\n",
      "34\n",
      "36\n",
      "38\n",
      "40\n",
      "42\n",
      "44\n",
      "46\n",
      "48\n",
      "50\n",
      "52\n",
      "54\n",
      "56\n",
      "58\n",
      "60\n",
      "62\n",
      "64\n",
      "66\n",
      "68\n",
      "70\n",
      "72\n",
      "74\n",
      "76\n",
      "78\n",
      "80\n",
      "82\n",
      "84\n",
      "86\n",
      "88\n",
      "90\n",
      "92\n",
      "94\n",
      "96\n",
      "98\n",
      "100\n"
     ]
    }
   ],
   "source": [
    "for i in range(2, 101, 2):\n",
    "    print(i)"
   ]
  },
  {
   "cell_type": "code",
   "execution_count": 19,
   "id": "6768b7c6",
   "metadata": {},
   "outputs": [
    {
     "name": "stdout",
     "output_type": "stream",
     "text": [
      "MUITO OBRIGADO\n",
      "Alcool: 2\n",
      "Gasolina: 2\n",
      "Diesel: 1\n"
     ]
    }
   ],
   "source": [
    "fuel_preference=[0, 0, 0]\n",
    "option = 0\n",
    "\n",
    "while(option != 4):\n",
    "    option = int(input())\n",
    "    if (option == 4):\n",
    "        break\n",
    "    elif (option > 4):\n",
    "        continue\n",
    "    fuel_preference[option - 1] += 1\n",
    "\n",
    "print(\"MUITO OBRIGADO\")\n",
    "print(\"Alcool: {}\".format(fuel_preference[0]))\n",
    "print(\"Gasolina: {}\".format(fuel_preference[1]))\n",
    "print(\"Diesel: {}\".format(fuel_preference[2]))"
   ]
  }
 ],
 "metadata": {
  "kernelspec": {
   "display_name": ".venv",
   "language": "python",
   "name": "python3"
  },
  "language_info": {
   "codemirror_mode": {
    "name": "ipython",
    "version": 3
   },
   "file_extension": ".py",
   "mimetype": "text/x-python",
   "name": "python",
   "nbconvert_exporter": "python",
   "pygments_lexer": "ipython3",
   "version": "3.13.2"
  }
 },
 "nbformat": 4,
 "nbformat_minor": 5
}
