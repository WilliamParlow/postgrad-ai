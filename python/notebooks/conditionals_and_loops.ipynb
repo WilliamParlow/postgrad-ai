{
 "cells": [
  {
   "cell_type": "markdown",
   "id": "ac65b9d3",
   "metadata": {},
   "source": [
    "# Python\n",
    "\n",
    "This notebook explains the basics of python.\n",
    "\n",
    "### Conditionals\n",
    "\n",
    "* Conditional if, elif and else:"
   ]
  },
  {
   "cell_type": "code",
   "execution_count": 15,
   "id": "4e5f55ed",
   "metadata": {},
   "outputs": [
    {
     "name": "stdout",
     "output_type": "stream",
     "text": [
      "Jovem\n"
     ]
    }
   ],
   "source": [
    "idade = int(input(\"Digite a idade: \"))\n",
    "if idade < 18:\n",
    "    print(\"Jovem\")\n",
    "elif idade >= 18 and idade <= 60:\n",
    "    print(\"Adulto\")\n",
    "else:\n",
    "    print(\"Melhor idade\")"
   ]
  },
  {
   "cell_type": "markdown",
   "id": "df085c6c",
   "metadata": {},
   "source": [
    "* Ternary if:"
   ]
  },
  {
   "cell_type": "code",
   "execution_count": 16,
   "id": "16d3be64",
   "metadata": {},
   "outputs": [
    {
     "name": "stdout",
     "output_type": "stream",
     "text": [
      "Jovem\n"
     ]
    }
   ],
   "source": [
    "idade = int(input(\"Digite a idade: \"))\n",
    "print(\"Jovem\") if (idade < 18) else print(\"Adulto\")"
   ]
  },
  {
   "cell_type": "markdown",
   "id": "8e860039",
   "metadata": {},
   "source": [
    "* Conditional Match Case:"
   ]
  },
  {
   "cell_type": "code",
   "execution_count": 17,
   "id": "65adc05c",
   "metadata": {},
   "outputs": [
    {
     "name": "stdout",
     "output_type": "stream",
     "text": [
      "Jovem\n"
     ]
    }
   ],
   "source": [
    "idade = int(input(\"Digite a idade: \"))\n",
    "match idade:\n",
    "    case 0 | 1 | 2 | 3 | 4 | 5 | 6 | 7 | 8 | 9 | 10:\n",
    "        print(\"Jovem\")\n",
    "    case _ if idade >= 11 and idade <= 60:\n",
    "        print(\"Adulto\")\n",
    "    case _:\n",
    "        print(\"Melhor idade\")"
   ]
  },
  {
   "cell_type": "markdown",
   "id": "0a3a3955",
   "metadata": {},
   "source": [
    "### Repetition Loops\n",
    "\n",
    "* While / While else"
   ]
  },
  {
   "cell_type": "code",
   "execution_count": 18,
   "id": "77296e32",
   "metadata": {},
   "outputs": [
    {
     "name": "stdout",
     "output_type": "stream",
     "text": [
      "Jovem\n"
     ]
    }
   ],
   "source": [
    "idade = int(input(\"Digite a idade: \"))\n",
    "while idade < 0:\n",
    "    print(\"Idade inválida! Tente novamente.\")\n",
    "    idade = int(input(\"Digite a idade: \"))\n",
    "else:\n",
    "    if idade < 18:\n",
    "        print(\"Jovem\")\n",
    "    elif idade >= 18 and idade <= 60:\n",
    "        print(\"Adulto\")\n",
    "    else:\n",
    "        print(\"Melhor idade\")"
   ]
  },
  {
   "cell_type": "markdown",
   "id": "ccbbba22",
   "metadata": {},
   "source": [
    "* While with break and continue"
   ]
  },
  {
   "cell_type": "code",
   "execution_count": 19,
   "id": "2abb5f37",
   "metadata": {},
   "outputs": [
    {
     "name": "stdout",
     "output_type": "stream",
     "text": [
      "Jovem\n"
     ]
    }
   ],
   "source": [
    "idade = 1\n",
    "while idade > 0:\n",
    "    idadeDigitada = int(input(\"Digite a idade ou 0 para sair: \"))\n",
    "    \n",
    "    if idadeDigitada == 0:\n",
    "        break\n",
    "    elif idadeDigitada == idade:\n",
    "        print(\"Idade já digitada! Tente novamente.\")\n",
    "        continue\n",
    "    elif idadeDigitada < 18:\n",
    "        print(\"Jovem\")\n",
    "    elif idadeDigitada >= 18 and idadeDigitada <= 60:\n",
    "        print(\"Adulto\")\n",
    "    else:\n",
    "        print(\"Melhor idade\")\n",
    "    \n",
    "    idade = idadeDigitada"
   ]
  },
  {
   "cell_type": "markdown",
   "id": "18d67a49",
   "metadata": {},
   "source": [
    "* For (break and continue works the same way)"
   ]
  },
  {
   "cell_type": "code",
   "execution_count": 20,
   "id": "9ca07d98",
   "metadata": {},
   "outputs": [
    {
     "name": "stdout",
     "output_type": "stream",
     "text": [
      "Produto: notebook\n",
      "Produto: mesa\n",
      "Produto: smartphone\n",
      "c\n",
      "i\n",
      "e\n",
      "n\n",
      "c\n",
      "i\n",
      "a\n",
      " \n",
      "d\n",
      "e\n",
      " \n",
      "d\n",
      "a\n",
      "d\n",
      "o\n",
      "s\n"
     ]
    }
   ],
   "source": [
    "# Iterando em elementos de uma lista\n",
    "produtos = [\"notebook\", \"mesa\", \"smartphone\"]\n",
    "for p in produtos:\n",
    "    print(\"Produto: \" + p)\n",
    "    \n",
    "# Iterando em uma string\n",
    "minha_string = \"ciencia de dados\"\n",
    "for c in minha_string:\n",
    "    print(c)"
   ]
  },
  {
   "cell_type": "markdown",
   "id": "1cef50c1",
   "metadata": {},
   "source": [
    "* For with range()"
   ]
  },
  {
   "cell_type": "code",
   "execution_count": 21,
   "id": "3243182f",
   "metadata": {},
   "outputs": [
    {
     "name": "stdout",
     "output_type": "stream",
     "text": [
      "0\n",
      "1\n",
      "2\n",
      "3\n",
      "4\n",
      "5\n",
      "6\n",
      "7\n",
      "8\n",
      "9\n",
      "5\n",
      "6\n",
      "7\n",
      "8\n",
      "9\n",
      "0\n",
      "2\n",
      "4\n",
      "6\n",
      "8\n",
      "0\n",
      "1\n",
      "2\n",
      "3\n",
      "4\n",
      "5\n",
      "6\n",
      "7\n",
      "8\n",
      "9\n",
      "Laco concluıdo\n"
     ]
    }
   ],
   "source": [
    "# Chamada padrao da fun¸cao. Retorna uma sequencia de 0 a 9\n",
    "for i in range(10):\n",
    "    print(i)\n",
    "    \n",
    "# Retorna uma sequˆencia de 5 (inclusivo) a 10 (exclusivo)\n",
    "for i in range(5,10):\n",
    "    print(i)\n",
    "\n",
    "# Retorna uma sequencia de 0 (inclusivo) a 10 (exclusivo) com incremento de 2 em 2\n",
    "for i in range(0, 10, 2):\n",
    "    print(i)\n",
    "    \n",
    "# Range e Else\n",
    "# Retorna uma sequencia de 0 (inclusivo) a 10 (exclusivo) com incremento de 2 em 2\n",
    "for i in range(10):\n",
    "    print(i)\n",
    "else:\n",
    "    print(\"Laco concluıdo\")"
   ]
  },
  {
   "cell_type": "markdown",
   "id": "609a3bd4",
   "metadata": {},
   "source": [
    "#### Repetition loops can't be empty, use **pass**"
   ]
  },
  {
   "cell_type": "code",
   "execution_count": 22,
   "id": "5d03fd66",
   "metadata": {},
   "outputs": [],
   "source": [
    "# Estruturas de repeticao nao podem ser vazias. Caso precise criar uma estrutura sem\n",
    "# nenhuma instrucao, adicione o comando pass para evitar erros.\n",
    "\n",
    "# Estrutura de repeticao vazia\n",
    "for i in range(10):\n",
    "    pass"
   ]
  }
 ],
 "metadata": {
  "kernelspec": {
   "display_name": ".venv",
   "language": "python",
   "name": "python3"
  },
  "language_info": {
   "codemirror_mode": {
    "name": "ipython",
    "version": 3
   },
   "file_extension": ".py",
   "mimetype": "text/x-python",
   "name": "python",
   "nbconvert_exporter": "python",
   "pygments_lexer": "ipython3",
   "version": "3.13.2"
  }
 },
 "nbformat": 4,
 "nbformat_minor": 5
}
