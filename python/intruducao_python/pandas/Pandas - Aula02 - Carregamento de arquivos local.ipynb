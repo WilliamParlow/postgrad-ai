{
 "cells": [
  {
   "cell_type": "markdown",
   "metadata": {
    "id": "6sY_bQpVGNmO"
   },
   "source": [
    "# Importar pandas\n"
   ]
  },
  {
   "cell_type": "code",
   "execution_count": 1,
   "metadata": {
    "executionInfo": {
     "elapsed": 651,
     "status": "ok",
     "timestamp": 1681299827738,
     "user": {
      "displayName": "Henrique",
      "userId": "17864219166846584694"
     },
     "user_tz": 180
    },
    "id": "ETxi0pDgGYrv"
   },
   "outputs": [],
   "source": [
    "import pandas"
   ]
  },
  {
   "cell_type": "markdown",
   "metadata": {
    "id": "TVwgyE3bufLq"
   },
   "source": [
    "# Carregar um DataFrame a partir de um arquivo CSV\n",
    "Se os dados estiverem armazenados em um arquivo separado por vírgulas (CSV), o Pandas oferece a biblioteca \"read_csv()\" para a leitura dos dados em um DataFrame:"
   ]
  },
  {
   "cell_type": "code",
   "execution_count": 2,
   "metadata": {
    "colab": {
     "base_uri": "https://localhost:8080/",
     "height": 381
    },
    "executionInfo": {
     "elapsed": 9,
     "status": "error",
     "timestamp": 1681299839284,
     "user": {
      "displayName": "Henrique",
      "userId": "17864219166846584694"
     },
     "user_tz": 180
    },
    "id": "JmI8F2ySuxjt",
    "outputId": "d6609d6c-0507-4c89-b2d1-0e0e43eca3cb"
   },
   "outputs": [
    {
     "name": "stdout",
     "output_type": "stream",
     "text": [
      "                  nome   idade    renda  genero              pais\n",
      "0  João Fernando Diniz      19     1600       M          Portugal\n",
      "1          Nicole Boll      31     5800       F          Alemanha\n",
      "2         Tulio Sintra      60     3500       M            Brasil\n",
      "3    Ayrton Schumacher      55    10500       M         Argentina\n",
      "4          Sonia Silva      60    12000       F            Brasil\n",
      "5           Joana Darc      32     2050       F            Brasil\n",
      "6         Soraya Pisca      22    35000       F            Itália\n",
      "7      Fernando Goiaba      40     8600       M          Colombia\n",
      "8            John Isca      12     5000       M    Estados Unidos\n",
      "9       Michael Jordan      60  1000000       M   Estados Unidos \n"
     ]
    }
   ],
   "source": [
    "df = pandas.read_csv(\"data-aulapandas/nacionalidade-income.csv\")\n",
    "pandas.options.display.max_rows = 10\n",
    "print(df)"
   ]
  },
  {
   "cell_type": "markdown",
   "metadata": {
    "id": "0TPFS7JvzSB1"
   },
   "source": [
    "# Carregando um DataFrame de um arquivo JSON\n",
    "O Pandas oferece a função \"read_json()\" para o carregamento de um arquivo JSON em um DataFrame."
   ]
  },
  {
   "cell_type": "code",
   "execution_count": 3,
   "metadata": {
    "executionInfo": {
     "elapsed": 7,
     "status": "aborted",
     "timestamp": 1681299839285,
     "user": {
      "displayName": "Henrique",
      "userId": "17864219166846584694"
     },
     "user_tz": 180
    },
    "id": "m-QvDxYzzfU6"
   },
   "outputs": [
    {
     "name": "stdout",
     "output_type": "stream",
     "text": [
      "   duracao  pulso  max-pulso  calorias\n",
      "0       60    110        130       409\n",
      "1       60    117        145       479\n",
      "2       60    103        135       340\n",
      "3       45    109        175       282\n",
      "4       45    117        148       406\n",
      "5       60    102        127       300\n"
     ]
    }
   ],
   "source": [
    "df = pandas.read_json(\"data-aulapandas/nacionalidade-income.json\")\n",
    "\n",
    "print(df)"
   ]
  }
 ],
 "metadata": {
  "colab": {
   "authorship_tag": "ABX9TyMSNGMepcb8Bng+sz4sKYzT",
   "mount_file_id": "1Qm4LpFXBMH6yJocpihpzS4bhEZi70aJd",
   "provenance": [
    {
     "file_id": "1HxspDYITQjQJ-OrIAVaWheRcJnMWIcRb",
     "timestamp": 1663508617344
    }
   ]
  },
  "kernelspec": {
   "display_name": ".venv",
   "language": "python",
   "name": "python3"
  },
  "language_info": {
   "codemirror_mode": {
    "name": "ipython",
    "version": 3
   },
   "file_extension": ".py",
   "mimetype": "text/x-python",
   "name": "python",
   "nbconvert_exporter": "python",
   "pygments_lexer": "ipython3",
   "version": "3.13.2"
  }
 },
 "nbformat": 4,
 "nbformat_minor": 0
}
