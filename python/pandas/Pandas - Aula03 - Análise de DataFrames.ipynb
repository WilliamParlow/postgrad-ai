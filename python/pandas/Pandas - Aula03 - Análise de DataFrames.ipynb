{
 "cells": [
  {
   "cell_type": "markdown",
   "metadata": {
    "id": "UssviE2zKp9r"
   },
   "source": [
    "# Montagem do Google Drive\n",
    "\n"
   ]
  },
  {
   "cell_type": "code",
   "execution_count": 19,
   "metadata": {
    "colab": {
     "base_uri": "https://localhost:8080/"
    },
    "executionInfo": {
     "elapsed": 3031,
     "status": "ok",
     "timestamp": 1664472815747,
     "user": {
      "displayName": "Henrique",
      "userId": "17864219166846584694"
     },
     "user_tz": 180
    },
    "id": "NcZ31Zc5KpGg",
    "outputId": "305d3194-027c-4d6f-bcc8-4b0a96eca023"
   },
   "outputs": [],
   "source": [
    "import pandas"
   ]
  },
  {
   "cell_type": "markdown",
   "metadata": {
    "id": "Fz95SvIC2pDu"
   },
   "source": [
    "# Carregamento de dados"
   ]
  },
  {
   "cell_type": "code",
   "execution_count": 20,
   "metadata": {
    "colab": {
     "base_uri": "https://localhost:8080/"
    },
    "executionInfo": {
     "elapsed": 333,
     "status": "ok",
     "timestamp": 1664472823709,
     "user": {
      "displayName": "Henrique",
      "userId": "17864219166846584694"
     },
     "user_tz": 180
    },
    "id": "999sUImC2ujE",
    "outputId": "5416a4b6-815b-49d3-80e7-35693d8c8890"
   },
   "outputs": [
    {
     "name": "stdout",
     "output_type": "stream",
     "text": [
      "     Duration  Pulse  Maxpulse  Calories\n",
      "0          60    110       130     409.1\n",
      "1          60    117       145     479.0\n",
      "2          60    103       135     340.0\n",
      "3          45    109       175     282.4\n",
      "4          45    117       148     406.0\n",
      "..        ...    ...       ...       ...\n",
      "164        60    105       140     290.8\n",
      "165        60    110       145     300.4\n",
      "166        60    115       145     310.2\n",
      "167        75    120       150     320.4\n",
      "168        75    125       150     330.4\n",
      "\n",
      "[169 rows x 4 columns]\n"
     ]
    }
   ],
   "source": [
    "import pandas\n",
    "\n",
    "df = pandas.read_csv(\"data-aulapandas/sport-activity.csv\")\n",
    "print(df)"
   ]
  },
  {
   "cell_type": "markdown",
   "metadata": {
    "id": "WMxpzczLhf2E"
   },
   "source": [
    "# Visualização de dados\n",
    "\n",
    "Um DataFrame oferece a função head() e tail() que retornam as cinco primeiras e últimas linhas de um DataFrame, respectivamente.\n",
    "\n",
    "Por padrão, sem argumentos, essas funções retornam X linhas. Contudo, se passado um valor inteiro N, as funções retornam N linhas."
   ]
  },
  {
   "cell_type": "code",
   "execution_count": 21,
   "metadata": {
    "colab": {
     "base_uri": "https://localhost:8080/"
    },
    "executionInfo": {
     "elapsed": 284,
     "status": "ok",
     "timestamp": 1664472853611,
     "user": {
      "displayName": "Henrique",
      "userId": "17864219166846584694"
     },
     "user_tz": 180
    },
    "id": "PLdcsSSGh9I2",
    "outputId": "82eeaa7e-054a-47c9-fa5f-b324657342c7"
   },
   "outputs": [
    {
     "name": "stdout",
     "output_type": "stream",
     "text": [
      "   Duration  Pulse  Maxpulse  Calories\n",
      "0        60    110       130     409.1\n",
      "1        60    117       145     479.0\n",
      "2        60    103       135     340.0\n",
      "3        45    109       175     282.4\n",
      "4        45    117       148     406.0\n"
     ]
    }
   ],
   "source": [
    "print(df.head(5))"
   ]
  },
  {
   "cell_type": "code",
   "execution_count": 22,
   "metadata": {
    "colab": {
     "base_uri": "https://localhost:8080/"
    },
    "executionInfo": {
     "elapsed": 10,
     "status": "ok",
     "timestamp": 1664472580838,
     "user": {
      "displayName": "Henrique",
      "userId": "17864219166846584694"
     },
     "user_tz": 180
    },
    "id": "D2lh2eDmiHud",
    "outputId": "99368342-1425-4b31-e579-21e24436d0d5"
   },
   "outputs": [
    {
     "name": "stdout",
     "output_type": "stream",
     "text": [
      "   Duration  Pulse  Maxpulse  Calories\n",
      "0        60    110       130     409.1\n",
      "1        60    117       145     479.0\n",
      "2        60    103       135     340.0\n",
      "3        45    109       175     282.4\n",
      "4        45    117       148     406.0\n",
      "5        60    102       127     300.5\n",
      "6        60    110       136     374.0\n",
      "7        45    104       134     253.3\n",
      "8        30    109       133     195.1\n",
      "9        60     98       124     269.0\n"
     ]
    }
   ],
   "source": [
    "print(df.head(10))"
   ]
  },
  {
   "cell_type": "code",
   "execution_count": 23,
   "metadata": {
    "colab": {
     "base_uri": "https://localhost:8080/"
    },
    "executionInfo": {
     "elapsed": 8,
     "status": "ok",
     "timestamp": 1664472580839,
     "user": {
      "displayName": "Henrique",
      "userId": "17864219166846584694"
     },
     "user_tz": 180
    },
    "id": "HzFtbI8ziLjT",
    "outputId": "03cb9224-c989-4aba-d973-b8d1a968707e"
   },
   "outputs": [
    {
     "name": "stdout",
     "output_type": "stream",
     "text": [
      "     Duration  Pulse  Maxpulse  Calories\n",
      "164        60    105       140     290.8\n",
      "165        60    110       145     300.4\n",
      "166        60    115       145     310.2\n",
      "167        75    120       150     320.4\n",
      "168        75    125       150     330.4\n"
     ]
    }
   ],
   "source": [
    "print(df.tail())"
   ]
  },
  {
   "cell_type": "code",
   "execution_count": 24,
   "metadata": {
    "colab": {
     "base_uri": "https://localhost:8080/"
    },
    "executionInfo": {
     "elapsed": 359,
     "status": "ok",
     "timestamp": 1664473018495,
     "user": {
      "displayName": "Henrique",
      "userId": "17864219166846584694"
     },
     "user_tz": 180
    },
    "id": "7a0_PvSDiNPW",
    "outputId": "f20ce035-89fb-4681-f454-47604ee496d6"
   },
   "outputs": [
    {
     "name": "stdout",
     "output_type": "stream",
     "text": [
      "     Duration  Pulse  Maxpulse  Calories\n",
      "159        30     80       120     240.9\n",
      "160        30     85       120     250.4\n",
      "161        45     90       130     260.4\n",
      "162        45     95       130     270.0\n",
      "163        45    100       140     280.9\n",
      "164        60    105       140     290.8\n",
      "165        60    110       145     300.4\n",
      "166        60    115       145     310.2\n",
      "167        75    120       150     320.4\n",
      "168        75    125       150     330.4\n"
     ]
    }
   ],
   "source": [
    "print(df.tail(10))"
   ]
  },
  {
   "cell_type": "markdown",
   "metadata": {
    "id": "Bg650_triZRn"
   },
   "source": [
    "# Informações sobre os dados\n",
    "\n",
    "O método **info()** de um DataFrame apresenta informações à respeito dos dados como número de registros, as colunas existentes no dataframe, contagem de valores não nulos por coluna, o tipo de dado de cada coluna e o espaço ocupado pelo DataFrame."
   ]
  },
  {
   "cell_type": "code",
   "execution_count": 25,
   "metadata": {
    "colab": {
     "base_uri": "https://localhost:8080/"
    },
    "executionInfo": {
     "elapsed": 13,
     "status": "ok",
     "timestamp": 1664472581255,
     "user": {
      "displayName": "Henrique",
      "userId": "17864219166846584694"
     },
     "user_tz": 180
    },
    "id": "9hEuk1B_ind6",
    "outputId": "9f9bbbae-63d4-4d8c-9bd4-f5c840666e46"
   },
   "outputs": [
    {
     "name": "stdout",
     "output_type": "stream",
     "text": [
      "<class 'pandas.core.frame.DataFrame'>\n",
      "RangeIndex: 169 entries, 0 to 168\n",
      "Data columns (total 4 columns):\n",
      " #   Column    Non-Null Count  Dtype  \n",
      "---  ------    --------------  -----  \n",
      " 0   Duration  169 non-null    int64  \n",
      " 1   Pulse     169 non-null    int64  \n",
      " 2   Maxpulse  169 non-null    int64  \n",
      " 3   Calories  164 non-null    float64\n",
      "dtypes: float64(1), int64(3)\n",
      "memory usage: 5.4 KB\n",
      "None\n"
     ]
    }
   ],
   "source": [
    "print(df.info())"
   ]
  },
  {
   "cell_type": "markdown",
   "metadata": {
    "id": "Mnb19_OMjuJw"
   },
   "source": [
    "# Descrição estatística\n",
    "\n",
    "O método **describe()** apresenta um breve relatório estatístico apresentado a contagem de registros, média, desvio padrão, valores mínimos e máximos e os percentis.\n",
    "\n",
    "*Observação: o percentil representa quanto dos valores estão abaixo do percentil dado*"
   ]
  },
  {
   "cell_type": "code",
   "execution_count": 30,
   "metadata": {
    "colab": {
     "base_uri": "https://localhost:8080/"
    },
    "executionInfo": {
     "elapsed": 12,
     "status": "ok",
     "timestamp": 1664472581256,
     "user": {
      "displayName": "Henrique",
      "userId": "17864219166846584694"
     },
     "user_tz": 180
    },
    "id": "ejWBcEFCmWKC",
    "outputId": "8509a193-edbc-4655-fd8f-a02fb1107a36"
   },
   "outputs": [
    {
     "data": {
      "text/html": [
       "<div>\n",
       "<style scoped>\n",
       "    .dataframe tbody tr th:only-of-type {\n",
       "        vertical-align: middle;\n",
       "    }\n",
       "\n",
       "    .dataframe tbody tr th {\n",
       "        vertical-align: top;\n",
       "    }\n",
       "\n",
       "    .dataframe thead th {\n",
       "        text-align: right;\n",
       "    }\n",
       "</style>\n",
       "<table border=\"1\" class=\"dataframe\">\n",
       "  <thead>\n",
       "    <tr style=\"text-align: right;\">\n",
       "      <th></th>\n",
       "      <th>Duration</th>\n",
       "      <th>Pulse</th>\n",
       "      <th>Maxpulse</th>\n",
       "      <th>Calories</th>\n",
       "    </tr>\n",
       "  </thead>\n",
       "  <tbody>\n",
       "    <tr>\n",
       "      <th>count</th>\n",
       "      <td>169.000000</td>\n",
       "      <td>169.000000</td>\n",
       "      <td>169.000000</td>\n",
       "      <td>164.000000</td>\n",
       "    </tr>\n",
       "    <tr>\n",
       "      <th>mean</th>\n",
       "      <td>63.846154</td>\n",
       "      <td>107.461538</td>\n",
       "      <td>134.047337</td>\n",
       "      <td>375.800000</td>\n",
       "    </tr>\n",
       "    <tr>\n",
       "      <th>std</th>\n",
       "      <td>42.299949</td>\n",
       "      <td>14.510259</td>\n",
       "      <td>16.450434</td>\n",
       "      <td>266.377134</td>\n",
       "    </tr>\n",
       "    <tr>\n",
       "      <th>min</th>\n",
       "      <td>15.000000</td>\n",
       "      <td>80.000000</td>\n",
       "      <td>100.000000</td>\n",
       "      <td>50.300000</td>\n",
       "    </tr>\n",
       "    <tr>\n",
       "      <th>25%</th>\n",
       "      <td>45.000000</td>\n",
       "      <td>100.000000</td>\n",
       "      <td>124.000000</td>\n",
       "      <td>250.925000</td>\n",
       "    </tr>\n",
       "    <tr>\n",
       "      <th>50%</th>\n",
       "      <td>60.000000</td>\n",
       "      <td>105.000000</td>\n",
       "      <td>131.000000</td>\n",
       "      <td>318.600000</td>\n",
       "    </tr>\n",
       "    <tr>\n",
       "      <th>75%</th>\n",
       "      <td>60.000000</td>\n",
       "      <td>111.000000</td>\n",
       "      <td>141.000000</td>\n",
       "      <td>387.600000</td>\n",
       "    </tr>\n",
       "    <tr>\n",
       "      <th>max</th>\n",
       "      <td>300.000000</td>\n",
       "      <td>159.000000</td>\n",
       "      <td>184.000000</td>\n",
       "      <td>1860.400000</td>\n",
       "    </tr>\n",
       "  </tbody>\n",
       "</table>\n",
       "</div>"
      ],
      "text/plain": [
       "         Duration       Pulse    Maxpulse     Calories\n",
       "count  169.000000  169.000000  169.000000   164.000000\n",
       "mean    63.846154  107.461538  134.047337   375.800000\n",
       "std     42.299949   14.510259   16.450434   266.377134\n",
       "min     15.000000   80.000000  100.000000    50.300000\n",
       "25%     45.000000  100.000000  124.000000   250.925000\n",
       "50%     60.000000  105.000000  131.000000   318.600000\n",
       "75%     60.000000  111.000000  141.000000   387.600000\n",
       "max    300.000000  159.000000  184.000000  1860.400000"
      ]
     },
     "execution_count": 30,
     "metadata": {},
     "output_type": "execute_result"
    }
   ],
   "source": [
    "df.describe()"
   ]
  },
  {
   "cell_type": "code",
   "execution_count": 31,
   "metadata": {},
   "outputs": [
    {
     "data": {
      "text/html": [
       "<div>\n",
       "<style scoped>\n",
       "    .dataframe tbody tr th:only-of-type {\n",
       "        vertical-align: middle;\n",
       "    }\n",
       "\n",
       "    .dataframe tbody tr th {\n",
       "        vertical-align: top;\n",
       "    }\n",
       "\n",
       "    .dataframe thead th {\n",
       "        text-align: right;\n",
       "    }\n",
       "</style>\n",
       "<table border=\"1\" class=\"dataframe\">\n",
       "  <thead>\n",
       "    <tr style=\"text-align: right;\">\n",
       "      <th></th>\n",
       "      <th>count</th>\n",
       "      <th>mean</th>\n",
       "      <th>std</th>\n",
       "      <th>min</th>\n",
       "      <th>25%</th>\n",
       "      <th>50%</th>\n",
       "      <th>75%</th>\n",
       "      <th>max</th>\n",
       "    </tr>\n",
       "  </thead>\n",
       "  <tbody>\n",
       "    <tr>\n",
       "      <th>Duration</th>\n",
       "      <td>169.0</td>\n",
       "      <td>63.846154</td>\n",
       "      <td>42.299949</td>\n",
       "      <td>15.0</td>\n",
       "      <td>45.000</td>\n",
       "      <td>60.0</td>\n",
       "      <td>60.0</td>\n",
       "      <td>300.0</td>\n",
       "    </tr>\n",
       "    <tr>\n",
       "      <th>Pulse</th>\n",
       "      <td>169.0</td>\n",
       "      <td>107.461538</td>\n",
       "      <td>14.510259</td>\n",
       "      <td>80.0</td>\n",
       "      <td>100.000</td>\n",
       "      <td>105.0</td>\n",
       "      <td>111.0</td>\n",
       "      <td>159.0</td>\n",
       "    </tr>\n",
       "    <tr>\n",
       "      <th>Maxpulse</th>\n",
       "      <td>169.0</td>\n",
       "      <td>134.047337</td>\n",
       "      <td>16.450434</td>\n",
       "      <td>100.0</td>\n",
       "      <td>124.000</td>\n",
       "      <td>131.0</td>\n",
       "      <td>141.0</td>\n",
       "      <td>184.0</td>\n",
       "    </tr>\n",
       "    <tr>\n",
       "      <th>Calories</th>\n",
       "      <td>164.0</td>\n",
       "      <td>375.800000</td>\n",
       "      <td>266.377134</td>\n",
       "      <td>50.3</td>\n",
       "      <td>250.925</td>\n",
       "      <td>318.6</td>\n",
       "      <td>387.6</td>\n",
       "      <td>1860.4</td>\n",
       "    </tr>\n",
       "  </tbody>\n",
       "</table>\n",
       "</div>"
      ],
      "text/plain": [
       "          count        mean         std    min      25%    50%    75%     max\n",
       "Duration  169.0   63.846154   42.299949   15.0   45.000   60.0   60.0   300.0\n",
       "Pulse     169.0  107.461538   14.510259   80.0  100.000  105.0  111.0   159.0\n",
       "Maxpulse  169.0  134.047337   16.450434  100.0  124.000  131.0  141.0   184.0\n",
       "Calories  164.0  375.800000  266.377134   50.3  250.925  318.6  387.6  1860.4"
      ]
     },
     "execution_count": 31,
     "metadata": {},
     "output_type": "execute_result"
    }
   ],
   "source": [
    "df.describe().T"
   ]
  },
  {
   "cell_type": "markdown",
   "metadata": {
    "id": "6gp1nlxKmaFk"
   },
   "source": [
    "É possível alterar os intervalos dos percentis, passando uma lista como parâmetro"
   ]
  },
  {
   "cell_type": "code",
   "execution_count": 27,
   "metadata": {
    "colab": {
     "base_uri": "https://localhost:8080/"
    },
    "executionInfo": {
     "elapsed": 10,
     "status": "ok",
     "timestamp": 1664472581256,
     "user": {
      "displayName": "Henrique",
      "userId": "17864219166846584694"
     },
     "user_tz": 180
    },
    "id": "qnNfvqGqmZ2e",
    "outputId": "ced7813c-21ba-4d79-ccd0-c53f597591d1"
   },
   "outputs": [
    {
     "name": "stdout",
     "output_type": "stream",
     "text": [
      "         Duration       Pulse    Maxpulse     Calories\n",
      "count  169.000000  169.000000  169.000000   164.000000\n",
      "mean    63.846154  107.461538  134.047337   375.800000\n",
      "std     42.299949   14.510259   16.450434   266.377134\n",
      "min     15.000000   80.000000  100.000000    50.300000\n",
      "20%     45.000000   98.000000  120.600000   242.600000\n",
      "40%     60.000000  103.000000  129.000000   299.200000\n",
      "50%     60.000000  105.000000  131.000000   318.600000\n",
      "60%     60.000000  108.000000  135.000000   339.800000\n",
      "80%     60.000000  114.000000  146.000000   409.220000\n",
      "90%     90.000000  123.200000  153.600000   589.030000\n",
      "max    300.000000  159.000000  184.000000  1860.400000\n"
     ]
    }
   ],
   "source": [
    "print(df.describe(percentiles=[0.2,0.4,0.6,0.8,0.9]))"
   ]
  },
  {
   "cell_type": "markdown",
   "metadata": {
    "id": "-ABURg4WojCa"
   },
   "source": [
    "É possível especificar quais tipos de dados incluir ou excluir\n",
    "\n"
   ]
  },
  {
   "cell_type": "code",
   "execution_count": 28,
   "metadata": {
    "colab": {
     "base_uri": "https://localhost:8080/"
    },
    "executionInfo": {
     "elapsed": 8,
     "status": "ok",
     "timestamp": 1664472581256,
     "user": {
      "displayName": "Henrique",
      "userId": "17864219166846584694"
     },
     "user_tz": 180
    },
    "id": "NfAkeH9Hoi1T",
    "outputId": "5f27711c-6148-4ad3-b47b-fb0bf42f95e9"
   },
   "outputs": [
    {
     "name": "stdout",
     "output_type": "stream",
     "text": [
      "          Calories\n",
      "count   164.000000\n",
      "mean    375.800000\n",
      "std     266.377134\n",
      "min      50.300000\n",
      "25%     250.925000\n",
      "50%     318.600000\n",
      "75%     387.600000\n",
      "max    1860.400000\n"
     ]
    }
   ],
   "source": [
    "print(df.describe(include=['float64']))"
   ]
  },
  {
   "cell_type": "markdown",
   "metadata": {
    "id": "RXSRfxsdpbU3"
   },
   "source": [
    "É possível invocar a função **info()** após a chamada da função **describe()**"
   ]
  },
  {
   "cell_type": "code",
   "execution_count": 29,
   "metadata": {
    "colab": {
     "base_uri": "https://localhost:8080/"
    },
    "executionInfo": {
     "elapsed": 327,
     "status": "ok",
     "timestamp": 1664474037656,
     "user": {
      "displayName": "Henrique",
      "userId": "17864219166846584694"
     },
     "user_tz": 180
    },
    "id": "CVZGAnvGpita",
    "outputId": "d007d87b-d4a2-446b-be16-39a8eeb49c3f"
   },
   "outputs": [
    {
     "name": "stdout",
     "output_type": "stream",
     "text": [
      "<class 'pandas.core.frame.DataFrame'>\n",
      "Index: 8 entries, count to max\n",
      "Data columns (total 3 columns):\n",
      " #   Column    Non-Null Count  Dtype  \n",
      "---  ------    --------------  -----  \n",
      " 0   Duration  8 non-null      float64\n",
      " 1   Pulse     8 non-null      float64\n",
      " 2   Maxpulse  8 non-null      float64\n",
      "dtypes: float64(3)\n",
      "memory usage: 256.0+ bytes\n",
      "None\n"
     ]
    }
   ],
   "source": [
    "print(df.describe(exclude=['float64']).info())"
   ]
  },
  {
   "cell_type": "markdown",
   "metadata": {},
   "source": [
    "# Contagem de linhas e colunas"
   ]
  },
  {
   "cell_type": "code",
   "execution_count": 33,
   "metadata": {},
   "outputs": [
    {
     "name": "stdout",
     "output_type": "stream",
     "text": [
      "(169, 4)\n",
      "169\n",
      "4\n"
     ]
    }
   ],
   "source": [
    "print(df.shape)\n",
    "print(df.shape[0])\n",
    "print(df.shape[1])"
   ]
  },
  {
   "cell_type": "markdown",
   "metadata": {},
   "source": [
    "# Obter todas as colunas"
   ]
  },
  {
   "cell_type": "code",
   "execution_count": 34,
   "metadata": {},
   "outputs": [
    {
     "data": {
      "text/plain": [
       "Index(['Duration', 'Pulse', 'Maxpulse', 'Calories'], dtype='object')"
      ]
     },
     "execution_count": 34,
     "metadata": {},
     "output_type": "execute_result"
    }
   ],
   "source": [
    "df.columns"
   ]
  },
  {
   "cell_type": "code",
   "execution_count": 35,
   "metadata": {},
   "outputs": [
    {
     "data": {
      "text/plain": [
       "['Duration', 'Pulse', 'Maxpulse', 'Calories']"
      ]
     },
     "execution_count": 35,
     "metadata": {},
     "output_type": "execute_result"
    }
   ],
   "source": [
    "list(df.columns)"
   ]
  },
  {
   "cell_type": "markdown",
   "metadata": {},
   "source": [
    "# Verificar a contagem de valores NaN em cada coluna"
   ]
  },
  {
   "cell_type": "code",
   "execution_count": 37,
   "metadata": {},
   "outputs": [
    {
     "data": {
      "text/plain": [
       "Duration    0\n",
       "Pulse       0\n",
       "Maxpulse    0\n",
       "Calories    5\n",
       "dtype: int64"
      ]
     },
     "execution_count": 37,
     "metadata": {},
     "output_type": "execute_result"
    }
   ],
   "source": [
    "df.isnull().sum()"
   ]
  },
  {
   "cell_type": "markdown",
   "metadata": {},
   "source": [
    "# Verificar a contagem de todos os valores NaN"
   ]
  },
  {
   "cell_type": "code",
   "execution_count": 41,
   "metadata": {},
   "outputs": [
    {
     "data": {
      "text/plain": [
       "np.int64(5)"
      ]
     },
     "execution_count": 41,
     "metadata": {},
     "output_type": "execute_result"
    }
   ],
   "source": [
    "df.isnull().sum().sum()"
   ]
  }
 ],
 "metadata": {
  "colab": {
   "authorship_tag": "ABX9TyNJn5An3G84RY/mwuT7X/EC",
   "mount_file_id": "1-Ts2dXoN1nxWqS2qPyfjE-okn926iQyY",
   "provenance": [
    {
     "file_id": "1Qm4LpFXBMH6yJocpihpzS4bhEZi70aJd",
     "timestamp": 1663508808685
    },
    {
     "file_id": "1HxspDYITQjQJ-OrIAVaWheRcJnMWIcRb",
     "timestamp": 1663508617344
    }
   ]
  },
  "kernelspec": {
   "display_name": ".venv",
   "language": "python",
   "name": "python3"
  },
  "language_info": {
   "codemirror_mode": {
    "name": "ipython",
    "version": 3
   },
   "file_extension": ".py",
   "mimetype": "text/x-python",
   "name": "python",
   "nbconvert_exporter": "python",
   "pygments_lexer": "ipython3",
   "version": "3.13.2"
  }
 },
 "nbformat": 4,
 "nbformat_minor": 0
}
