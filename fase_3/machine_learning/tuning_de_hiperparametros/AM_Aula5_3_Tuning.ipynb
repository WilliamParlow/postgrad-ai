{
  "nbformat": 4,
  "nbformat_minor": 0,
  "metadata": {
    "colab": {
      "provenance": []
    },
    "kernelspec": {
      "name": "python3",
      "display_name": "Python 3"
    },
    "language_info": {
      "name": "python"
    }
  },
  "cells": [
    {
      "cell_type": "markdown",
      "source": [
        "# Especialização em Inteligência Artificial\n",
        "\n",
        "**Aprendizado de Máquina - Aula 5.3: Tuning**\n",
        "\n",
        "Código de exemplo desenvolvido pelo docente [Adriano Rivolli](mailto:rivolli@utpfr.edu.br)\n",
        "\n",
        "*O código apresenta o uso de Random e Grid Search*"
      ],
      "metadata": {
        "id": "rvgiFvAbxLgI"
      }
    },
    {
      "cell_type": "code",
      "source": [
        "from sklearn.model_selection import RandomizedSearchCV\n",
        "from sklearn.model_selection import GridSearchCV\n",
        "from sklearn.model_selection import KFold\n",
        "from sklearn.model_selection import cross_val_score\n",
        "from sklearn.svm import SVC\n",
        "from sklearn.tree import DecisionTreeClassifier\n",
        "from sklearn.datasets import load_iris\n",
        "from sklearn.datasets import load_breast_cancer\n",
        "from sklearn.datasets import load_digits\n",
        "from sklearn.model_selection import train_test_split\n",
        "from sklearn.metrics import accuracy_score\n",
        "import numpy as np"
      ],
      "metadata": {
        "id": "CMxr_dE2xf8p"
      },
      "execution_count": null,
      "outputs": []
    },
    {
      "cell_type": "markdown",
      "source": [
        "## Busca aleatória"
      ],
      "metadata": {
        "id": "cGHsukKfxbWr"
      }
    },
    {
      "cell_type": "code",
      "execution_count": null,
      "metadata": {
        "colab": {
          "base_uri": "https://localhost:8080/"
        },
        "id": "ZKQC_qtkwg0u",
        "outputId": "b909f239-a4ba-4b21-e69d-b6ed5a99ff8b"
      },
      "outputs": [
        {
          "output_type": "stream",
          "name": "stdout",
          "text": [
            "Best Hyperparameters: {'kernel': 'linear', 'gamma': 0.1, 'C': 1000}\n",
            "Accuracy on Test Set: 1.0\n"
          ]
        }
      ],
      "source": [
        "iris = load_iris()\n",
        "X, y = iris.data, iris.target\n",
        "\n",
        "X_train, X_test, y_train, y_test = train_test_split(X, y, test_size=0.2, random_state=42)\n",
        "\n",
        "# Define o espaço de busca dos hyperparâmetros\n",
        "param_dist = {\n",
        "    'C': [0.1, 1, 10, 100, 1000],\n",
        "    'kernel': ['linear', 'rbf', 'poly'],\n",
        "    'gamma': [0.01, 0.1, 1, 10, 100]\n",
        "}\n",
        "\n",
        "svm_classifier = SVC()\n",
        "random_search = RandomizedSearchCV(estimator=svm_classifier, param_distributions=param_dist, n_iter=10, cv=5, scoring='accuracy', random_state=42)\n",
        "random_search.fit(X_train, y_train)\n",
        "\n",
        "# Valor dos hyperparâmetros\n",
        "print(\"Best Hyperparameters:\", random_search.best_params_)\n",
        "\n",
        "# Obtendo o modelo selecionado\n",
        "best_model = random_search.best_estimator_\n",
        "y_pred = best_model.predict(X_test)\n",
        "\n",
        "# Avaliação do modelo\n",
        "accuracy = accuracy_score(y_test, y_pred)\n",
        "print(\"Accuracy on Test Set:\", accuracy)"
      ]
    },
    {
      "cell_type": "markdown",
      "source": [
        "## Busca em grade (simples)"
      ],
      "metadata": {
        "id": "lGOR1Xe7z1PP"
      }
    },
    {
      "cell_type": "code",
      "source": [
        "cancer = load_breast_cancer()\n",
        "X, y = cancer.data, cancer.target\n",
        "\n",
        "X_train, X_test, y_train, y_test = train_test_split(X, y, test_size=0.2, random_state=42)\n",
        "\n",
        "# Define a grade dos parâmetros a ser pesquisado\n",
        "param_grid = {\n",
        "    'criterion': ['gini', 'entropy'],\n",
        "    'max_depth': [3, 4, 5, 6, 7, 8, 9, 10],\n",
        "    'min_samples_split': [2, 3, 4, 5, 6, 7, 8, 9, 10]\n",
        "}\n",
        "\n",
        "dt_classifier = DecisionTreeClassifier()\n",
        "\n",
        "grid_search = GridSearchCV(estimator=dt_classifier, param_grid=param_grid, cv=5, scoring='accuracy')\n",
        "grid_search.fit(X_train, y_train)\n",
        "\n",
        "# Valor dos hyperparâmetros\n",
        "print(\"Best Hyperparameters:\", grid_search.best_params_)\n",
        "\n",
        "# Obtendo o modelo selecionado\n",
        "best_model = grid_search.best_estimator_\n",
        "y_pred = best_model.predict(X_test)\n",
        "\n",
        "# Avaliação do modelo\n",
        "accuracy = accuracy_score(y_test, y_pred)\n",
        "print(\"Accuracy on Test Set:\", accuracy)"
      ],
      "metadata": {
        "colab": {
          "base_uri": "https://localhost:8080/"
        },
        "id": "rsngrkIxz3-g",
        "outputId": "f63d751d-beff-41c4-da40-f73dd6f9ba5c"
      },
      "execution_count": null,
      "outputs": [
        {
          "output_type": "stream",
          "name": "stdout",
          "text": [
            "Best Hyperparameters: {'criterion': 'entropy', 'max_depth': 5, 'min_samples_split': 3}\n",
            "Accuracy on Test Set: 0.956140350877193\n"
          ]
        }
      ]
    },
    {
      "cell_type": "markdown",
      "source": [
        "## Múltiplas grades"
      ],
      "metadata": {
        "id": "hZ3Of8WP01tw"
      }
    },
    {
      "cell_type": "code",
      "source": [
        "cancer = load_breast_cancer()\n",
        "X, y = cancer.data, cancer.target\n",
        "X_train, X_test, y_train, y_test = train_test_split(X, y, test_size=0.2, random_state=42)\n",
        "\n",
        "\n",
        "# Define o espaço de busca dos hyperparâmetros\n",
        "params_dist = [\n",
        "    {\n",
        "        'kernel': ['poly'],\n",
        "        'C': [0.1, 1, 10],\n",
        "        'degree': [2, 5, 10],\n",
        "        'coef0': [0.01, 0.1, 0.5]\n",
        "    },\n",
        "    {\n",
        "        'kernel': ['rbf'],\n",
        "        'C': [0.1, 1, 10],\n",
        "        'gamma': ['auto', 'scale']\n",
        "    }\n",
        "\n",
        "]\n",
        "\n",
        "svm_classifier = SVC()\n",
        "grid_search = GridSearchCV(estimator=svm_classifier, param_grid=params_dist, cv=5, scoring='accuracy', refit=True)\n",
        "grid_search.fit(X_train, y_train)\n",
        "\n",
        "# Valor dos hyperparâmetros\n",
        "print(\"Best Hyperparameters:\", grid_search.best_params_)\n",
        "\n",
        "# Obtendo o modelo selecionado\n",
        "best_model = grid_search.best_estimator_\n",
        "y_pred = best_model.predict(X_test)\n",
        "\n",
        "# Avaliação do modelo\n",
        "accuracy = accuracy_score(y_test, y_pred)\n",
        "print(\"Accuracy on Test Set:\", accuracy)"
      ],
      "metadata": {
        "colab": {
          "base_uri": "https://localhost:8080/"
        },
        "id": "TZeYOoKv1Asg",
        "outputId": "e19321d3-4a07-4c37-dbce-1f83efabf326"
      },
      "execution_count": null,
      "outputs": [
        {
          "output_type": "stream",
          "name": "stdout",
          "text": [
            "Best Hyperparameters: {'C': 10, 'coef0': 0.5, 'degree': 10, 'kernel': 'poly'}\n",
            "Accuracy on Test Set: 0.9473684210526315\n"
          ]
        }
      ]
    },
    {
      "cell_type": "markdown",
      "source": [
        "## Validação Cruzada aninhada"
      ],
      "metadata": {
        "id": "equyzlVe4MdA"
      }
    },
    {
      "cell_type": "code",
      "source": [
        "digts = load_digits()\n",
        "X, y = digts.data, digts.target\n",
        "\n",
        "inner_cv = KFold(n_splits=3, shuffle=True, random_state=10)\n",
        "outer_cv = KFold(n_splits=3, shuffle=True, random_state=10)\n",
        "\n",
        "p_grid = {\n",
        "    'C': [0.1, 1, 10],\n",
        "    'kernel': ['linear', 'rbf', 'poly'],\n",
        "    'gamma': ['scale', 'auto']\n",
        "}\n",
        "\n",
        "svm = SVC()\n",
        "\n",
        "# Non_nested parameter search and scoring\n",
        "clf = GridSearchCV(estimator=svm, param_grid=p_grid, cv=outer_cv, verbose=3)\n",
        "clf.fit(X, y)\n",
        "print(\"Performance sem aninhamento: \", clf.best_score_)\n",
        "print(\"Best Hyperparameters:\", clf.best_params_)"
      ],
      "metadata": {
        "colab": {
          "base_uri": "https://localhost:8080/"
        },
        "id": "YqDxBAAk4eRT",
        "outputId": "da2aff55-be97-4e68-e458-0cc80f9620ba"
      },
      "execution_count": null,
      "outputs": [
        {
          "output_type": "stream",
          "name": "stdout",
          "text": [
            "Fitting 3 folds for each of 18 candidates, totalling 54 fits\n",
            "[CV 1/3] END .C=0.1, gamma=scale, kernel=linear;, score=0.978 total time=   0.1s\n",
            "[CV 2/3] END .C=0.1, gamma=scale, kernel=linear;, score=0.972 total time=   0.1s\n",
            "[CV 3/3] END .C=0.1, gamma=scale, kernel=linear;, score=0.985 total time=   0.1s\n",
            "[CV 1/3] END ....C=0.1, gamma=scale, kernel=rbf;, score=0.948 total time=   0.3s\n",
            "[CV 2/3] END ....C=0.1, gamma=scale, kernel=rbf;, score=0.938 total time=   0.3s\n",
            "[CV 3/3] END ....C=0.1, gamma=scale, kernel=rbf;, score=0.965 total time=   0.3s\n",
            "[CV 1/3] END ...C=0.1, gamma=scale, kernel=poly;, score=0.975 total time=   0.1s\n",
            "[CV 2/3] END ...C=0.1, gamma=scale, kernel=poly;, score=0.970 total time=   0.1s\n",
            "[CV 3/3] END ...C=0.1, gamma=scale, kernel=poly;, score=0.982 total time=   0.1s\n",
            "[CV 1/3] END ..C=0.1, gamma=auto, kernel=linear;, score=0.978 total time=   0.1s\n",
            "[CV 2/3] END ..C=0.1, gamma=auto, kernel=linear;, score=0.972 total time=   0.1s\n",
            "[CV 3/3] END ..C=0.1, gamma=auto, kernel=linear;, score=0.985 total time=   0.1s\n",
            "[CV 1/3] END .....C=0.1, gamma=auto, kernel=rbf;, score=0.093 total time=   0.8s\n",
            "[CV 2/3] END .....C=0.1, gamma=auto, kernel=rbf;, score=0.097 total time=   1.0s\n",
            "[CV 3/3] END .....C=0.1, gamma=auto, kernel=rbf;, score=0.087 total time=   1.1s\n",
            "[CV 1/3] END ....C=0.1, gamma=auto, kernel=poly;, score=0.982 total time=   0.2s\n",
            "[CV 2/3] END ....C=0.1, gamma=auto, kernel=poly;, score=0.988 total time=   0.2s\n",
            "[CV 3/3] END ....C=0.1, gamma=auto, kernel=poly;, score=0.992 total time=   0.2s\n",
            "[CV 1/3] END ...C=1, gamma=scale, kernel=linear;, score=0.978 total time=   0.1s\n",
            "[CV 2/3] END ...C=1, gamma=scale, kernel=linear;, score=0.972 total time=   0.1s\n",
            "[CV 3/3] END ...C=1, gamma=scale, kernel=linear;, score=0.985 total time=   0.1s\n",
            "[CV 1/3] END ......C=1, gamma=scale, kernel=rbf;, score=0.983 total time=   0.2s\n",
            "[CV 2/3] END ......C=1, gamma=scale, kernel=rbf;, score=0.985 total time=   0.1s\n",
            "[CV 3/3] END ......C=1, gamma=scale, kernel=rbf;, score=0.992 total time=   0.1s\n",
            "[CV 1/3] END .....C=1, gamma=scale, kernel=poly;, score=0.983 total time=   0.1s\n",
            "[CV 2/3] END .....C=1, gamma=scale, kernel=poly;, score=0.987 total time=   0.1s\n",
            "[CV 3/3] END .....C=1, gamma=scale, kernel=poly;, score=0.988 total time=   0.1s\n",
            "[CV 1/3] END ....C=1, gamma=auto, kernel=linear;, score=0.978 total time=   0.1s\n",
            "[CV 2/3] END ....C=1, gamma=auto, kernel=linear;, score=0.972 total time=   0.1s\n",
            "[CV 3/3] END ....C=1, gamma=auto, kernel=linear;, score=0.985 total time=   0.1s\n",
            "[CV 1/3] END .......C=1, gamma=auto, kernel=rbf;, score=0.377 total time=   0.4s\n",
            "[CV 2/3] END .......C=1, gamma=auto, kernel=rbf;, score=0.444 total time=   0.4s\n",
            "[CV 3/3] END .......C=1, gamma=auto, kernel=rbf;, score=0.551 total time=   0.3s\n",
            "[CV 1/3] END ......C=1, gamma=auto, kernel=poly;, score=0.982 total time=   0.0s\n",
            "[CV 2/3] END ......C=1, gamma=auto, kernel=poly;, score=0.988 total time=   0.0s\n",
            "[CV 3/3] END ......C=1, gamma=auto, kernel=poly;, score=0.992 total time=   0.0s\n",
            "[CV 1/3] END ..C=10, gamma=scale, kernel=linear;, score=0.978 total time=   0.0s\n",
            "[CV 2/3] END ..C=10, gamma=scale, kernel=linear;, score=0.972 total time=   0.0s\n",
            "[CV 3/3] END ..C=10, gamma=scale, kernel=linear;, score=0.985 total time=   0.0s\n",
            "[CV 1/3] END .....C=10, gamma=scale, kernel=rbf;, score=0.988 total time=   0.1s\n",
            "[CV 2/3] END .....C=10, gamma=scale, kernel=rbf;, score=0.990 total time=   0.1s\n",
            "[CV 3/3] END .....C=10, gamma=scale, kernel=rbf;, score=0.992 total time=   0.1s\n",
            "[CV 1/3] END ....C=10, gamma=scale, kernel=poly;, score=0.982 total time=   0.0s\n",
            "[CV 2/3] END ....C=10, gamma=scale, kernel=poly;, score=0.988 total time=   0.0s\n",
            "[CV 3/3] END ....C=10, gamma=scale, kernel=poly;, score=0.992 total time=   0.0s\n",
            "[CV 1/3] END ...C=10, gamma=auto, kernel=linear;, score=0.978 total time=   0.0s\n",
            "[CV 2/3] END ...C=10, gamma=auto, kernel=linear;, score=0.972 total time=   0.0s\n",
            "[CV 3/3] END ...C=10, gamma=auto, kernel=linear;, score=0.985 total time=   0.0s\n",
            "[CV 1/3] END ......C=10, gamma=auto, kernel=rbf;, score=0.442 total time=   0.2s\n",
            "[CV 2/3] END ......C=10, gamma=auto, kernel=rbf;, score=0.482 total time=   0.3s\n",
            "[CV 3/3] END ......C=10, gamma=auto, kernel=rbf;, score=0.593 total time=   0.2s\n",
            "[CV 1/3] END .....C=10, gamma=auto, kernel=poly;, score=0.982 total time=   0.0s\n",
            "[CV 2/3] END .....C=10, gamma=auto, kernel=poly;, score=0.988 total time=   0.0s\n",
            "[CV 3/3] END .....C=10, gamma=auto, kernel=poly;, score=0.992 total time=   0.0s\n",
            "Performance sem aninhamento:  0.989983305509182\n",
            "Best Hyperparameters: {'C': 10, 'gamma': 'scale', 'kernel': 'rbf'}\n"
          ]
        }
      ]
    },
    {
      "cell_type": "code",
      "source": [
        "# Nested CV with parameter optimization\n",
        "clf = GridSearchCV(estimator=svm, param_grid=p_grid, cv=inner_cv, verbose=3)\n",
        "nested_score = cross_val_score(clf, X=X, y=y, cv=outer_cv)\n",
        "print(\"Performance comew  aninhamento: \", nested_score.mean())"
      ],
      "metadata": {
        "colab": {
          "base_uri": "https://localhost:8080/"
        },
        "id": "1cJFDwpJ_5AO",
        "outputId": "7b38ba5f-b392-448f-cef0-24e9f2045980"
      },
      "execution_count": null,
      "outputs": [
        {
          "output_type": "stream",
          "name": "stdout",
          "text": [
            "Fitting 3 folds for each of 18 candidates, totalling 54 fits\n",
            "[CV 1/3] END .C=0.1, gamma=scale, kernel=linear;, score=0.978 total time=   0.0s\n",
            "[CV 2/3] END .C=0.1, gamma=scale, kernel=linear;, score=0.977 total time=   0.0s\n",
            "[CV 3/3] END .C=0.1, gamma=scale, kernel=linear;, score=0.985 total time=   0.0s\n",
            "[CV 1/3] END ....C=0.1, gamma=scale, kernel=rbf;, score=0.930 total time=   0.1s\n",
            "[CV 2/3] END ....C=0.1, gamma=scale, kernel=rbf;, score=0.927 total time=   0.2s\n",
            "[CV 3/3] END ....C=0.1, gamma=scale, kernel=rbf;, score=0.935 total time=   0.1s\n",
            "[CV 1/3] END ...C=0.1, gamma=scale, kernel=poly;, score=0.975 total time=   0.0s\n",
            "[CV 2/3] END ...C=0.1, gamma=scale, kernel=poly;, score=0.975 total time=   0.1s\n",
            "[CV 3/3] END ...C=0.1, gamma=scale, kernel=poly;, score=0.967 total time=   0.1s\n",
            "[CV 1/3] END ..C=0.1, gamma=auto, kernel=linear;, score=0.978 total time=   0.1s\n",
            "[CV 2/3] END ..C=0.1, gamma=auto, kernel=linear;, score=0.977 total time=   0.0s\n",
            "[CV 3/3] END ..C=0.1, gamma=auto, kernel=linear;, score=0.985 total time=   0.0s\n",
            "[CV 1/3] END .....C=0.1, gamma=auto, kernel=rbf;, score=0.090 total time=   0.1s\n",
            "[CV 2/3] END .....C=0.1, gamma=auto, kernel=rbf;, score=0.090 total time=   0.2s\n",
            "[CV 3/3] END .....C=0.1, gamma=auto, kernel=rbf;, score=0.143 total time=   0.3s\n",
            "[CV 1/3] END ....C=0.1, gamma=auto, kernel=poly;, score=0.990 total time=   0.0s\n",
            "[CV 2/3] END ....C=0.1, gamma=auto, kernel=poly;, score=0.982 total time=   0.0s\n",
            "[CV 3/3] END ....C=0.1, gamma=auto, kernel=poly;, score=0.987 total time=   0.0s\n",
            "[CV 1/3] END ...C=1, gamma=scale, kernel=linear;, score=0.978 total time=   0.0s\n",
            "[CV 2/3] END ...C=1, gamma=scale, kernel=linear;, score=0.977 total time=   0.0s\n",
            "[CV 3/3] END ...C=1, gamma=scale, kernel=linear;, score=0.985 total time=   0.1s\n",
            "[CV 1/3] END ......C=1, gamma=scale, kernel=rbf;, score=0.985 total time=   0.1s\n",
            "[CV 2/3] END ......C=1, gamma=scale, kernel=rbf;, score=0.990 total time=   0.1s\n",
            "[CV 3/3] END ......C=1, gamma=scale, kernel=rbf;, score=0.985 total time=   0.1s\n",
            "[CV 1/3] END .....C=1, gamma=scale, kernel=poly;, score=0.993 total time=   0.0s\n",
            "[CV 2/3] END .....C=1, gamma=scale, kernel=poly;, score=0.982 total time=   0.0s\n",
            "[CV 3/3] END .....C=1, gamma=scale, kernel=poly;, score=0.985 total time=   0.0s\n",
            "[CV 1/3] END ....C=1, gamma=auto, kernel=linear;, score=0.978 total time=   0.0s\n",
            "[CV 2/3] END ....C=1, gamma=auto, kernel=linear;, score=0.977 total time=   0.0s\n",
            "[CV 3/3] END ....C=1, gamma=auto, kernel=linear;, score=0.985 total time=   0.0s\n",
            "[CV 1/3] END .......C=1, gamma=auto, kernel=rbf;, score=0.235 total time=   0.3s\n",
            "[CV 2/3] END .......C=1, gamma=auto, kernel=rbf;, score=0.341 total time=   0.3s\n",
            "[CV 3/3] END .......C=1, gamma=auto, kernel=rbf;, score=0.378 total time=   0.4s\n",
            "[CV 1/3] END ......C=1, gamma=auto, kernel=poly;, score=0.990 total time=   0.1s\n",
            "[CV 2/3] END ......C=1, gamma=auto, kernel=poly;, score=0.982 total time=   0.1s\n",
            "[CV 3/3] END ......C=1, gamma=auto, kernel=poly;, score=0.987 total time=   0.1s\n",
            "[CV 1/3] END ..C=10, gamma=scale, kernel=linear;, score=0.978 total time=   0.0s\n",
            "[CV 2/3] END ..C=10, gamma=scale, kernel=linear;, score=0.977 total time=   0.1s\n",
            "[CV 3/3] END ..C=10, gamma=scale, kernel=linear;, score=0.985 total time=   0.1s\n",
            "[CV 1/3] END .....C=10, gamma=scale, kernel=rbf;, score=0.990 total time=   0.1s\n",
            "[CV 2/3] END .....C=10, gamma=scale, kernel=rbf;, score=0.992 total time=   0.1s\n",
            "[CV 3/3] END .....C=10, gamma=scale, kernel=rbf;, score=0.990 total time=   0.1s\n",
            "[CV 1/3] END ....C=10, gamma=scale, kernel=poly;, score=0.990 total time=   0.1s\n",
            "[CV 2/3] END ....C=10, gamma=scale, kernel=poly;, score=0.982 total time=   0.1s\n",
            "[CV 3/3] END ....C=10, gamma=scale, kernel=poly;, score=0.987 total time=   0.1s\n",
            "[CV 1/3] END ...C=10, gamma=auto, kernel=linear;, score=0.978 total time=   0.1s\n",
            "[CV 2/3] END ...C=10, gamma=auto, kernel=linear;, score=0.977 total time=   0.0s\n",
            "[CV 3/3] END ...C=10, gamma=auto, kernel=linear;, score=0.985 total time=   0.1s\n",
            "[CV 1/3] END ......C=10, gamma=auto, kernel=rbf;, score=0.287 total time=   0.3s\n",
            "[CV 2/3] END ......C=10, gamma=auto, kernel=rbf;, score=0.393 total time=   0.2s\n",
            "[CV 3/3] END ......C=10, gamma=auto, kernel=rbf;, score=0.401 total time=   0.2s\n",
            "[CV 1/3] END .....C=10, gamma=auto, kernel=poly;, score=0.990 total time=   0.0s\n",
            "[CV 2/3] END .....C=10, gamma=auto, kernel=poly;, score=0.982 total time=   0.0s\n",
            "[CV 3/3] END .....C=10, gamma=auto, kernel=poly;, score=0.987 total time=   0.0s\n",
            "Fitting 3 folds for each of 18 candidates, totalling 54 fits\n",
            "[CV 1/3] END .C=0.1, gamma=scale, kernel=linear;, score=0.970 total time=   0.0s\n",
            "[CV 2/3] END .C=0.1, gamma=scale, kernel=linear;, score=0.980 total time=   0.0s\n",
            "[CV 3/3] END .C=0.1, gamma=scale, kernel=linear;, score=0.962 total time=   0.0s\n",
            "[CV 1/3] END ....C=0.1, gamma=scale, kernel=rbf;, score=0.930 total time=   0.1s\n",
            "[CV 2/3] END ....C=0.1, gamma=scale, kernel=rbf;, score=0.950 total time=   0.1s\n",
            "[CV 3/3] END ....C=0.1, gamma=scale, kernel=rbf;, score=0.907 total time=   0.1s\n",
            "[CV 1/3] END ...C=0.1, gamma=scale, kernel=poly;, score=0.963 total time=   0.1s\n",
            "[CV 2/3] END ...C=0.1, gamma=scale, kernel=poly;, score=0.977 total time=   0.1s\n",
            "[CV 3/3] END ...C=0.1, gamma=scale, kernel=poly;, score=0.950 total time=   0.1s\n",
            "[CV 1/3] END ..C=0.1, gamma=auto, kernel=linear;, score=0.970 total time=   0.0s\n",
            "[CV 2/3] END ..C=0.1, gamma=auto, kernel=linear;, score=0.980 total time=   0.0s\n",
            "[CV 3/3] END ..C=0.1, gamma=auto, kernel=linear;, score=0.962 total time=   0.0s\n",
            "[CV 1/3] END .....C=0.1, gamma=auto, kernel=rbf;, score=0.077 total time=   0.1s\n",
            "[CV 2/3] END .....C=0.1, gamma=auto, kernel=rbf;, score=0.093 total time=   0.1s\n",
            "[CV 3/3] END .....C=0.1, gamma=auto, kernel=rbf;, score=0.083 total time=   0.1s\n",
            "[CV 1/3] END ....C=0.1, gamma=auto, kernel=poly;, score=0.978 total time=   0.0s\n",
            "[CV 2/3] END ....C=0.1, gamma=auto, kernel=poly;, score=0.995 total time=   0.0s\n",
            "[CV 3/3] END ....C=0.1, gamma=auto, kernel=poly;, score=0.972 total time=   0.0s\n",
            "[CV 1/3] END ...C=1, gamma=scale, kernel=linear;, score=0.970 total time=   0.0s\n",
            "[CV 2/3] END ...C=1, gamma=scale, kernel=linear;, score=0.980 total time=   0.0s\n",
            "[CV 3/3] END ...C=1, gamma=scale, kernel=linear;, score=0.962 total time=   0.0s\n",
            "[CV 1/3] END ......C=1, gamma=scale, kernel=rbf;, score=0.980 total time=   0.0s\n",
            "[CV 2/3] END ......C=1, gamma=scale, kernel=rbf;, score=0.987 total time=   0.0s\n",
            "[CV 3/3] END ......C=1, gamma=scale, kernel=rbf;, score=0.967 total time=   0.0s\n",
            "[CV 1/3] END .....C=1, gamma=scale, kernel=poly;, score=0.980 total time=   0.0s\n",
            "[CV 2/3] END .....C=1, gamma=scale, kernel=poly;, score=0.995 total time=   0.0s\n",
            "[CV 3/3] END .....C=1, gamma=scale, kernel=poly;, score=0.970 total time=   0.0s\n",
            "[CV 1/3] END ....C=1, gamma=auto, kernel=linear;, score=0.970 total time=   0.0s\n",
            "[CV 2/3] END ....C=1, gamma=auto, kernel=linear;, score=0.980 total time=   0.0s\n",
            "[CV 3/3] END ....C=1, gamma=auto, kernel=linear;, score=0.962 total time=   0.0s\n",
            "[CV 1/3] END .......C=1, gamma=auto, kernel=rbf;, score=0.233 total time=   0.1s\n",
            "[CV 2/3] END .......C=1, gamma=auto, kernel=rbf;, score=0.426 total time=   0.1s\n",
            "[CV 3/3] END .......C=1, gamma=auto, kernel=rbf;, score=0.298 total time=   0.1s\n",
            "[CV 1/3] END ......C=1, gamma=auto, kernel=poly;, score=0.978 total time=   0.0s\n",
            "[CV 2/3] END ......C=1, gamma=auto, kernel=poly;, score=0.995 total time=   0.0s\n",
            "[CV 3/3] END ......C=1, gamma=auto, kernel=poly;, score=0.972 total time=   0.0s\n",
            "[CV 1/3] END ..C=10, gamma=scale, kernel=linear;, score=0.970 total time=   0.0s\n",
            "[CV 2/3] END ..C=10, gamma=scale, kernel=linear;, score=0.980 total time=   0.0s\n",
            "[CV 3/3] END ..C=10, gamma=scale, kernel=linear;, score=0.962 total time=   0.0s\n",
            "[CV 1/3] END .....C=10, gamma=scale, kernel=rbf;, score=0.983 total time=   0.0s\n",
            "[CV 2/3] END .....C=10, gamma=scale, kernel=rbf;, score=0.992 total time=   0.0s\n",
            "[CV 3/3] END .....C=10, gamma=scale, kernel=rbf;, score=0.977 total time=   0.0s\n",
            "[CV 1/3] END ....C=10, gamma=scale, kernel=poly;, score=0.978 total time=   0.0s\n",
            "[CV 2/3] END ....C=10, gamma=scale, kernel=poly;, score=0.995 total time=   0.0s\n",
            "[CV 3/3] END ....C=10, gamma=scale, kernel=poly;, score=0.972 total time=   0.0s\n",
            "[CV 1/3] END ...C=10, gamma=auto, kernel=linear;, score=0.970 total time=   0.0s\n",
            "[CV 2/3] END ...C=10, gamma=auto, kernel=linear;, score=0.980 total time=   0.0s\n",
            "[CV 3/3] END ...C=10, gamma=auto, kernel=linear;, score=0.962 total time=   0.0s\n",
            "[CV 1/3] END ......C=10, gamma=auto, kernel=rbf;, score=0.292 total time=   0.1s\n",
            "[CV 2/3] END ......C=10, gamma=auto, kernel=rbf;, score=0.451 total time=   0.1s\n",
            "[CV 3/3] END ......C=10, gamma=auto, kernel=rbf;, score=0.353 total time=   0.1s\n",
            "[CV 1/3] END .....C=10, gamma=auto, kernel=poly;, score=0.978 total time=   0.0s\n",
            "[CV 2/3] END .....C=10, gamma=auto, kernel=poly;, score=0.995 total time=   0.0s\n",
            "[CV 3/3] END .....C=10, gamma=auto, kernel=poly;, score=0.972 total time=   0.0s\n",
            "Fitting 3 folds for each of 18 candidates, totalling 54 fits\n",
            "[CV 1/3] END .C=0.1, gamma=scale, kernel=linear;, score=0.960 total time=   0.0s\n",
            "[CV 2/3] END .C=0.1, gamma=scale, kernel=linear;, score=0.975 total time=   0.0s\n",
            "[CV 3/3] END .C=0.1, gamma=scale, kernel=linear;, score=0.967 total time=   0.0s\n",
            "[CV 1/3] END ....C=0.1, gamma=scale, kernel=rbf;, score=0.935 total time=   0.1s\n",
            "[CV 2/3] END ....C=0.1, gamma=scale, kernel=rbf;, score=0.920 total time=   0.1s\n",
            "[CV 3/3] END ....C=0.1, gamma=scale, kernel=rbf;, score=0.932 total time=   0.1s\n",
            "[CV 1/3] END ...C=0.1, gamma=scale, kernel=poly;, score=0.975 total time=   0.0s\n",
            "[CV 2/3] END ...C=0.1, gamma=scale, kernel=poly;, score=0.960 total time=   0.0s\n",
            "[CV 3/3] END ...C=0.1, gamma=scale, kernel=poly;, score=0.972 total time=   0.0s\n",
            "[CV 1/3] END ..C=0.1, gamma=auto, kernel=linear;, score=0.960 total time=   0.0s\n",
            "[CV 2/3] END ..C=0.1, gamma=auto, kernel=linear;, score=0.975 total time=   0.0s\n",
            "[CV 3/3] END ..C=0.1, gamma=auto, kernel=linear;, score=0.967 total time=   0.0s\n",
            "[CV 1/3] END .....C=0.1, gamma=auto, kernel=rbf;, score=0.083 total time=   0.1s\n",
            "[CV 2/3] END .....C=0.1, gamma=auto, kernel=rbf;, score=0.095 total time=   0.1s\n",
            "[CV 3/3] END .....C=0.1, gamma=auto, kernel=rbf;, score=0.080 total time=   0.1s\n",
            "[CV 1/3] END ....C=0.1, gamma=auto, kernel=poly;, score=0.978 total time=   0.0s\n",
            "[CV 2/3] END ....C=0.1, gamma=auto, kernel=poly;, score=0.982 total time=   0.0s\n",
            "[CV 3/3] END ....C=0.1, gamma=auto, kernel=poly;, score=0.982 total time=   0.0s\n",
            "[CV 1/3] END ...C=1, gamma=scale, kernel=linear;, score=0.960 total time=   0.0s\n",
            "[CV 2/3] END ...C=1, gamma=scale, kernel=linear;, score=0.975 total time=   0.0s\n",
            "[CV 3/3] END ...C=1, gamma=scale, kernel=linear;, score=0.967 total time=   0.0s\n",
            "[CV 1/3] END ......C=1, gamma=scale, kernel=rbf;, score=0.983 total time=   0.1s\n",
            "[CV 2/3] END ......C=1, gamma=scale, kernel=rbf;, score=0.982 total time=   0.0s\n",
            "[CV 3/3] END ......C=1, gamma=scale, kernel=rbf;, score=0.977 total time=   0.0s\n",
            "[CV 1/3] END .....C=1, gamma=scale, kernel=poly;, score=0.978 total time=   0.0s\n",
            "[CV 2/3] END .....C=1, gamma=scale, kernel=poly;, score=0.982 total time=   0.0s\n",
            "[CV 3/3] END .....C=1, gamma=scale, kernel=poly;, score=0.982 total time=   0.0s\n",
            "[CV 1/3] END ....C=1, gamma=auto, kernel=linear;, score=0.960 total time=   0.0s\n",
            "[CV 2/3] END ....C=1, gamma=auto, kernel=linear;, score=0.975 total time=   0.0s\n",
            "[CV 3/3] END ....C=1, gamma=auto, kernel=linear;, score=0.967 total time=   0.0s\n",
            "[CV 1/3] END .......C=1, gamma=auto, kernel=rbf;, score=0.278 total time=   0.1s\n",
            "[CV 2/3] END .......C=1, gamma=auto, kernel=rbf;, score=0.248 total time=   0.1s\n",
            "[CV 3/3] END .......C=1, gamma=auto, kernel=rbf;, score=0.243 total time=   0.1s\n",
            "[CV 1/3] END ......C=1, gamma=auto, kernel=poly;, score=0.978 total time=   0.0s\n",
            "[CV 2/3] END ......C=1, gamma=auto, kernel=poly;, score=0.982 total time=   0.0s\n",
            "[CV 3/3] END ......C=1, gamma=auto, kernel=poly;, score=0.982 total time=   0.0s\n",
            "[CV 1/3] END ..C=10, gamma=scale, kernel=linear;, score=0.960 total time=   0.0s\n",
            "[CV 2/3] END ..C=10, gamma=scale, kernel=linear;, score=0.975 total time=   0.0s\n",
            "[CV 3/3] END ..C=10, gamma=scale, kernel=linear;, score=0.967 total time=   0.0s\n",
            "[CV 1/3] END .....C=10, gamma=scale, kernel=rbf;, score=0.985 total time=   0.0s\n",
            "[CV 2/3] END .....C=10, gamma=scale, kernel=rbf;, score=0.987 total time=   0.0s\n",
            "[CV 3/3] END .....C=10, gamma=scale, kernel=rbf;, score=0.987 total time=   0.0s\n",
            "[CV 1/3] END ....C=10, gamma=scale, kernel=poly;, score=0.978 total time=   0.0s\n",
            "[CV 2/3] END ....C=10, gamma=scale, kernel=poly;, score=0.982 total time=   0.0s\n",
            "[CV 3/3] END ....C=10, gamma=scale, kernel=poly;, score=0.982 total time=   0.0s\n",
            "[CV 1/3] END ...C=10, gamma=auto, kernel=linear;, score=0.960 total time=   0.0s\n",
            "[CV 2/3] END ...C=10, gamma=auto, kernel=linear;, score=0.975 total time=   0.0s\n",
            "[CV 3/3] END ...C=10, gamma=auto, kernel=linear;, score=0.967 total time=   0.0s\n",
            "[CV 1/3] END ......C=10, gamma=auto, kernel=rbf;, score=0.310 total time=   0.1s\n",
            "[CV 2/3] END ......C=10, gamma=auto, kernel=rbf;, score=0.311 total time=   0.1s\n",
            "[CV 3/3] END ......C=10, gamma=auto, kernel=rbf;, score=0.293 total time=   0.1s\n",
            "[CV 1/3] END .....C=10, gamma=auto, kernel=poly;, score=0.978 total time=   0.0s\n",
            "[CV 2/3] END .....C=10, gamma=auto, kernel=poly;, score=0.982 total time=   0.0s\n",
            "[CV 3/3] END .....C=10, gamma=auto, kernel=poly;, score=0.982 total time=   0.0s\n",
            "Performance comew  aninhamento:  0.989983305509182\n"
          ]
        }
      ]
    }
  ]
}