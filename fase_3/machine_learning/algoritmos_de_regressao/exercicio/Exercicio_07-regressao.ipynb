{
 "cells": [
  {
   "cell_type": "markdown",
   "id": "6f8c20e6",
   "metadata": {},
   "source": [
    "**Aviso:** Realize a atividade prática antes de responder o questionário, pois o mesmo faz algumas questões sobre a prática.\n",
    "\n",
    "## Dataset\n",
    "O Dataset cloud possui 6 atributos preditivos (period, seeded, season, NC, SC, NWC) e um atributo alvo (Target).\n",
    "\n",
    "Estes dados foram recolhidos numa experiência de sementeira de nuvens na Tasmânia entre meados de 1964 e Janeiro de 1971. Este é uma versão pré-processada do dataset disponível em https://www.openml.org/data/download/3647/dataset_2196_cloud.arff\n",
    "\n",
    " \n",
    "## Atividades práticas\n",
    " - Execute 10 vezes o 5-folds CV utilizando diferentes valores para o random_state e calcule o R2 médio destas execuções, para o algoritmo de Regressão Linear.\n",
    " - Utilizando todo o conjunto de dados para induzir um modelo Lasso com alpha=1, identifique quantos atributos tiveram seus respectivos coeficientes zerados.\n",
    " - Utilizando todo o conjunto de dados para induzir um modelo de Regressão Linear, identifique os valores dos coeficientes obtidos para cada atributo.\n",
    " - Divida o dataset em 80%,20% e utilizando as mesmas partições compare o desempenho dos algoritmos Regressão Linear, Lasso e Ridge usando a medida RMSE.\n",
    " - Utilizando a técnica de Leave-one-out calcule o valor do erro médio absoluto (MAE) para o algoritmo de Regressão Linear"
   ]
  },
  {
   "cell_type": "code",
   "execution_count": 62,
   "id": "4394065c",
   "metadata": {},
   "outputs": [],
   "source": [
    "import numpy as np\n",
    "import matplotlib.pyplot as plt\n",
    "import pandas as pd\n",
    "from sklearn.datasets import make_regression\n",
    "from sklearn.model_selection import train_test_split\n",
    "from sklearn.preprocessing import PolynomialFeatures\n",
    "from sklearn.linear_model import LinearRegression, Ridge, Lasso\n",
    "from sklearn.metrics import r2_score, mean_squared_error, root_mean_squared_error, mean_absolute_error\n",
    "from sklearn.model_selection import cross_val_score, cross_val_predict, KFold, LeaveOneOut"
   ]
  },
  {
   "cell_type": "code",
   "execution_count": null,
   "id": "33408d75",
   "metadata": {},
   "outputs": [
    {
     "data": {
      "application/vnd.microsoft.datawrangler.viewer.v0+json": {
       "columns": [
        {
         "name": "index",
         "rawType": "int64",
         "type": "integer"
        },
        {
         "name": "period",
         "rawType": "float64",
         "type": "float"
        },
        {
         "name": "seeded",
         "rawType": "int64",
         "type": "integer"
        },
        {
         "name": "season",
         "rawType": "float64",
         "type": "float"
        },
        {
         "name": "NC",
         "rawType": "float64",
         "type": "float"
        },
        {
         "name": "SC",
         "rawType": "float64",
         "type": "float"
        },
        {
         "name": "NWC",
         "rawType": "float64",
         "type": "float"
        },
        {
         "name": "Target",
         "rawType": "float64",
         "type": "float"
        }
       ],
       "ref": "70001a52-a737-43d5-ad62-cacc48d126db",
       "rows": [
        [
         "0",
         "1.0",
         "1",
         "-0.5",
         "1.65",
         "1.8",
         "3.33",
         "1.69"
        ],
        [
         "1",
         "2.0",
         "0",
         "-0.5",
         "1.09",
         "0.79",
         "1.59",
         "0.74"
        ],
        [
         "2",
         "3.0",
         "1",
         "-1.0",
         "2.39",
         "0.36",
         "2.06",
         "0.81"
        ],
        [
         "3",
         "4.0",
         "0",
         "-1.0",
         "2.96",
         "1.27",
         "4.05",
         "1.44"
        ],
        [
         "4",
         "5.0",
         "1",
         "-1.0",
         "4.16",
         "2.16",
         "6.0",
         "2.48"
        ],
        [
         "5",
         "6.0",
         "0",
         "-1.0",
         "2.76",
         "0.87",
         "4.17",
         "0.84"
        ],
        [
         "6",
         "7.0",
         "0",
         "-1.0",
         "1.08",
         "0.85",
         "3.45",
         "0.37"
        ],
        [
         "7",
         "8.0",
         "1",
         "-1.0",
         "0.26",
         "0.47",
         "0.9",
         "0.37"
        ]
       ],
       "shape": {
        "columns": 7,
        "rows": 8
       }
      },
      "text/html": [
       "<div>\n",
       "<style scoped>\n",
       "    .dataframe tbody tr th:only-of-type {\n",
       "        vertical-align: middle;\n",
       "    }\n",
       "\n",
       "    .dataframe tbody tr th {\n",
       "        vertical-align: top;\n",
       "    }\n",
       "\n",
       "    .dataframe thead th {\n",
       "        text-align: right;\n",
       "    }\n",
       "</style>\n",
       "<table border=\"1\" class=\"dataframe\">\n",
       "  <thead>\n",
       "    <tr style=\"text-align: right;\">\n",
       "      <th></th>\n",
       "      <th>period</th>\n",
       "      <th>seeded</th>\n",
       "      <th>season</th>\n",
       "      <th>NC</th>\n",
       "      <th>SC</th>\n",
       "      <th>NWC</th>\n",
       "      <th>Target</th>\n",
       "    </tr>\n",
       "  </thead>\n",
       "  <tbody>\n",
       "    <tr>\n",
       "      <th>0</th>\n",
       "      <td>1.0</td>\n",
       "      <td>1</td>\n",
       "      <td>-0.5</td>\n",
       "      <td>1.65</td>\n",
       "      <td>1.80</td>\n",
       "      <td>3.33</td>\n",
       "      <td>1.69</td>\n",
       "    </tr>\n",
       "    <tr>\n",
       "      <th>1</th>\n",
       "      <td>2.0</td>\n",
       "      <td>0</td>\n",
       "      <td>-0.5</td>\n",
       "      <td>1.09</td>\n",
       "      <td>0.79</td>\n",
       "      <td>1.59</td>\n",
       "      <td>0.74</td>\n",
       "    </tr>\n",
       "    <tr>\n",
       "      <th>2</th>\n",
       "      <td>3.0</td>\n",
       "      <td>1</td>\n",
       "      <td>-1.0</td>\n",
       "      <td>2.39</td>\n",
       "      <td>0.36</td>\n",
       "      <td>2.06</td>\n",
       "      <td>0.81</td>\n",
       "    </tr>\n",
       "    <tr>\n",
       "      <th>3</th>\n",
       "      <td>4.0</td>\n",
       "      <td>0</td>\n",
       "      <td>-1.0</td>\n",
       "      <td>2.96</td>\n",
       "      <td>1.27</td>\n",
       "      <td>4.05</td>\n",
       "      <td>1.44</td>\n",
       "    </tr>\n",
       "    <tr>\n",
       "      <th>4</th>\n",
       "      <td>5.0</td>\n",
       "      <td>1</td>\n",
       "      <td>-1.0</td>\n",
       "      <td>4.16</td>\n",
       "      <td>2.16</td>\n",
       "      <td>6.00</td>\n",
       "      <td>2.48</td>\n",
       "    </tr>\n",
       "    <tr>\n",
       "      <th>5</th>\n",
       "      <td>6.0</td>\n",
       "      <td>0</td>\n",
       "      <td>-1.0</td>\n",
       "      <td>2.76</td>\n",
       "      <td>0.87</td>\n",
       "      <td>4.17</td>\n",
       "      <td>0.84</td>\n",
       "    </tr>\n",
       "    <tr>\n",
       "      <th>6</th>\n",
       "      <td>7.0</td>\n",
       "      <td>0</td>\n",
       "      <td>-1.0</td>\n",
       "      <td>1.08</td>\n",
       "      <td>0.85</td>\n",
       "      <td>3.45</td>\n",
       "      <td>0.37</td>\n",
       "    </tr>\n",
       "    <tr>\n",
       "      <th>7</th>\n",
       "      <td>8.0</td>\n",
       "      <td>1</td>\n",
       "      <td>-1.0</td>\n",
       "      <td>0.26</td>\n",
       "      <td>0.47</td>\n",
       "      <td>0.90</td>\n",
       "      <td>0.37</td>\n",
       "    </tr>\n",
       "  </tbody>\n",
       "</table>\n",
       "</div>"
      ],
      "text/plain": [
       "   period  seeded  season    NC    SC   NWC  Target\n",
       "0     1.0       1    -0.5  1.65  1.80  3.33    1.69\n",
       "1     2.0       0    -0.5  1.09  0.79  1.59    0.74\n",
       "2     3.0       1    -1.0  2.39  0.36  2.06    0.81\n",
       "3     4.0       0    -1.0  2.96  1.27  4.05    1.44\n",
       "4     5.0       1    -1.0  4.16  2.16  6.00    2.48\n",
       "5     6.0       0    -1.0  2.76  0.87  4.17    0.84\n",
       "6     7.0       0    -1.0  1.08  0.85  3.45    0.37\n",
       "7     8.0       1    -1.0  0.26  0.47  0.90    0.37"
      ]
     },
     "metadata": {},
     "output_type": "display_data"
    },
    {
     "data": {
      "application/vnd.microsoft.datawrangler.viewer.v0+json": {
       "columns": [
        {
         "name": "index",
         "rawType": "int64",
         "type": "integer"
        },
        {
         "name": "period",
         "rawType": "float64",
         "type": "float"
        },
        {
         "name": "seeded",
         "rawType": "int64",
         "type": "integer"
        },
        {
         "name": "season",
         "rawType": "float64",
         "type": "float"
        },
        {
         "name": "NC",
         "rawType": "float64",
         "type": "float"
        },
        {
         "name": "SC",
         "rawType": "float64",
         "type": "float"
        },
        {
         "name": "NWC",
         "rawType": "float64",
         "type": "float"
        }
       ],
       "ref": "8a625072-bd0a-49c3-9b37-9560c220e2da",
       "rows": [
        [
         "0",
         "1.0",
         "1",
         "-0.5",
         "1.65",
         "1.8",
         "3.33"
        ],
        [
         "1",
         "2.0",
         "0",
         "-0.5",
         "1.09",
         "0.79",
         "1.59"
        ],
        [
         "2",
         "3.0",
         "1",
         "-1.0",
         "2.39",
         "0.36",
         "2.06"
        ],
        [
         "3",
         "4.0",
         "0",
         "-1.0",
         "2.96",
         "1.27",
         "4.05"
        ],
        [
         "4",
         "5.0",
         "1",
         "-1.0",
         "4.16",
         "2.16",
         "6.0"
        ],
        [
         "5",
         "6.0",
         "0",
         "-1.0",
         "2.76",
         "0.87",
         "4.17"
        ],
        [
         "6",
         "7.0",
         "0",
         "-1.0",
         "1.08",
         "0.85",
         "3.45"
        ],
        [
         "7",
         "8.0",
         "1",
         "-1.0",
         "0.26",
         "0.47",
         "0.9"
        ]
       ],
       "shape": {
        "columns": 6,
        "rows": 8
       }
      },
      "text/html": [
       "<div>\n",
       "<style scoped>\n",
       "    .dataframe tbody tr th:only-of-type {\n",
       "        vertical-align: middle;\n",
       "    }\n",
       "\n",
       "    .dataframe tbody tr th {\n",
       "        vertical-align: top;\n",
       "    }\n",
       "\n",
       "    .dataframe thead th {\n",
       "        text-align: right;\n",
       "    }\n",
       "</style>\n",
       "<table border=\"1\" class=\"dataframe\">\n",
       "  <thead>\n",
       "    <tr style=\"text-align: right;\">\n",
       "      <th></th>\n",
       "      <th>period</th>\n",
       "      <th>seeded</th>\n",
       "      <th>season</th>\n",
       "      <th>NC</th>\n",
       "      <th>SC</th>\n",
       "      <th>NWC</th>\n",
       "    </tr>\n",
       "  </thead>\n",
       "  <tbody>\n",
       "    <tr>\n",
       "      <th>0</th>\n",
       "      <td>1.0</td>\n",
       "      <td>1</td>\n",
       "      <td>-0.5</td>\n",
       "      <td>1.65</td>\n",
       "      <td>1.80</td>\n",
       "      <td>3.33</td>\n",
       "    </tr>\n",
       "    <tr>\n",
       "      <th>1</th>\n",
       "      <td>2.0</td>\n",
       "      <td>0</td>\n",
       "      <td>-0.5</td>\n",
       "      <td>1.09</td>\n",
       "      <td>0.79</td>\n",
       "      <td>1.59</td>\n",
       "    </tr>\n",
       "    <tr>\n",
       "      <th>2</th>\n",
       "      <td>3.0</td>\n",
       "      <td>1</td>\n",
       "      <td>-1.0</td>\n",
       "      <td>2.39</td>\n",
       "      <td>0.36</td>\n",
       "      <td>2.06</td>\n",
       "    </tr>\n",
       "    <tr>\n",
       "      <th>3</th>\n",
       "      <td>4.0</td>\n",
       "      <td>0</td>\n",
       "      <td>-1.0</td>\n",
       "      <td>2.96</td>\n",
       "      <td>1.27</td>\n",
       "      <td>4.05</td>\n",
       "    </tr>\n",
       "    <tr>\n",
       "      <th>4</th>\n",
       "      <td>5.0</td>\n",
       "      <td>1</td>\n",
       "      <td>-1.0</td>\n",
       "      <td>4.16</td>\n",
       "      <td>2.16</td>\n",
       "      <td>6.00</td>\n",
       "    </tr>\n",
       "    <tr>\n",
       "      <th>5</th>\n",
       "      <td>6.0</td>\n",
       "      <td>0</td>\n",
       "      <td>-1.0</td>\n",
       "      <td>2.76</td>\n",
       "      <td>0.87</td>\n",
       "      <td>4.17</td>\n",
       "    </tr>\n",
       "    <tr>\n",
       "      <th>6</th>\n",
       "      <td>7.0</td>\n",
       "      <td>0</td>\n",
       "      <td>-1.0</td>\n",
       "      <td>1.08</td>\n",
       "      <td>0.85</td>\n",
       "      <td>3.45</td>\n",
       "    </tr>\n",
       "    <tr>\n",
       "      <th>7</th>\n",
       "      <td>8.0</td>\n",
       "      <td>1</td>\n",
       "      <td>-1.0</td>\n",
       "      <td>0.26</td>\n",
       "      <td>0.47</td>\n",
       "      <td>0.90</td>\n",
       "    </tr>\n",
       "  </tbody>\n",
       "</table>\n",
       "</div>"
      ],
      "text/plain": [
       "   period  seeded  season    NC    SC   NWC\n",
       "0     1.0       1    -0.5  1.65  1.80  3.33\n",
       "1     2.0       0    -0.5  1.09  0.79  1.59\n",
       "2     3.0       1    -1.0  2.39  0.36  2.06\n",
       "3     4.0       0    -1.0  2.96  1.27  4.05\n",
       "4     5.0       1    -1.0  4.16  2.16  6.00\n",
       "5     6.0       0    -1.0  2.76  0.87  4.17\n",
       "6     7.0       0    -1.0  1.08  0.85  3.45\n",
       "7     8.0       1    -1.0  0.26  0.47  0.90"
      ]
     },
     "metadata": {},
     "output_type": "display_data"
    }
   ],
   "source": [
    "df = pd.read_csv('cloud.csv')\n",
    "display(df.head(8))\n",
    "\n",
    "x = df.drop(columns=['Target'])\n",
    "y = df['Target']\n",
    "display(x.head(8))"
   ]
  },
  {
   "cell_type": "code",
   "execution_count": 19,
   "id": "e7d73eaa",
   "metadata": {},
   "outputs": [
    {
     "data": {
      "image/png": "[encoded data removed]",
      "text/plain": [
       "<Figure size 1900x1300 with 6 Axes>"
      ]
     },
     "metadata": {},
     "output_type": "display_data"
    }
   ],
   "source": [
    "plt.figure(figsize=(19,13))\n",
    "\n",
    "plt.subplot(2, 3, 1)\n",
    "plt.scatter(x=df['period'], y=y)\n",
    "plt.title('Period x Target')\n",
    "plt.xlabel('Period')\n",
    "plt.ylabel('Target')\n",
    "\n",
    "plt.subplot(2, 3, 2)\n",
    "plt.scatter(x=df['seeded'], y=y)\n",
    "plt.title('Seeded x Target')\n",
    "plt.xlabel('Seeded')\n",
    "plt.ylabel('Target')\n",
    "\n",
    "\n",
    "plt.subplot(2, 3, 3)\n",
    "plt.scatter(x=df['season'], y=y)\n",
    "plt.title('Season x Target')\n",
    "plt.xlabel('Season')\n",
    "plt.ylabel('Target')\n",
    "\n",
    "\n",
    "plt.subplot(2, 3, 4)\n",
    "plt.scatter(x=df['NC'], y=y)\n",
    "plt.title('NC x Target')\n",
    "plt.xlabel('NC')\n",
    "plt.ylabel('Target')\n",
    "\n",
    "\n",
    "plt.subplot(2, 3, 5)\n",
    "plt.scatter(x=df['SC'], y=y)\n",
    "plt.title('SC x Target')\n",
    "plt.xlabel('SC')\n",
    "plt.ylabel('Target')\n",
    "\n",
    "\n",
    "plt.subplot(2, 3, 6)\n",
    "plt.scatter(x=df['NWC'], y=y)\n",
    "plt.title('NWC x Target')\n",
    "plt.xlabel('NWC')\n",
    "plt.ylabel('Target')\n",
    "\n",
    "plt.show()"
   ]
  },
  {
   "cell_type": "markdown",
   "id": "62701990",
   "metadata": {},
   "source": [
    "##### Execute 10 vezes o 5-folds CV utilizando diferentes valores para o random_state e calcule o R2 médio destas execuções, para o algoritmo de Regressão Linear."
   ]
  },
  {
   "cell_type": "code",
   "execution_count": 16,
   "id": "b1dbf6d4",
   "metadata": {},
   "outputs": [
    {
     "name": "stdout",
     "output_type": "stream",
     "text": [
      "Média de scores do fold atual: 0.8217355683898528\n",
      "Média de scores do fold atual: 0.8013696751893041\n",
      "Média de scores do fold atual: 0.8157356278247262\n",
      "Média de scores do fold atual: 0.8617179213959881\n",
      "Média de scores do fold atual: 0.814957009352437\n",
      "Média de scores do fold atual: 0.8379243876657441\n",
      "Média de scores do fold atual: 0.8558545025918992\n",
      "Média de scores do fold atual: 0.8003186263058615\n",
      "Média de scores do fold atual: 0.7959755003650896\n",
      "Média de scores do fold atual: 0.8032850687603725\n",
      "\n",
      "Média de todos os r-scores: 0.8208873887841275\n"
     ]
    }
   ],
   "source": [
    "lr_r2_scores = []\n",
    "lr_r2_means = []\n",
    "for i in range(1, 11):\n",
    "  kf = KFold(n_splits=5, shuffle=True, random_state=i)\n",
    "  ln_r2_score = cross_val_score(LinearRegression(), x, y, cv=kf, scoring='r2')\n",
    "  lr_r2_scores.append(ln_r2_score)\n",
    "  lr_r2_mean = ln_r2_score.mean()\n",
    "  lr_r2_means.append(lr_r2_mean)\n",
    "  print(\"Média de scores do fold atual: {}\".format(lr_r2_mean))\n",
    "  \n",
    "scores_df = pd.DataFrame(lr_r2_scores, columns=['k-1', 'k-2', 'k-3', 'k-4', 'k-5'])\n",
    "scores_df['mean'] = lr_r2_means\n",
    "\n",
    "general_mean = np.mean(lr_r2_means)\n",
    "print(\"\\nMédia de todos os r-scores: {}\".format(general_mean))"
   ]
  },
  {
   "cell_type": "markdown",
   "id": "b1e9a474",
   "metadata": {},
   "source": [
    "##### Utilizando todo o conjunto de dados para induzir um modelo Lasso com alpha=1, identifique quantos atributos tiveram seus respectivos coeficientes zerados."
   ]
  },
  {
   "cell_type": "code",
   "execution_count": null,
   "id": "65aa5e52",
   "metadata": {},
   "outputs": [
    {
     "name": "stdout",
     "output_type": "stream",
     "text": [
      "Mean Squared Ecore: 0.8303237936545783\n",
      "R2 Score: 0.2777098995782318\n",
      "Intercept: 0.773032970855124\n",
      "Coeficientes: [ 0.00246382 -0.         -0.          0.10093995  0.          0.02722853]\n"
     ]
    }
   ],
   "source": [
    "l_model = Lasso(alpha=1, random_state=37)\n",
    "l_model.fit(x, y)\n",
    "y_pred = l_model.predict(x)\n",
    "print(\"Mean Squared Score: {}\".format(mean_squared_error(y, y_pred)))\n",
    "print(\"R2 Score: {}\".format(r2_score(y, y_pred)))\n",
    "print(\"Intercept: {}\".format(l_model.intercept_))\n",
    "print(\"Coeficientes: {}\".format(l_model.coef_))"
   ]
  },
  {
   "cell_type": "markdown",
   "id": "fd67bec0",
   "metadata": {},
   "source": [
    "##### Utilizando todo o conjunto de dados para induzir um modelo de Regressão Linear, identifique os valores dos coeficientes obtidos para cada atributo."
   ]
  },
  {
   "cell_type": "code",
   "execution_count": null,
   "id": "091912de",
   "metadata": {},
   "outputs": [
    {
     "name": "stdout",
     "output_type": "stream",
     "text": [
      "Mean Squared Ecore: 0.128769547773909\n",
      "R2 Score: 0.8879846990973079\n",
      "Intercept: -0.1326054533606127\n",
      "Coeficientes: [ 5.90225593e-04  3.30711240e-02  5.80051846e-02  4.78715219e-01\n",
      "  7.10376709e-01 -1.30329221e-01]\n"
     ]
    }
   ],
   "source": [
    "lr_model = LinearRegression()\n",
    "lr_model.fit(x, y)\n",
    "y_pred = lr_model.predict(x)\n",
    "print(\"Mean Squared Score: {}\".format(mean_squared_error(y, y_pred)))\n",
    "print(\"R2 Score: {}\".format(r2_score(y, y_pred)))\n",
    "print(\"Intercept: {}\".format(lr_model.intercept_))\n",
    "print(\"Coeficientes: {}\".format(lr_model.coef_))"
   ]
  },
  {
   "cell_type": "markdown",
   "id": "611ec0f8",
   "metadata": {},
   "source": [
    "##### Divida o dataset em 80%,20% e utilizando as mesmas partições compare o desempenho dos algoritmos Regressão Linear, Lasso e Ridge usando a medida RMSE."
   ]
  },
  {
   "cell_type": "code",
   "execution_count": 41,
   "id": "e0d26836",
   "metadata": {},
   "outputs": [
    {
     "name": "stdout",
     "output_type": "stream",
     "text": [
      "Mean Squared Score: 0.13621179695421093\n",
      "Root Mean Squared Score: 0.36906882414288383\n",
      "R2 Score: 0.8217599795881307\n",
      "Intercept: -0.13564405710990424\n",
      "Coeficientes: [ 0.0011431  -0.00124984  0.01890207  0.47770134  0.70244551 -0.1389403 ]\n",
      "\n",
      "Mean Squared Score: 0.5761214373165917\n",
      "Root Mean Squared Score: 0.7590266380810305\n",
      "R2 Score: 0.24611598229230913\n",
      "Intercept: 0.680821633258478\n",
      "Coeficientes: [ 0.0029112 -0.        -0.         0.1815849  0.         0.       ]\n",
      "\n",
      "Mean Squared Score: 0.13699087836216783\n",
      "Root Mean Squared Score: 0.3701227882232703\n",
      "R2 Score: 0.8207405121913133\n",
      "Intercept: -0.13476955562471837\n",
      "Coeficientes: [ 1.16718363e-03 -5.25769313e-04  2.16661004e-02  4.69592439e-01\n",
      "  6.82458309e-01 -1.23930505e-01]\n"
     ]
    }
   ],
   "source": [
    "x_train, x_test, y_train, y_test = train_test_split(x, y, test_size=0.2, random_state=37)\n",
    "\n",
    "lr_model = LinearRegression()\n",
    "lr_model.fit(x_train, y_train)\n",
    "y_pred = lr_model.predict(x_test)\n",
    "print(\"Mean Squared Score: {}\".format(mean_squared_error(y_test, y_pred)))\n",
    "print(\"Root Mean Squared Score: {}\".format(root_mean_squared_error(y_test, y_pred)))\n",
    "print(\"R2 Score: {}\".format(r2_score(y_test, y_pred)))\n",
    "print(\"Intercept: {}\".format(lr_model.intercept_))\n",
    "print(\"Coeficientes: {}\".format(lr_model.coef_))\n",
    "\n",
    "l_model = Lasso(alpha=1, random_state=7)\n",
    "l_model.fit(x_train, y_train)\n",
    "y_pred = l_model.predict(x_test)\n",
    "print(\"\\nMean Squared Score: {}\".format(mean_squared_error(y_test, y_pred)))\n",
    "print(\"Root Mean Squared Score: {}\".format(root_mean_squared_error(y_test, y_pred)))\n",
    "print(\"R2 Score: {}\".format(r2_score(y_test, y_pred)))\n",
    "print(\"Intercept: {}\".format(l_model.intercept_))\n",
    "print(\"Coeficientes: {}\".format(l_model.coef_))\n",
    "\n",
    "r_model = Ridge(alpha=1, random_state=7)\n",
    "r_model.fit(x_train, y_train)\n",
    "y_pred = r_model.predict(x_test)\n",
    "print(\"\\nMean Squared Score: {}\".format(mean_squared_error(y_test, y_pred)))\n",
    "print(\"Root Mean Squared Score: {}\".format(root_mean_squared_error(y_test, y_pred)))\n",
    "print(\"R2 Score: {}\".format(r2_score(y_test, y_pred)))\n",
    "print(\"Intercept: {}\".format(r_model.intercept_))\n",
    "print(\"Coeficientes: {}\".format(r_model.coef_))"
   ]
  },
  {
   "cell_type": "markdown",
   "id": "824169b5",
   "metadata": {},
   "source": [
    "##### Utilizando a técnica de Leave-one-out calcule o valor do erro médio absoluto (MAE) para o algoritmo de Regressão Linear"
   ]
  },
  {
   "cell_type": "code",
   "execution_count": 82,
   "id": "1dbb1054",
   "metadata": {},
   "outputs": [
    {
     "name": "stdout",
     "output_type": "stream",
     "text": [
      "MAE: 0.5734007318531938\n",
      "MSE: 0.3287883992897783\n",
      "RMSE: 0.5734007318531938\n",
      "R2 Score: {} nan\n"
     ]
    },
    {
     "name": "stderr",
     "output_type": "stream",
     "text": [
      "/home/will/Desktop/postgrad-ai/.venv/lib/python3.11/site-packages/sklearn/metrics/_regression.py:1283: UndefinedMetricWarning: R^2 score is not well-defined with less than two samples.\n",
      "  warnings.warn(msg, UndefinedMetricWarning)\n"
     ]
    }
   ],
   "source": [
    "loo = LeaveOneOut()\n",
    "l_model = LinearRegression()\n",
    "\n",
    "predictions = []\n",
    "for i, (train_index, test_index) in enumerate(loo.split(X=x, y=y)):\n",
    "  x_train = x.iloc[train_index]\n",
    "  y_train = y.iloc[train_index]\n",
    "  x_test = x.iloc[test_index]\n",
    "  y_test = y.iloc[test_index]\n",
    "  \n",
    "  l_model.fit(x_train, y_train)\n",
    "  predictions.append(l_model.predict(x_test))\n",
    "\n",
    "print(\"MAE: {}\".format(mean_absolute_error(y_test, predictions[0])))\n",
    "print(\"MSE: {}\".format(mean_squared_error(y_test, predictions[0])))\n",
    "print(\"RMSE: {}\".format(root_mean_squared_error(y_test, predictions[0])))\n",
    "print(\"R2 Score: {}\", r2_score(y_test, predictions[0]))"
   ]
  }
 ],
 "metadata": {
  "kernelspec": {
   "display_name": ".venv",
   "language": "python",
   "name": "python3"
  },
  "language_info": {
   "codemirror_mode": {
    "name": "ipython",
    "version": 3
   },
   "file_extension": ".py",
   "mimetype": "text/x-python",
   "name": "python",
   "nbconvert_exporter": "python",
   "pygments_lexer": "ipython3",
   "version": "3.11.7"
  }
 },
 "nbformat": 4,
 "nbformat_minor": 5
}
