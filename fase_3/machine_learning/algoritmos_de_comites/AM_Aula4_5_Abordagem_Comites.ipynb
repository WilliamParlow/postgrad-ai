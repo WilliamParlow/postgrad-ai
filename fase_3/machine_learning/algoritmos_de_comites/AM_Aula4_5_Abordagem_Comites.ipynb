{
  "cells": [
    {
      "cell_type": "markdown",
      "metadata": {
        "id": "gpJhTufP5Fvo"
      },
      "source": [
        "# Especialização em Inteligência Artificial\n",
        "\n",
        "**Aprendizado de Máquina - Aula 4.5 (extra): Implementação das abordagens de comitês**\n",
        "\n",
        "Código de exemplo desenvolvido pelo docente [Adriano Rivolli](mailto:rivolli@utpfr.edu.br)\n",
        "\n",
        "*O código apresenta uma implementação das estratégias de comitês*"
      ]
    },
    {
      "cell_type": "code",
      "execution_count": 1,
      "metadata": {
        "id": "sps-q9h94vJS"
      },
      "outputs": [],
      "source": [
        "import numpy as np\n",
        "import pandas as pd\n",
        "from sklearn.base import clone\n",
        "from sklearn.datasets import load_breast_cancer\n",
        "from sklearn.model_selection import train_test_split\n",
        "from sklearn.tree import DecisionTreeClassifier\n",
        "from sklearn.metrics import accuracy_score\n",
        "\n",
        "# Carregando o dataset e separando o conjunto de treinamento/teste\n",
        "cancer = load_breast_cancer()\n",
        "X, y = cancer.data, cancer.target\n",
        "X_train, X_test, y_train, y_test = train_test_split(X, y, test_size=0.2, random_state=42)"
      ]
    },
    {
      "cell_type": "markdown",
      "metadata": {
        "id": "3wA61g-g5hWu"
      },
      "source": [
        "## Bagging"
      ]
    },
    {
      "cell_type": "code",
      "execution_count": 2,
      "metadata": {
        "colab": {
          "base_uri": "https://localhost:8080/"
        },
        "id": "ORR_V81w6ocU",
        "outputId": "ca9856dd-8b8d-4c92-fa75-82104b94146e"
      },
      "outputs": [
        {
          "name": "stdout",
          "output_type": "stream",
          "text": [
            "Decision Tree Accuracy: 0.9385964912280702\n"
          ]
        }
      ],
      "source": [
        "dtmodel = DecisionTreeClassifier(random_state=0)\n",
        "dtmodel.fit(X_train, y_train)\n",
        "\n",
        "y_pred = dtmodel.predict(X_test)\n",
        "accuracy = accuracy_score(y_test, y_pred)\n",
        "print(\"Decision Tree Accuracy:\", accuracy)"
      ]
    },
    {
      "cell_type": "code",
      "execution_count": 3,
      "metadata": {
        "colab": {
          "base_uri": "https://localhost:8080/"
        },
        "id": "gKNKtBCy6nJl",
        "outputId": "beeee65e-16bf-43dd-fa87-fefa4727db1f"
      },
      "outputs": [
        {
          "name": "stdout",
          "output_type": "stream",
          "text": [
            "Bagging Classifier Accuracy: 0.9385964912280702\n"
          ]
        }
      ],
      "source": [
        "# Numero de modelos usados pelo comitê\n",
        "n_estimators = 10\n",
        "\n",
        "# Lista dos modelos\n",
        "base_models = []\n",
        "\n",
        "# Treinamento dos modelos bases\n",
        "for i in range(n_estimators):\n",
        "    # Fazendo a amostragem com repetição (Boosting)\n",
        "    indices = np.random.choice(len(X_train), size=len(X_train), replace=True)\n",
        "    X_train_sampled, y_train_sampled = X_train[indices], y_train[indices]\n",
        "\n",
        "    # Criando o modelo base (decision tree)\n",
        "    base_model = DecisionTreeClassifier(random_state=i)\n",
        "    base_model.fit(X_train_sampled, y_train_sampled)\n",
        "\n",
        "    # Adicionando o modelo a lista de modelos\n",
        "    base_models.append(base_model)\n",
        "\n",
        "# Fazendo as predições\n",
        "def bagging_predict(base_models, X):\n",
        "    predictions = np.zeros((X.shape[0], len(base_models)), dtype=int)\n",
        "    for i, base_model in enumerate(base_models):\n",
        "        predictions[:, i] = base_model.predict(X)\n",
        "\n",
        "    # Fazendo as predições usando o voto majoritário (classe mais recorrente)\n",
        "    aggregated_predictions = pd.DataFrame(predictions).mode(axis=1).iloc[:, 0]\n",
        "\n",
        "    return aggregated_predictions\n",
        "\n",
        "# Usando um conjunto de teste\n",
        "bagging_predictions = bagging_predict(base_models, X_test)\n",
        "\n",
        "# Calculando a acurácia\n",
        "bagging_accuracy = accuracy_score(y_test, bagging_predictions)\n",
        "print(\"Bagging Classifier Accuracy:\", bagging_accuracy)"
      ]
    },
    {
      "cell_type": "markdown",
      "metadata": {
        "id": "8CddejpN63W1"
      },
      "source": [
        "## Boosting"
      ]
    },
    {
      "cell_type": "code",
      "execution_count": 4,
      "metadata": {
        "colab": {
          "base_uri": "https://localhost:8080/"
        },
        "id": "YuuxBEdg68Sh",
        "outputId": "9188ac7a-594e-47ce-cb0c-b326842660f2"
      },
      "outputs": [
        {
          "name": "stdout",
          "output_type": "stream",
          "text": [
            "AdaBoost Classifier Accuracy: 0.9210526315789473\n"
          ]
        }
      ],
      "source": [
        "# Numero de modelos usados pelo comitê\n",
        "n_estimators = 10\n",
        "\n",
        "# Inicializando os pesos de cada instancia\n",
        "weights = np.ones(len(X_train)) / len(X_train)\n",
        "\n",
        "# Lista dos modelos e dos seus pesos\n",
        "base_models = []\n",
        "base_models_weights = []\n",
        "\n",
        "# Treinamento dos modelos bases\n",
        "for i in range(n_estimators):\n",
        "    # Treinamento dos modelos\n",
        "    base_model = DecisionTreeClassifier(max_depth=1, random_state=42)\n",
        "    base_model.fit(X_train, y_train, sample_weight=weights)\n",
        "\n",
        "    # Fazendo as predições do próprio conjunto de treinamento\n",
        "    predictions = base_model.predict(X_train)\n",
        "\n",
        "    # Calcula o erro de acordo com os pesos das instancias\n",
        "    error = np.sum(weights * (predictions != y_train)) / np.sum(weights)\n",
        "\n",
        "    # Calculando o peso atribuido ao modelo (quanto mais erros, menor o peso)\n",
        "    base_model_weight = 0.5 * np.log((1 - error) / error)\n",
        "\n",
        "    # Atualizando o peso das instancias\n",
        "    weights *= np.exp(-base_model_weight * predictions * y_train)\n",
        "    weights /= np.sum(weights)\n",
        "\n",
        "    #Adicionando o modelo e o peso na lista de modelos e pesos\n",
        "    base_models.append(base_model)\n",
        "    base_models_weights.append(base_model_weight)\n",
        "\n",
        "# Fazendo a predição com o conjunto de teste\n",
        "def adaboost_predict(base_models, base_models_weights, X):\n",
        "    predictions = np.zeros((X.shape[0], len(base_models)))\n",
        "    for i, base_model in enumerate(base_models):\n",
        "        predictions[:, i] = base_model.predict(X)\n",
        "\n",
        "    weighted_predictions = np.dot(predictions, base_models_weights)\n",
        "    aggregated_predictions = np.sign(weighted_predictions)\n",
        "    return np.array([1 if pred > 0 else 0 for pred in aggregated_predictions])\n",
        "\n",
        "adaboost_predictions = adaboost_predict(base_models, base_models_weights, X_test)\n",
        "\n",
        "# Calculando a acurácia\n",
        "adaboost_accuracy = accuracy_score(y_test, adaboost_predictions)\n",
        "print(\"AdaBoost Classifier Accuracy:\", adaboost_accuracy)"
      ]
    },
    {
      "cell_type": "markdown",
      "metadata": {
        "id": "MhPw21qC-tJn"
      },
      "source": [
        "## Stacking"
      ]
    },
    {
      "cell_type": "code",
      "execution_count": 5,
      "metadata": {
        "colab": {
          "base_uri": "https://localhost:8080/"
        },
        "id": "qh0J6qYC78Py",
        "outputId": "081f3d3e-6741-4a86-a626-34cf32985311"
      },
      "outputs": [
        {
          "name": "stdout",
          "output_type": "stream",
          "text": [
            "Decision Tree Performance\n",
            "0.9343065693430657\n",
            "\n",
            "Regressão Logistica Performance\n",
            "0.948905109489051\n",
            "\n",
            "SVM Performance\n",
            "0.9197080291970803\n"
          ]
        },
        {
          "name": "stderr",
          "output_type": "stream",
          "text": [
            "c:\\AI\\postgrad-ai\\.venv\\Lib\\site-packages\\sklearn\\linear_model\\_logistic.py:473: ConvergenceWarning: lbfgs failed to converge after 5000 iteration(s) (status=1):\n",
            "STOP: TOTAL NO. OF ITERATIONS REACHED LIMIT\n",
            "\n",
            "Increase the number of iterations to improve the convergence (max_iter=5000).\n",
            "You might also want to scale the data as shown in:\n",
            "    https://scikit-learn.org/stable/modules/preprocessing.html\n",
            "Please also refer to the documentation for alternative solver options:\n",
            "    https://scikit-learn.org/stable/modules/linear_model.html#logistic-regression\n",
            "  n_iter_i = _check_optimize_result(\n"
          ]
        }
      ],
      "source": [
        "from sklearn.tree import DecisionTreeClassifier\n",
        "from sklearn.linear_model import LogisticRegression\n",
        "from sklearn.svm import SVC\n",
        "\n",
        "X_train_train, X_train_val, y_train_train, y_train_val = train_test_split(X_train, y_train, test_size=0.3, random_state=42)\n",
        "\n",
        "# Treinando os modelos\n",
        "dt = DecisionTreeClassifier(random_state=42)\n",
        "dt.fit(X_train_train, y_train_train)\n",
        "\n",
        "lg = LogisticRegression(random_state=42, C=100, max_iter=5000)\n",
        "lg.fit(X_train_train, y_train_train)\n",
        "\n",
        "sv = SVC(random_state=42, C=0.1, probability=True)\n",
        "sv.fit(X_train_train, y_train_train)\n",
        "\n",
        "# Make predictions on the validation set\n",
        "dt_score = dt.predict_proba(X_train_val)\n",
        "lg_score = lg.predict_proba(X_train_val)\n",
        "sv_score = sv.predict_proba(X_train_val)\n",
        "\n",
        "dt_pred = dt.classes_[dt_score.argmax(axis=1)]\n",
        "lg_pred = lg.classes_[lg_score.argmax(axis=1)]\n",
        "sv_pred = sv.classes_[sv_score.argmax(axis=1)]\n",
        "\n",
        "print(\"Decision Tree Performance\")\n",
        "print(accuracy_score(y_train_val, dt_pred))\n",
        "print()\n",
        "print(\"Regressão Logistica Performance\")\n",
        "print(accuracy_score(y_train_val, lg_pred))\n",
        "print()\n",
        "print(\"SVM Performance\")\n",
        "print(accuracy_score(y_train_val, sv_pred))"
      ]
    },
    {
      "cell_type": "code",
      "execution_count": 6,
      "metadata": {
        "colab": {
          "base_uri": "https://localhost:8080/",
          "height": 424
        },
        "id": "v8vIru4-_W9Q",
        "outputId": "25f58a39-44a4-45c4-dec9-c508f9eb7619"
      },
      "outputs": [
        {
          "data": {
            "text/html": [
              "<div>\n",
              "<style scoped>\n",
              "    .dataframe tbody tr th:only-of-type {\n",
              "        vertical-align: middle;\n",
              "    }\n",
              "\n",
              "    .dataframe tbody tr th {\n",
              "        vertical-align: top;\n",
              "    }\n",
              "\n",
              "    .dataframe thead th {\n",
              "        text-align: right;\n",
              "    }\n",
              "</style>\n",
              "<table border=\"1\" class=\"dataframe\">\n",
              "  <thead>\n",
              "    <tr style=\"text-align: right;\">\n",
              "      <th></th>\n",
              "      <th>DT_0</th>\n",
              "      <th>DT_1</th>\n",
              "      <th>LR_0</th>\n",
              "      <th>LR_1</th>\n",
              "      <th>SVM_0</th>\n",
              "      <th>SVM_1</th>\n",
              "    </tr>\n",
              "  </thead>\n",
              "  <tbody>\n",
              "    <tr>\n",
              "      <th>0</th>\n",
              "      <td>1.0</td>\n",
              "      <td>0.0</td>\n",
              "      <td>1.00</td>\n",
              "      <td>0.00</td>\n",
              "      <td>1.00</td>\n",
              "      <td>0.00</td>\n",
              "    </tr>\n",
              "    <tr>\n",
              "      <th>1</th>\n",
              "      <td>0.0</td>\n",
              "      <td>1.0</td>\n",
              "      <td>0.00</td>\n",
              "      <td>1.00</td>\n",
              "      <td>0.17</td>\n",
              "      <td>0.83</td>\n",
              "    </tr>\n",
              "    <tr>\n",
              "      <th>2</th>\n",
              "      <td>0.0</td>\n",
              "      <td>1.0</td>\n",
              "      <td>0.00</td>\n",
              "      <td>1.00</td>\n",
              "      <td>0.08</td>\n",
              "      <td>0.92</td>\n",
              "    </tr>\n",
              "    <tr>\n",
              "      <th>3</th>\n",
              "      <td>0.0</td>\n",
              "      <td>1.0</td>\n",
              "      <td>0.00</td>\n",
              "      <td>1.00</td>\n",
              "      <td>0.03</td>\n",
              "      <td>0.97</td>\n",
              "    </tr>\n",
              "    <tr>\n",
              "      <th>4</th>\n",
              "      <td>1.0</td>\n",
              "      <td>0.0</td>\n",
              "      <td>0.98</td>\n",
              "      <td>0.02</td>\n",
              "      <td>0.36</td>\n",
              "      <td>0.64</td>\n",
              "    </tr>\n",
              "    <tr>\n",
              "      <th>...</th>\n",
              "      <td>...</td>\n",
              "      <td>...</td>\n",
              "      <td>...</td>\n",
              "      <td>...</td>\n",
              "      <td>...</td>\n",
              "      <td>...</td>\n",
              "    </tr>\n",
              "    <tr>\n",
              "      <th>132</th>\n",
              "      <td>0.0</td>\n",
              "      <td>1.0</td>\n",
              "      <td>0.00</td>\n",
              "      <td>1.00</td>\n",
              "      <td>0.04</td>\n",
              "      <td>0.96</td>\n",
              "    </tr>\n",
              "    <tr>\n",
              "      <th>133</th>\n",
              "      <td>1.0</td>\n",
              "      <td>0.0</td>\n",
              "      <td>1.00</td>\n",
              "      <td>0.00</td>\n",
              "      <td>1.00</td>\n",
              "      <td>0.00</td>\n",
              "    </tr>\n",
              "    <tr>\n",
              "      <th>134</th>\n",
              "      <td>0.0</td>\n",
              "      <td>1.0</td>\n",
              "      <td>0.00</td>\n",
              "      <td>1.00</td>\n",
              "      <td>0.04</td>\n",
              "      <td>0.96</td>\n",
              "    </tr>\n",
              "    <tr>\n",
              "      <th>135</th>\n",
              "      <td>0.0</td>\n",
              "      <td>1.0</td>\n",
              "      <td>0.00</td>\n",
              "      <td>1.00</td>\n",
              "      <td>0.04</td>\n",
              "      <td>0.96</td>\n",
              "    </tr>\n",
              "    <tr>\n",
              "      <th>136</th>\n",
              "      <td>0.0</td>\n",
              "      <td>1.0</td>\n",
              "      <td>0.00</td>\n",
              "      <td>1.00</td>\n",
              "      <td>0.06</td>\n",
              "      <td>0.94</td>\n",
              "    </tr>\n",
              "  </tbody>\n",
              "</table>\n",
              "<p>137 rows × 6 columns</p>\n",
              "</div>"
            ],
            "text/plain": [
              "     DT_0  DT_1  LR_0  LR_1  SVM_0  SVM_1\n",
              "0     1.0   0.0  1.00  0.00   1.00   0.00\n",
              "1     0.0   1.0  0.00  1.00   0.17   0.83\n",
              "2     0.0   1.0  0.00  1.00   0.08   0.92\n",
              "3     0.0   1.0  0.00  1.00   0.03   0.97\n",
              "4     1.0   0.0  0.98  0.02   0.36   0.64\n",
              "..    ...   ...   ...   ...    ...    ...\n",
              "132   0.0   1.0  0.00  1.00   0.04   0.96\n",
              "133   1.0   0.0  1.00  0.00   1.00   0.00\n",
              "134   0.0   1.0  0.00  1.00   0.04   0.96\n",
              "135   0.0   1.0  0.00  1.00   0.04   0.96\n",
              "136   0.0   1.0  0.00  1.00   0.06   0.94\n",
              "\n",
              "[137 rows x 6 columns]"
            ]
          },
          "execution_count": 6,
          "metadata": {},
          "output_type": "execute_result"
        }
      ],
      "source": [
        "# Combinando as predições do modelo base em uma única matriz\n",
        "X_meta = pd.concat([pd.DataFrame(dt_score, columns=['DT_0', 'DT_1']),\n",
        "                    pd.DataFrame(lg_score, columns=['LR_0', 'LR_1']),\n",
        "                    pd.DataFrame(sv_score, columns=['SVM_0', 'SVM_1'])], axis=1)\n",
        "\n",
        "X_meta.round(2)"
      ]
    },
    {
      "cell_type": "code",
      "execution_count": 7,
      "metadata": {
        "colab": {
          "base_uri": "https://localhost:8080/"
        },
        "id": "OI3o5EOPAcLX",
        "outputId": "f23f0ee7-7a25-49d1-aaf5-bab79e33dc6b"
      },
      "outputs": [
        {
          "name": "stdout",
          "output_type": "stream",
          "text": [
            "Stacking Classifier Accuracy: 0.9298245614035088\n"
          ]
        }
      ],
      "source": [
        "# Treinando o meta-modelo com o resultado das predições\n",
        "meta_model = DecisionTreeClassifier()\n",
        "meta_model.fit(X_meta, y_train_val)\n",
        "\n",
        "# Fazendo predições dos modelos bases\n",
        "dt_score_new = dt.predict_proba(X_test)\n",
        "lg_score_new = lg.predict_proba(X_test)\n",
        "sv_score_new = sv.predict_proba(X_test)\n",
        "\n",
        "dt_pred_new = dt.classes_[dt_score_new.argmax(axis=1)]\n",
        "lg_pred_new = lg.classes_[lg_score_new.argmax(axis=1)]\n",
        "sv_pred_new = sv.classes_[sv_score_new.argmax(axis=1)]\n",
        "\n",
        "# Combinando as predições em um único vetor - gerando o meta-exemplo\n",
        "X_new_meta = pd.concat([pd.DataFrame(dt_score_new, columns=['DT_0', 'DT_1']),\n",
        "                        pd.DataFrame(lg_score_new, columns=['LR_0', 'LR_1']),\n",
        "                        pd.DataFrame(sv_score_new, columns=['SVM_0', 'SVM_1'])], axis=1)\n",
        "\n",
        "# Fazendo a predição do meta-modelo\n",
        "y_new_pred = meta_model.predict(X_new_meta)\n",
        "\n",
        "print(\"Stacking Classifier Accuracy:\", accuracy_score(y_test, y_new_pred))"
      ]
    }
  ],
  "metadata": {
    "colab": {
      "provenance": []
    },
    "kernelspec": {
      "display_name": ".venv",
      "language": "python",
      "name": "python3"
    },
    "language_info": {
      "codemirror_mode": {
        "name": "ipython",
        "version": 3
      },
      "file_extension": ".py",
      "mimetype": "text/x-python",
      "name": "python",
      "nbconvert_exporter": "python",
      "pygments_lexer": "ipython3",
      "version": "3.12.10"
    }
  },
  "nbformat": 4,
  "nbformat_minor": 0
}
