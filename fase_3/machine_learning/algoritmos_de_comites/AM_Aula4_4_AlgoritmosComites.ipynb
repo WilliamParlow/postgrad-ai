{
  "cells": [
    {
      "cell_type": "markdown",
      "metadata": {
        "id": "Gd-TvqKQpeQ_"
      },
      "source": [
        "# Especialização em Inteligência Artificial\n",
        "\n",
        "**Aprendizado de Máquina - Aula 4.4: Algoritmos de comitê**\n",
        "\n",
        "Código de exemplo desenvolvido pelo docente [Adriano Rivolli](mailto:rivolli@utpfr.edu.br)\n",
        "\n",
        "*O código apresenta como usar os algoritmos de comitês*"
      ]
    },
    {
      "cell_type": "code",
      "execution_count": 1,
      "metadata": {
        "id": "OdsDZP78pHOJ"
      },
      "outputs": [],
      "source": [
        "import numpy as np\n",
        "from sklearn.ensemble import RandomForestClassifier\n",
        "from sklearn.ensemble import ExtraTreesClassifier\n",
        "from sklearn.ensemble import AdaBoostClassifier\n",
        "from sklearn.metrics import accuracy_score\n",
        "\n",
        "from sklearn.datasets import load_digits\n",
        "from sklearn.datasets import load_breast_cancer\n",
        "from sklearn.model_selection import train_test_split\n",
        "from sklearn.model_selection import cross_val_score\n",
        "\n",
        "import matplotlib.pyplot as plt"
      ]
    },
    {
      "cell_type": "markdown",
      "metadata": {
        "id": "pcNzoY4Gpoe-"
      },
      "source": [
        "#Comparação dos comitês"
      ]
    },
    {
      "cell_type": "code",
      "execution_count": null,
      "metadata": {
        "colab": {
          "base_uri": "https://localhost:8080/"
        },
        "id": "xdNZgxUeqlnW",
        "outputId": "a872a13a-b4ee-482a-84fd-cbfa3ba06159"
      },
      "outputs": [],
      "source": [
        "# Carregando o dataset e separando o conjunto de treinamento/teste\n",
        "cancer = load_breast_cancer()\n",
        "X, y = cancer.data, cancer.target\n",
        "\n",
        "# Initialize classifiers\n",
        "rf_clf = RandomForestClassifier(n_estimators=100, random_state=42)\n",
        "et_clf = ExtraTreesClassifier(n_estimators=100, random_state=42)\n",
        "ada_clf = AdaBoostClassifier(n_estimators=100, random_state=42)\n",
        "\n",
        "# Perform cross-validation to compare performance\n",
        "rf_scores = cross_val_score(rf_clf, X, y, cv=5)\n",
        "et_scores = cross_val_score(et_clf, X, y, cv=5)\n",
        "ada_scores = cross_val_score(ada_clf, X, y, cv=5)\n",
        "\n",
        "# Print average accuracy scores\n",
        "print(\"Random Forest Average Accuracy:\", rf_scores.mean())\n",
        "print(\"Extra Trees Average Accuracy:\", et_scores.mean())\n",
        "print(\"AdaBoost Average Accuracy:\", ada_scores.mean())"
      ]
    },
    {
      "cell_type": "code",
      "execution_count": null,
      "metadata": {
        "colab": {
          "base_uri": "https://localhost:8080/"
        },
        "id": "wBL8aNyxry5u",
        "outputId": "829eb14f-2854-4b5c-e574-34f36929517d"
      },
      "outputs": [],
      "source": [
        "# Load the digits dataset\n",
        "digits = load_digits()\n",
        "X, y = digits.data, digits.target\n",
        "\n",
        "# Initialize classifiers\n",
        "rf_clf = RandomForestClassifier(n_estimators=100, random_state=42)\n",
        "et_clf = ExtraTreesClassifier(n_estimators=100, random_state=42)\n",
        "ada_clf = AdaBoostClassifier(n_estimators=100, random_state=42)\n",
        "\n",
        "# Perform cross-validation to compare performance\n",
        "rf_scores = cross_val_score(rf_clf, X, y, cv=5)\n",
        "et_scores = cross_val_score(et_clf, X, y, cv=5)\n",
        "ada_scores = cross_val_score(ada_clf, X, y, cv=5)\n",
        "\n",
        "# Print average accuracy scores\n",
        "print(\"Random Forest Average Accuracy:\", rf_scores.mean())\n",
        "print(\"Extra Trees Average Accuracy:\", et_scores.mean())\n",
        "print(\"AdaBoost Average Accuracy:\", ada_scores.mean())"
      ]
    },
    {
      "cell_type": "markdown",
      "metadata": {
        "id": "s2mjl_DfsK7b"
      },
      "source": [
        "## Random Forest e importância dos atributos"
      ]
    },
    {
      "cell_type": "code",
      "execution_count": null,
      "metadata": {
        "colab": {
          "base_uri": "https://localhost:8080/"
        },
        "id": "qGS4IqL_sRf2",
        "outputId": "896f58a1-939b-4c4b-dc3f-ba63b99c8d07"
      },
      "outputs": [],
      "source": [
        "cancer = load_breast_cancer()\n",
        "X, y = cancer.data, cancer.target\n",
        "feature_names = cancer.feature_names\n",
        "\n",
        "rf_classifier = RandomForestClassifier(n_estimators=100, random_state=2)\n",
        "rf_classifier.fit(X, y)\n",
        "\n",
        "feature_importances = rf_classifier.feature_importances_\n",
        "feature_importances"
      ]
    },
    {
      "cell_type": "code",
      "execution_count": null,
      "metadata": {
        "colab": {
          "base_uri": "https://localhost:8080/"
        },
        "id": "AY1_8-rvspOz",
        "outputId": "bfff835b-bb65-4960-ee3b-5c04ff3483c0"
      },
      "outputs": [],
      "source": [
        "rk_features = {}\n",
        "for feature, importance in zip(feature_names, feature_importances):\n",
        "    rk_features[feature] = importance\n",
        "\n",
        "for feature in sorted(rk_features, key=rk_features.get, reverse=True):\n",
        "    print(feature + ':', rk_features[feature].round(2))"
      ]
    },
    {
      "cell_type": "markdown",
      "metadata": {
        "id": "p9BNe-6at2K9"
      },
      "source": [
        "#XGBoost\n",
        "\n",
        "Parte do código foi adaptado de: https://medium.com/@24littledino/xgboost-classification-in-python-f29cc2c50a9b"
      ]
    },
    {
      "cell_type": "code",
      "execution_count": null,
      "metadata": {
        "colab": {
          "base_uri": "https://localhost:8080/"
        },
        "id": "3yDK3DQzuAD6",
        "outputId": "f93371e1-17a3-4736-d156-41750ceed4a3"
      },
      "outputs": [],
      "source": [
        "# Import\n",
        "import xgboost as xgb"
      ]
    },
    {
      "cell_type": "code",
      "execution_count": null,
      "metadata": {
        "colab": {
          "base_uri": "https://localhost:8080/"
        },
        "id": "JSpSjPF7uOq2",
        "outputId": "7cf7c882-4c0a-478f-a671-b6432079932b"
      },
      "outputs": [],
      "source": [
        "cancer = load_breast_cancer()\n",
        "X, y = cancer.data, cancer.target\n",
        "X_train, X_val, y_train, y_val = train_test_split(cancer.data, cancer.target, test_size=0.2)\n",
        "\n",
        "xgb_classifier = xgb.XGBClassifier()\n",
        "xgb_classifier.fit(X_train, y_train)\n",
        "\n",
        "y_pred = xgb_classifier.predict(X_val)\n",
        "accuracy = accuracy_score(y_val, y_pred)\n",
        "\n",
        "print(\"XGBoost Accuracy:\", accuracy)"
      ]
    },
    {
      "cell_type": "code",
      "execution_count": null,
      "metadata": {
        "colab": {
          "base_uri": "https://localhost:8080/"
        },
        "id": "WJkf06tNvBV0",
        "outputId": "0f21a9e4-474d-45b5-e77b-5ad28761d876"
      },
      "outputs": [],
      "source": [
        "digits = load_breast_cancer()\n",
        "X, y = digits.data, digits.target\n",
        "X_train, X_val, y_train, y_val = train_test_split(digits.data, digits.target, test_size=0.3)\n",
        "\n",
        "xgb_classifier = xgb.XGBClassifier(eta = 0.5, gamma=0.05, objective='multi:softmax', eval_metric='logloss', num_class=10)\n",
        "xgb_classifier.fit(X_train, y_train)\n",
        "\n",
        "y_pred = xgb_classifier.predict(X_val)\n",
        "accuracy = accuracy_score(y_val, y_pred)\n",
        "\n",
        "print(\"XGBoost Accuracy:\", accuracy)"
      ]
    },
    {
      "cell_type": "code",
      "execution_count": null,
      "metadata": {
        "id": "Zj1CrNM5wUak"
      },
      "outputs": [],
      "source": [
        "from sklearn.datasets import fetch_openml\n",
        "\n",
        "# Load the Iris dataset\n",
        "titanic = fetch_openml(name='titanic', version='1', parser='auto')\n",
        "X, y = titanic.data, titanic.target\n",
        "\n",
        "features = ['pclass', 'sex', 'age', 'sibsp', 'parch', 'fare']\n",
        "x_train, x_test, y_train, y_test = train_test_split(X[features], y, test_size=0.2, random_state=65)\n",
        "\n",
        "#Transforming data\n",
        "x_train['sex'] = x_train['sex'].cat.codes\n",
        "x_test['sex'] = x_test['sex'].cat.codes\n",
        "\n",
        "y_train = y_train.cat.codes\n",
        "y_test = y_test.cat.codes"
      ]
    },
    {
      "cell_type": "code",
      "execution_count": null,
      "metadata": {
        "id": "Q99xYovbwb-H"
      },
      "outputs": [],
      "source": [
        "# XGBoost (different learning rate)\n",
        "learning_rate_range = np.arange(0.01, 1, 0.05)\n",
        "test_XG = []\n",
        "train_XG = []\n",
        "for lr in learning_rate_range:\n",
        "    xgb_classifier = xgb.XGBClassifier(eta = lr)\n",
        "    xgb_classifier.fit(x_train, y_train)\n",
        "    train_XG.append(xgb_classifier.score(x_train, y_train))\n",
        "    test_XG.append(xgb_classifier.score(x_test, y_test))"
      ]
    },
    {
      "cell_type": "code",
      "execution_count": null,
      "metadata": {
        "colab": {
          "base_uri": "https://localhost:8080/",
          "height": 642
        },
        "id": "fucgvXpews2k",
        "outputId": "b1fd1650-7b79-4219-ff71-0cfdbb960bb2"
      },
      "outputs": [],
      "source": [
        "fig = plt.figure(figsize=(10, 7))\n",
        "plt.plot(learning_rate_range, train_XG, c='orange', label='Train')\n",
        "plt.plot(learning_rate_range, test_XG, c='m', label='Test')\n",
        "plt.xlabel('Learning rate')\n",
        "plt.xticks(learning_rate_range)\n",
        "plt.ylabel('Accuracy score')\n",
        "plt.ylim(0.6, 1)\n",
        "plt.legend(prop={'size': 12}, loc=3)\n",
        "plt.title('Accuracy score vs. Learning rate of XGBoost', size=14)\n",
        "plt.show()"
      ]
    },
    {
      "cell_type": "code",
      "execution_count": null,
      "metadata": {
        "colab": {
          "base_uri": "https://localhost:8080/",
          "height": 1000
        },
        "id": "2HYeChrcw-nN",
        "outputId": "df919239-b0ca-4e6d-e408-9be5811bd2fd"
      },
      "outputs": [],
      "source": [
        "learning_rate_range = np.arange(0.01, 0.5, 0.05)\n",
        "weight_range = np.arange(0, 4.5, 0.5)\n",
        "\n",
        "fig = plt.figure(figsize=(19, 17))\n",
        "idx = 1\n",
        "for weight in weight_range:\n",
        "    train = []\n",
        "    test = []\n",
        "    for lr in learning_rate_range:\n",
        "        xgb_classifier = xgb.XGBClassifier(eta = lr, reg_lambda=1, min_child_weight=weight)\n",
        "        xgb_classifier.fit(x_train, y_train)\n",
        "        train.append(xgb_classifier.score(x_train, y_train))\n",
        "        test.append(xgb_classifier.score(x_test, y_test))\n",
        "\n",
        "    fig.add_subplot(3, 3, idx)\n",
        "    idx += 1\n",
        "    plt.plot(learning_rate_range, train, c='orange', label='Training')\n",
        "    plt.plot(learning_rate_range, test, c='m', label='Testing')\n",
        "    plt.xlabel('Learning rate')\n",
        "    plt.xticks(learning_rate_range)\n",
        "    plt.ylabel('Accuracy score')\n",
        "    plt.ylim(0.6, 1)\n",
        "    plt.legend(prop={'size': 12}, loc=3)\n",
        "    title = \"Min child weight:\" + str(weight)\n",
        "    plt.title(title, size=16)\n",
        "plt.show()"
      ]
    }
  ],
  "metadata": {
    "colab": {
      "provenance": []
    },
    "kernelspec": {
      "display_name": ".venv",
      "language": "python",
      "name": "python3"
    },
    "language_info": {
      "codemirror_mode": {
        "name": "ipython",
        "version": 3
      },
      "file_extension": ".py",
      "mimetype": "text/x-python",
      "name": "python",
      "nbconvert_exporter": "python",
      "pygments_lexer": "ipython3",
      "version": "3.12.10"
    }
  },
  "nbformat": 4,
  "nbformat_minor": 0
}
