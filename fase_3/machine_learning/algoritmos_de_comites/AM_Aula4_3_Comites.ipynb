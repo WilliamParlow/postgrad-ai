{
  "cells": [
    {
      "cell_type": "markdown",
      "metadata": {
        "id": "OdNFWvQydZ2d"
      },
      "source": [
        "# Especialização em Inteligência Artificial\n",
        "\n",
        "**Aprendizado de Máquina - Aula 4.3: Comitês**\n",
        "\n",
        "Código de exemplo desenvolvido pelo docente [Adriano Rivolli](mailto:rivolli@utpfr.edu.br)\n",
        "\n",
        "*O código apresenta como criar comitês usando diferentes abordagens*"
      ]
    },
    {
      "cell_type": "code",
      "execution_count": 1,
      "metadata": {
        "id": "xZ1i8t_VeNsW"
      },
      "outputs": [],
      "source": [
        "from sklearn.tree import DecisionTreeClassifier\n",
        "from sklearn.linear_model import LogisticRegression\n",
        "from sklearn.neighbors import KNeighborsClassifier\n",
        "from sklearn.ensemble import RandomForestClassifier\n",
        "from sklearn.svm import SVC\n",
        "from sklearn.ensemble import VotingClassifier\n",
        "from sklearn.ensemble import BaggingClassifier\n",
        "from sklearn.ensemble import StackingClassifier\n",
        "from sklearn.metrics import accuracy_score\n",
        "\n",
        "from sklearn.datasets import load_breast_cancer\n",
        "from sklearn.model_selection import train_test_split\n",
        "from sklearn.model_selection import cross_val_score"
      ]
    },
    {
      "cell_type": "code",
      "execution_count": 2,
      "metadata": {
        "id": "SgO3qVIcemt0"
      },
      "outputs": [],
      "source": [
        "# Carregando o dataset e separando o conjunto de treinamento/teste\n",
        "cancer = load_breast_cancer()\n",
        "X, y = cancer.data, cancer.target\n",
        "X_train, X_test, y_train, y_test = train_test_split(X, y, test_size=0.2, random_state=42)"
      ]
    },
    {
      "cell_type": "markdown",
      "metadata": {
        "id": "fIu6KyMfdysi"
      },
      "source": [
        "## Votação"
      ]
    },
    {
      "cell_type": "code",
      "execution_count": 3,
      "metadata": {
        "colab": {
          "base_uri": "https://localhost:8080/"
        },
        "id": "ui3l5GwFdXOk",
        "outputId": "2e406d14-d128-4686-820e-15b828960635"
      },
      "outputs": [
        {
          "name": "stdout",
          "output_type": "stream",
          "text": [
            "Comitê Accuracy: 0.9649122807017544\n",
            "Cross Val Score Comitê: 0.956078248719143\n",
            "Accuracy DecisionTreeClassifier alone: 0.9385964912280702\n",
            "Cross Val Score DecisionTreeClassifier: 0.9173886042539978\n"
          ]
        }
      ],
      "source": [
        "clf1 = DecisionTreeClassifier(random_state=1)\n",
        "clf2 = LogisticRegression(random_state=1, max_iter=6000)\n",
        "clf3 = KNeighborsClassifier()\n",
        "clf4 = SVC(random_state=1)\n",
        "clf5 = RandomForestClassifier(random_state=1)\n",
        "\n",
        "bases = [('dt', clf1), ('lr', clf2), ('knn', clf3), ('svc', clf4), ('rf', clf5)]\n",
        "comite = VotingClassifier(estimators=bases, voting='hard')\n",
        "comite.fit(X_train, y_train)\n",
        "y_pred = comite.predict(X_test)\n",
        "\n",
        "accuracy = accuracy_score(y_test, y_pred)\n",
        "print(\"Comitê Accuracy:\", accuracy)\n",
        "\n",
        "print(f'Cross Val Score Comitê: {cross_val_score(comite, X, y, cv=5, scoring='accuracy').mean()}')\n",
        "\n",
        "# Test with prediction without Ensembler\n",
        "test_dt = DecisionTreeClassifier(random_state=1)\n",
        "test_dt.fit(X_train, y_train)\n",
        "\n",
        "test_acc = test_dt.predict(X_test)\n",
        "print(f'Accuracy DecisionTreeClassifier alone: {accuracy_score(y_test, test_acc)}')\n",
        "\n",
        "print(f'Cross Val Score DecisionTreeClassifier: {cross_val_score(test_dt, X, y, cv=5, scoring='accuracy').mean()}')"
      ]
    },
    {
      "cell_type": "code",
      "execution_count": 4,
      "metadata": {
        "colab": {
          "base_uri": "https://localhost:8080/"
        },
        "id": "D76zasdzfUaD",
        "outputId": "522dbc31-c43b-4506-9abb-89b0c92b1e17"
      },
      "outputs": [
        {
          "name": "stdout",
          "output_type": "stream",
          "text": [
            "Comitê Accuracy: 0.9736842105263158\n",
            "Cross Val Score Comitê: 0.956078248719143\n"
          ]
        }
      ],
      "source": [
        "clf1 = DecisionTreeClassifier(random_state=1)\n",
        "clf2 = LogisticRegression(random_state=1, max_iter=6000)\n",
        "clf3 = KNeighborsClassifier()\n",
        "clf4 = SVC(random_state=1, probability=True)\n",
        "clf5 = RandomForestClassifier(random_state=1)\n",
        "\n",
        "bases = [('dt', clf1), ('lr', clf2), ('knn', clf3), ('svc', clf4), ('rf', clf5)]\n",
        "comite = VotingClassifier(estimators=bases, voting='soft')\n",
        "comite.fit(X_train, y_train)\n",
        "y_pred = comite.predict(X_test)\n",
        "\n",
        "accuracy = accuracy_score(y_test, y_pred)\n",
        "print(\"Comitê Accuracy:\", accuracy)\n",
        "\n",
        "print(f'Cross Val Score Comitê: {cross_val_score(comite, X, y, cv=5, scoring='accuracy').mean()}')"
      ]
    },
    {
      "cell_type": "code",
      "execution_count": 5,
      "metadata": {
        "colab": {
          "base_uri": "https://localhost:8080/"
        },
        "id": "eiK7Yax9fnbH",
        "outputId": "e6b89065-dbef-4043-ec8d-278e142481f4"
      },
      "outputs": [
        {
          "name": "stdout",
          "output_type": "stream",
          "text": [
            "Comitê Accuracy: 0.956140350877193\n"
          ]
        }
      ],
      "source": [
        "clf1 = DecisionTreeClassifier(random_state=1)\n",
        "clf2 = LogisticRegression(random_state=1, max_iter=6000)\n",
        "clf3 = KNeighborsClassifier()\n",
        "clf4 = SVC(random_state=1)\n",
        "clf5 = RandomForestClassifier(random_state=1)\n",
        "\n",
        "bases = [('dt', clf1), ('lr', clf2), ('knn', clf3), ('svc', clf4), ('rf', clf5)]\n",
        "comite = VotingClassifier(estimators=bases, weights=(5, 4, 3, 2, 1))\n",
        "comite.fit(X_train, y_train)\n",
        "y_pred = comite.predict(X_test)\n",
        "\n",
        "accuracy = accuracy_score(y_test, y_pred)\n",
        "print(\"Comitê Accuracy:\", accuracy)"
      ]
    },
    {
      "cell_type": "markdown",
      "metadata": {
        "id": "o66vIHwcgt8B"
      },
      "source": [
        "## Bagging"
      ]
    },
    {
      "cell_type": "code",
      "execution_count": 6,
      "metadata": {
        "colab": {
          "base_uri": "https://localhost:8080/"
        },
        "id": "lxcyjHeRhKtD",
        "outputId": "8013f71d-79c6-49bd-e619-4a01eceea009"
      },
      "outputs": [
        {
          "name": "stdout",
          "output_type": "stream",
          "text": [
            "Bagging Accuracy: 0.9526005278683435\n"
          ]
        }
      ],
      "source": [
        "bagging = BaggingClassifier(estimator=DecisionTreeClassifier(), n_estimators=15, random_state=42)\n",
        "accuracy = cross_val_score(bagging, X, y, cv=5, scoring='accuracy').mean()\n",
        "\n",
        "print(\"Bagging Accuracy:\", accuracy)"
      ]
    },
    {
      "cell_type": "code",
      "execution_count": 7,
      "metadata": {
        "colab": {
          "base_uri": "https://localhost:8080/"
        },
        "id": "E8cMsge6jPW4",
        "outputId": "78340bd4-8ca1-45c9-d425-6cb3cd7aadf6"
      },
      "outputs": [
        {
          "name": "stdout",
          "output_type": "stream",
          "text": [
            "Bagging Accuracy: 0.9279770222015216\n"
          ]
        }
      ],
      "source": [
        "bagging = BaggingClassifier(estimator=KNeighborsClassifier(), n_estimators=100, max_features=0.8, max_samples=0.5)\n",
        "accuracy = cross_val_score(bagging, X, y, cv=5, scoring='accuracy').mean()\n",
        "\n",
        "print(\"Bagging Accuracy:\", accuracy)"
      ]
    },
    {
      "cell_type": "markdown",
      "metadata": {
        "id": "T_MaHPw_kcdX"
      },
      "source": [
        "## Stacking"
      ]
    },
    {
      "cell_type": "code",
      "execution_count": 8,
      "metadata": {
        "colab": {
          "base_uri": "https://localhost:8080/"
        },
        "id": "gGF8aJV3kdyB",
        "outputId": "211627ef-5297-4cac-e8eb-47310b99cfb4"
      },
      "outputs": [
        {
          "name": "stdout",
          "output_type": "stream",
          "text": [
            "Stacking Accuracy: 0.9736842105263158\n",
            "Accuracy Stacking with Cross Val: 0.95960254618848\n"
          ]
        }
      ],
      "source": [
        "clf1 = DecisionTreeClassifier(random_state=1)\n",
        "clf2 = LogisticRegression(random_state=1, max_iter=6000)\n",
        "clf3 = KNeighborsClassifier()\n",
        "clf4 = SVC(random_state=1)\n",
        "clf5 = RandomForestClassifier(random_state=1)\n",
        "\n",
        "bases = [('dt', clf1), ('lr', clf2), ('knn', clf3), ('svc', clf4), ('rf', clf5)]\n",
        "stacking = StackingClassifier(estimators=bases, final_estimator=LogisticRegression())\n",
        "stacking.fit(X_train, y_train)\n",
        "y_pred = stacking.predict(X_test)\n",
        "\n",
        "accuracy = accuracy_score(y_test, y_pred)\n",
        "print(\"Stacking Accuracy:\", accuracy)\n",
        "\n",
        "print(f'Accuracy Stacking with Cross Val: {cross_val_score(stacking, X, y, cv=5, scoring='accuracy').mean()}')"
      ]
    },
    {
      "cell_type": "code",
      "execution_count": 9,
      "metadata": {
        "colab": {
          "base_uri": "https://localhost:8080/"
        },
        "id": "2gNhc8dJlSUQ",
        "outputId": "d2259a4f-1fc7-4242-aa40-cbdeefc9b43a"
      },
      "outputs": [
        {
          "name": "stdout",
          "output_type": "stream",
          "text": [
            "Stacking Accuracy: 0.9736842105263158\n"
          ]
        }
      ],
      "source": [
        "clf1 = DecisionTreeClassifier(random_state=1)\n",
        "clf2 = LogisticRegression(random_state=1, max_iter=6000)\n",
        "clf3 = KNeighborsClassifier()\n",
        "clf4 = SVC(random_state=1, probability=True)\n",
        "clf5 = RandomForestClassifier(random_state=1)\n",
        "\n",
        "bases = [('dt', clf1), ('lr', clf2), ('knn', clf3), ('svc', clf4), ('rf', clf5)]\n",
        "stacking = StackingClassifier(estimators=bases, final_estimator=KNeighborsClassifier(), cv=5, stack_method='predict_proba')\n",
        "stacking.fit(X_train, y_train)\n",
        "y_pred = stacking.predict(X_test)\n",
        "\n",
        "accuracy = accuracy_score(y_test, y_pred)\n",
        "print(\"Stacking Accuracy:\", accuracy)"
      ]
    }
  ],
  "metadata": {
    "colab": {
      "provenance": []
    },
    "kernelspec": {
      "display_name": ".venv",
      "language": "python",
      "name": "python3"
    },
    "language_info": {
      "codemirror_mode": {
        "name": "ipython",
        "version": 3
      },
      "file_extension": ".py",
      "mimetype": "text/x-python",
      "name": "python",
      "nbconvert_exporter": "python",
      "pygments_lexer": "ipython3",
      "version": "3.12.10"
    }
  },
  "nbformat": 4,
  "nbformat_minor": 0
}
