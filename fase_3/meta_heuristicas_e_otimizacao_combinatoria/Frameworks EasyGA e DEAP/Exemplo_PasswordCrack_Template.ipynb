{
  "nbformat": 4,
  "nbformat_minor": 0,
  "metadata": {
    "colab": {
      "provenance": []
    },
    "kernelspec": {
      "name": "python3",
      "display_name": "Python 3"
    },
    "language_info": {
      "name": "python"
    }
  },
  "cells": [
    {
      "cell_type": "code",
      "source": [
        "!pip install EasyGA"
      ],
      "metadata": {
        "id": "zYphnNAp6IbD"
      },
      "execution_count": null,
      "outputs": []
    },
    {
      "cell_type": "code",
      "source": [
        "import EasyGA\n",
        "import random\n",
        "import string"
      ],
      "metadata": {
        "id": "aBRDzMxk6Kcj"
      },
      "execution_count": null,
      "outputs": []
    },
    {
      "cell_type": "code",
      "source": [
        "# Exemplo de geração aleatória\n",
        "for i in (string.ascii_letters + string.digits + string.punctuation):\n",
        "  print(i, end='')"
      ],
      "metadata": {
        "colab": {
          "base_uri": "https://localhost:8080/"
        },
        "id": "aAbM-hblDMU9",
        "outputId": "b9cc2a6d-f957-4991-83b3-92cd225a8f9a"
      },
      "execution_count": null,
      "outputs": [
        {
          "output_type": "stream",
          "name": "stdout",
          "text": [
            "abcdefghijklmnopqrstuvwxyzABCDEFGHIJKLMNOPQRSTUVWXYZ0123456789!\"#$%&'()*+,-./:;<=>?@[\\]^_`{|}~"
          ]
        }
      ]
    },
    {
      "cell_type": "code",
      "source": [
        "# Função que gerar caracteres aleatórios\n",
        "def randomLetter():\n",
        "  letter = random.choice(string.ascii_letters + string.digits + string.punctuation)\n",
        "\n",
        "  return letter"
      ],
      "metadata": {
        "id": "9zv0DYPeKlqi"
      },
      "execution_count": null,
      "outputs": []
    },
    {
      "cell_type": "code",
      "source": [
        "# Cadastrar uma senha\n",
        "password = input(\"Entre com uma senha: \")"
      ],
      "metadata": {
        "colab": {
          "base_uri": "https://localhost:8080/"
        },
        "id": "yywEAEtWLlRT",
        "outputId": "80324a4e-2f2a-4df9-d11c-61e574701147"
      },
      "execution_count": null,
      "outputs": [
        {
          "name": "stdout",
          "output_type": "stream",
          "text": [
            "Entre com uma senha: #PosIA2024\n"
          ]
        }
      ]
    },
    {
      "cell_type": "code",
      "source": [
        "def password_fitness(chromosome):\n",
        "  fitness = 0\n",
        "  for gene, letter in zip(chromosome, password):\n",
        "    if gene == letter:\n",
        "      fitness +=1\n",
        "  return fitness"
      ],
      "metadata": {
        "id": "XjB1vyH7KUzC"
      },
      "execution_count": null,
      "outputs": []
    },
    {
      "cell_type": "code",
      "execution_count": null,
      "metadata": {
        "id": "5l4YQN0a5iTD"
      },
      "outputs": [],
      "source": [
        "#Cadastra o algoritmo genético\n",
        "ga = EasyGA.GA()\n",
        "ga.chromosome_length = len(password)\n",
        "ga.population_size = 50\n",
        "ga.generation_goal = 1000\n",
        "ga.fitness_goal = len(password)\n",
        "\n",
        "\n",
        "ga.fitness_function_impl = password_fitness\n",
        "ga.gene_impl = randomLetter"
      ]
    },
    {
      "cell_type": "code",
      "source": [
        "# Execução do algoritmo\n",
        "# Apresenta a melhor solução em cada 10 gerações\n",
        "while ga.active():\n",
        "  ga.evolve(10)\n",
        "  ga.print_generation()\n",
        "  ga.print_best_chromosome()"
      ],
      "metadata": {
        "colab": {
          "base_uri": "https://localhost:8080/"
        },
        "id": "9IgafJrdK3As",
        "outputId": "1a92864e-aed4-416d-844a-e2d8c53a0864"
      },
      "execution_count": null,
      "outputs": [
        {
          "output_type": "stream",
          "name": "stdout",
          "text": [
            "Current Generation \t: 10\n",
            "Best Chromosome \t: [t][e][x][r][I][o][8][H][,][4]\n",
            "Best Fitness    \t: 2\n",
            "Current Generation \t: 20\n",
            "Best Chromosome \t: [w][0][n][r][I][o][2][D][7][4]\n",
            "Best Fitness    \t: 3\n",
            "Current Generation \t: 30\n",
            "Best Chromosome \t: [w][0][n][r][I][o][2][D][7][4]\n",
            "Best Fitness    \t: 3\n",
            "Current Generation \t: 40\n",
            "Best Chromosome \t: [w][0][n][r][I][o][2][D][7][4]\n",
            "Best Fitness    \t: 3\n",
            "Current Generation \t: 50\n",
            "Best Chromosome \t: [w][0][n][r][I][o][2][D][7][4]\n",
            "Best Fitness    \t: 3\n",
            "Current Generation \t: 60\n",
            "Best Chromosome \t: [w][0][n][r][I][o][2][D][7][4]\n",
            "Best Fitness    \t: 3\n",
            "Current Generation \t: 70\n",
            "Best Chromosome \t: [8][%][r][b][I][H][2][0][7][4]\n",
            "Best Fitness    \t: 4\n",
            "Current Generation \t: 80\n",
            "Best Chromosome \t: [;][O][o][b][I][A][2][0][7][4]\n",
            "Best Fitness    \t: 6\n",
            "Current Generation \t: 90\n",
            "Best Chromosome \t: [;][O][o][b][I][A][2][0][7][4]\n",
            "Best Fitness    \t: 6\n",
            "Current Generation \t: 100\n",
            "Best Chromosome \t: [;][4][o][s][I][A][2][0][=][4]\n",
            "Best Fitness    \t: 7\n",
            "Current Generation \t: 110\n",
            "Best Chromosome \t: [;][4][o][s][I][A][2][0][=][4]\n",
            "Best Fitness    \t: 7\n",
            "Current Generation \t: 120\n",
            "Best Chromosome \t: [;][P][o][s][I][A][2][0][7][4]\n",
            "Best Fitness    \t: 8\n",
            "Current Generation \t: 130\n",
            "Best Chromosome \t: [;][P][o][s][I][A][2][0][7][4]\n",
            "Best Fitness    \t: 8\n",
            "Current Generation \t: 140\n",
            "Best Chromosome \t: [;][P][o][s][I][A][2][0][7][4]\n",
            "Best Fitness    \t: 8\n",
            "Current Generation \t: 150\n",
            "Best Chromosome \t: [;][P][o][s][I][A][2][0][7][4]\n",
            "Best Fitness    \t: 8\n",
            "Current Generation \t: 160\n",
            "Best Chromosome \t: [;][P][o][s][I][A][2][0][7][4]\n",
            "Best Fitness    \t: 8\n",
            "Current Generation \t: 170\n",
            "Best Chromosome \t: [;][P][o][s][I][A][2][0][7][4]\n",
            "Best Fitness    \t: 8\n",
            "Current Generation \t: 180\n",
            "Best Chromosome \t: [#][P][o][s][I][A][2][0][m][4]\n",
            "Best Fitness    \t: 9\n",
            "Current Generation \t: 190\n",
            "Best Chromosome \t: [#][P][o][s][I][A][2][0][m][4]\n",
            "Best Fitness    \t: 9\n",
            "Current Generation \t: 200\n",
            "Best Chromosome \t: [#][P][o][s][I][A][2][0][m][4]\n",
            "Best Fitness    \t: 9\n",
            "Current Generation \t: 210\n",
            "Best Chromosome \t: [#][P][o][s][I][A][2][0][m][4]\n",
            "Best Fitness    \t: 9\n",
            "Current Generation \t: 220\n",
            "Best Chromosome \t: [#][P][o][s][I][A][2][0][m][4]\n",
            "Best Fitness    \t: 9\n",
            "Current Generation \t: 230\n",
            "Best Chromosome \t: [#][P][o][s][I][A][2][0][m][4]\n",
            "Best Fitness    \t: 9\n",
            "Current Generation \t: 240\n",
            "Best Chromosome \t: [#][P][o][s][I][A][2][0][m][4]\n",
            "Best Fitness    \t: 9\n",
            "Current Generation \t: 250\n",
            "Best Chromosome \t: [#][P][o][s][I][A][2][0][m][4]\n",
            "Best Fitness    \t: 9\n",
            "Current Generation \t: 260\n",
            "Best Chromosome \t: [#][P][o][s][I][A][2][0][m][4]\n",
            "Best Fitness    \t: 9\n",
            "Current Generation \t: 270\n",
            "Best Chromosome \t: [#][P][o][s][I][A][2][0][m][4]\n",
            "Best Fitness    \t: 9\n",
            "Current Generation \t: 279\n",
            "Best Chromosome \t: [#][P][o][s][I][A][2][0][2][4]\n",
            "Best Fitness    \t: 10\n"
          ]
        }
      ]
    },
    {
      "cell_type": "code",
      "source": [
        "# População final\n",
        "ga.print_population()"
      ],
      "metadata": {
        "colab": {
          "base_uri": "https://localhost:8080/"
        },
        "id": "ce1dveLeF8jZ",
        "outputId": "f5437d40-267d-447d-b704-398887d0b1cc"
      },
      "execution_count": null,
      "outputs": [
        {
          "output_type": "stream",
          "name": "stdout",
          "text": [
            "Chromosome - 0 [#][P][o][s][I][A][2][0][2][4] / Fitness = 10\n",
            "Chromosome - 1 [#][P][o][s][I][A][2][0][m][4] / Fitness = 9\n",
            "Chromosome - 2 [#][P][o][s][I][A][2][0][7][4] / Fitness = 9\n",
            "Chromosome - 3 [#][P][o][s][I][A][2][0][7][4] / Fitness = 9\n",
            "Chromosome - 4 [#][P][o][s][I][A][2][0][7][4] / Fitness = 9\n",
            "Chromosome - 5 [#][P][o][s][I][A][2][0][7][4] / Fitness = 9\n",
            "Chromosome - 6 [#][P][o][s][I][A][2][0][7][4] / Fitness = 9\n",
            "Chromosome - 7 [#][P][o][s][I][A][2][0][]][4] / Fitness = 9\n",
            "Chromosome - 8 [#][P][o][s][I][A][2][0][&][4] / Fitness = 9\n",
            "Chromosome - 9 [#][P][o][s][I][A][2][0][g][4] / Fitness = 9\n",
            "Chromosome - 10 [#][P][o][s][I][A][2][0][c][4] / Fitness = 9\n",
            "Chromosome - 11 [#][P][o][s][I][A][2][0][6][4] / Fitness = 9\n",
            "Chromosome - 12 [#][P][o][s][I][A][2][0][m][4] / Fitness = 9\n",
            "Chromosome - 13 [#][P][o][s][I][A][2][0][6][4] / Fitness = 9\n",
            "Chromosome - 14 [#][P][o][s][I][A][2][0][6][4] / Fitness = 9\n",
            "Chromosome - 15 [#][P][o][s][I][A][2][0][a][4] / Fitness = 9\n",
            "Chromosome - 16 [#][P][o][s][I][A][2][0][b][4] / Fitness = 9\n",
            "Chromosome - 17 [#][P][o][s][I][A][2][0][b][4] / Fitness = 9\n",
            "Chromosome - 18 [#][P][o][s][I][A][2][0][R][4] / Fitness = 9\n",
            "Chromosome - 19 [#][P][o][s][I][A][2][0][`][4] / Fitness = 9\n",
            "Chromosome - 20 [#][P][o][s][I][A][2][0][`][4] / Fitness = 9\n",
            "Chromosome - 21 [#][P][o][s][I][A][2][0][X][4] / Fitness = 9\n",
            "Chromosome - 22 [#][P][o][s][I][A][2][0][7][4] / Fitness = 9\n",
            "Chromosome - 23 [#][P][o][s][I][A][2][0][6][4] / Fitness = 9\n",
            "Chromosome - 24 [#][P][o][s][I][A][2][0][m][4] / Fitness = 9\n",
            "Chromosome - 25 [#][P][o][s][I][A][2][0][m][4] / Fitness = 9\n",
            "Chromosome - 26 [#][P][o][s][I][A][2][0][7][4] / Fitness = 9\n",
            "Chromosome - 27 [#][P][o][s][I][A][2][0][J][4] / Fitness = 9\n",
            "Chromosome - 28 [#][P][o][s][I][A][2][0][m][4] / Fitness = 9\n",
            "Chromosome - 29 [#][P][o][s][I][A][2][0][m][4] / Fitness = 9\n",
            "Chromosome - 30 [#][P][o][s][I][A][2][0][`][4] / Fitness = 9\n",
            "Chromosome - 31 [#][P][o][s][I][A][2][0][c][4] / Fitness = 9\n",
            "Chromosome - 32 [#][P][o][s][I][A][2][0][c][4] / Fitness = 9\n",
            "Chromosome - 33 [#][P][o][s][I][A][2][0][J][4] / Fitness = 9\n",
            "Chromosome - 34 [#][P][9][s][I][A][2][0][R][4] / Fitness = 8\n",
            "Chromosome - 35 [#][P][o][S][I][A][2][0][7][4] / Fitness = 8\n",
            "Chromosome - 36 [T][P][o][s][I][A][2][0][9][4] / Fitness = 8\n",
            "Chromosome - 37 [#][P][o][s][d][A][2][0][J][4] / Fitness = 8\n",
            "Chromosome - 38 [#][P][o][s][y][A][2][0][6][4] / Fitness = 8\n",
            "Chromosome - 39 [#][P][o][s][I][A][2][0][b][9] / Fitness = 8\n",
            "Chromosome - 40 [#][)][o][s][I][A][2][0][b][4] / Fitness = 8\n",
            "Chromosome - 41 [@][P][o][s][I][A][2][0][`][4] / Fitness = 8\n",
            "Chromosome - 42 [#][P][o][s][I][c][2][0][`][4] / Fitness = 8\n",
            "Chromosome - 43 [#][P][o][l][I][A][2][0][J][4] / Fitness = 8\n",
            "Chromosome - 44 [#][P][o][s][I][A][2][Z][~][4] / Fitness = 8\n",
            "Chromosome - 45 [#][P][o][Z][I][A][2][0][b][4] / Fitness = 8\n",
            "Chromosome - 46 [#][P][o][*][I][A][2][0][`][4] / Fitness = 8\n",
            "Chromosome - 47 [#][P][o][s][I][A][2][c][7][4] / Fitness = 8\n",
            "Chromosome - 48 [#][P][o][s][I][A][2][c][7][4] / Fitness = 8\n",
            "Chromosome - 49 [#][P][o][s][&][A][2][o][`][4] / Fitness = 7\n",
            "\n"
          ]
        }
      ]
    },
    {
      "cell_type": "code",
      "source": [
        "# Gráfico de convergência\n",
        "ga.graph.highest_value_chromosome()\n",
        "ga.graph.show()"
      ],
      "metadata": {
        "colab": {
          "base_uri": "https://localhost:8080/",
          "height": 472
        },
        "id": "mrbaTtO9sgqY",
        "outputId": "8cc47b1a-1b8c-4ef1-82db-09106d7f5db8"
      },
      "execution_count": null,
      "outputs": [
        {
          "output_type": "display_data",
          "data": {
            "text/plain": [
              "<Figure size 640x480 with 1 Axes>"
            ],
            "image/png": "[encoded data removed]"
          },
          "metadata": {}
        }
      ]
    }
  ]
}