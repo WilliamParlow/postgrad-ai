{
  "nbformat": 4,
  "nbformat_minor": 0,
  "metadata": {
    "colab": {
      "provenance": []
    },
    "kernelspec": {
      "name": "python3",
      "display_name": "Python 3"
    },
    "language_info": {
      "name": "python"
    }
  },
  "cells": [
    {
      "cell_type": "code",
      "source": [
        "# https://github.com/danielwilczak101/EasyGA\n",
        "!pip install EasyGA"
      ],
      "metadata": {
        "id": "Uhbna55V9bMb"
      },
      "execution_count": null,
      "outputs": []
    },
    {
      "cell_type": "markdown",
      "source": [
        "### Base de Dados:\n",
        "\n",
        "- http://artemisa.unicauca.edu.co/~johnyortega/instances_01_KP/\n",
        "- Gerador de base de dados: http://hjemmesider.diku.dk/~pisinger/codes.html"
      ],
      "metadata": {
        "id": "zMhW_tfAS5A5"
      }
    },
    {
      "cell_type": "code",
      "execution_count": 2,
      "metadata": {
        "id": "Q1PGb1fr9LVe"
      },
      "outputs": [],
      "source": [
        "import EasyGA\n",
        "import random"
      ]
    },
    {
      "cell_type": "code",
      "source": [
        "# Define as instâncias das bases de dados\n",
        "# fileName = '/content/f1_l-d_kp_10_269'\n",
        "# capacidade = 269\n",
        "# optimalSolution = 295\n",
        "\n",
        "fileName = '/content/f2_l-d_kp_20_878'\n",
        "capacidade = 878\n",
        "optimalSolution = 1024"
      ],
      "metadata": {
        "id": "MSW5ILv8ahRu"
      },
      "execution_count": 32,
      "outputs": []
    },
    {
      "cell_type": "code",
      "source": [
        "# Faz a leitura do arquivo\n",
        "peso = []\n",
        "custo = []\n",
        "with open(fileName) as f:\n",
        "  # Ignorar a primeira linha\n",
        "  next(f)\n",
        "  for line in f:\n",
        "    v, w = line.split()\n",
        "    peso.append(int(w))\n",
        "    custo.append(int(v))\n"
      ],
      "metadata": {
        "id": "AJOETZKTa4lw"
      },
      "execution_count": 33,
      "outputs": []
    },
    {
      "cell_type": "code",
      "source": [
        "peso"
      ],
      "metadata": {
        "colab": {
          "base_uri": "https://localhost:8080/"
        },
        "id": "065u-1C06uGz",
        "outputId": "b03acf34-20b6-4991-ac73-8491ffe526a3"
      },
      "execution_count": 34,
      "outputs": [
        {
          "output_type": "execute_result",
          "data": {
            "text/plain": [
              "[92, 4, 43, 83, 84, 68, 92, 82, 6, 44, 32, 18, 56, 83, 25, 96, 70, 48, 14, 58]"
            ]
          },
          "metadata": {},
          "execution_count": 34
        }
      ]
    },
    {
      "cell_type": "code",
      "source": [
        "# Função Fitness\n",
        "def fitnessFunction(solucao):\n",
        "  fitness = 0\n",
        "  soma_capacidade = 0\n",
        "  for i in range(len(solucao)):\n",
        "    if solucao[i] == 1:\n",
        "      fitness += custo[i]\n",
        "      soma_capacidade += peso[i]\n",
        "  if soma_capacidade > capacidade:\n",
        "    fitness = 0\n",
        "  return fitness"
      ],
      "metadata": {
        "id": "YoBnWE3-TyLx"
      },
      "execution_count": 35,
      "outputs": []
    },
    {
      "cell_type": "code",
      "source": [
        "# Modelagem do GA com o framework\n",
        "ga = EasyGA.GA()\n",
        "\n",
        "# Parâmetros: Cromossomo, população, melhor fitness, etc..\n",
        "ga.population_size = 50\n",
        "ga.chromosome_length = len(custo)\n",
        "ga.generation_goal = 500\n",
        "\n",
        "# Tipo de valor de cada gene\n",
        "ga.gene_impl = lambda: random.randint(0,1)\n",
        "\n",
        "# Tipo de problema de otimização (Max ou Min)\n",
        "ga.target_fitness_type = 'max'\n",
        "\n",
        "# Cadastra a solução ótima\n",
        "ga.fitness_goal = optimalSolution"
      ],
      "metadata": {
        "id": "EvG1n3Fh9TxW"
      },
      "execution_count": 42,
      "outputs": []
    },
    {
      "cell_type": "code",
      "source": [
        "# Cadastra a função fitness\n",
        "ga.fitness_function_impl = fitnessFunction"
      ],
      "metadata": {
        "id": "g_q06_8CkwXL"
      },
      "execution_count": 43,
      "outputs": []
    },
    {
      "cell_type": "code",
      "source": [
        "from EasyGA import crossover, mutation"
      ],
      "metadata": {
        "id": "54wLZsC88kux"
      },
      "execution_count": 44,
      "outputs": []
    },
    {
      "cell_type": "code",
      "source": [
        "# Faz a escolha do cruzamento\n",
        "# ga.crossover_individual_impl = crossover.Crossover.Individual.multi_point\n",
        "ga.crossover_individual_impl = crossover.Crossover.Individual.single_point\n",
        "ga.mutation_individual_impl = mutation.Mutation.Individual.individual_genes  # Default"
      ],
      "metadata": {
        "id": "mAi0aCOqX2K6"
      },
      "execution_count": 45,
      "outputs": []
    },
    {
      "cell_type": "code",
      "source": [
        "# Faz a execução do GA\n",
        "# Imprime a geração e melhor fitness\n",
        "while ga.active():\n",
        "  ga.evolve(20)\n",
        "  ga.print_generation()\n",
        "  ga.print_best_chromosome()\n"
      ],
      "metadata": {
        "id": "A69SEKlyX_eu",
        "colab": {
          "base_uri": "https://localhost:8080/"
        },
        "outputId": "adb270d8-a978-4b79-9eb3-0da903a07fb4"
      },
      "execution_count": 46,
      "outputs": [
        {
          "output_type": "stream",
          "name": "stdout",
          "text": [
            "Current Generation \t: 20\n",
            "Best Chromosome \t: [1][1][1][1][1][1][1][0][0][1][1][1][1][1][1][0][1][0][1][1]\n",
            "Best Fitness    \t: 996\n",
            "Current Generation \t: 40\n",
            "Best Chromosome \t: [1][1][1][1][1][1][1][0][1][1][1][1][1][1][1][0][1][0][1][1]\n",
            "Best Fitness    \t: 1004\n",
            "Current Generation \t: 60\n",
            "Best Chromosome \t: [1][1][1][1][1][1][1][0][1][1][1][1][1][1][1][0][1][0][1][1]\n",
            "Best Fitness    \t: 1004\n",
            "Current Generation \t: 80\n",
            "Best Chromosome \t: [1][1][1][1][1][1][1][0][1][1][1][1][1][1][1][0][1][0][1][1]\n",
            "Best Fitness    \t: 1004\n",
            "Current Generation \t: 100\n",
            "Best Chromosome \t: [1][1][1][1][1][1][1][0][1][1][1][1][1][0][1][0][1][1][1][1]\n",
            "Best Fitness    \t: 1018\n",
            "Current Generation \t: 120\n",
            "Best Chromosome \t: [1][1][1][1][1][1][1][0][1][1][1][1][1][0][1][0][1][1][1][1]\n",
            "Best Fitness    \t: 1018\n",
            "Current Generation \t: 121\n",
            "Best Chromosome \t: [1][1][1][1][1][1][1][1][1][1][1][1][1][0][1][0][1][0][1][1]\n",
            "Best Fitness    \t: 1024\n"
          ]
        }
      ]
    },
    {
      "cell_type": "code",
      "source": [
        "# Mostra a curva de convergência da melhor solução\n",
        "ga.graph.highest_value_chromosome()\n",
        "ga.graph.show()"
      ],
      "metadata": {
        "id": "JUdRS8k2k8Of",
        "colab": {
          "base_uri": "https://localhost:8080/",
          "height": 472
        },
        "outputId": "c03084bb-11e3-4ce8-be34-17614788e1e0"
      },
      "execution_count": 47,
      "outputs": [
        {
          "output_type": "display_data",
          "data": {
            "text/plain": [
              "<Figure size 640x480 with 1 Axes>"
            ],
            "image/png": "[encoded data removed]"
          },
          "metadata": {}
        }
      ]
    }
  ]
}