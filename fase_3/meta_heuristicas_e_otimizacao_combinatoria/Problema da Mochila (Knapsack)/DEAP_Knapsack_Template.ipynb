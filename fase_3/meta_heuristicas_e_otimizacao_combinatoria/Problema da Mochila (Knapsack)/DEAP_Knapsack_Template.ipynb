{
  "nbformat": 4,
  "nbformat_minor": 0,
  "metadata": {
    "colab": {
      "provenance": []
    },
    "kernelspec": {
      "name": "python3",
      "display_name": "Python 3"
    },
    "language_info": {
      "name": "python"
    }
  },
  "cells": [
    {
      "cell_type": "markdown",
      "source": [
        "## Problema KNAPSACK_01\n",
        "* http://artemisa.unicauca.edu.co/~johnyortega/instances_01_KP/"
      ],
      "metadata": {
        "id": "VuWdrx-GpoXT"
      }
    },
    {
      "cell_type": "code",
      "execution_count": 1,
      "metadata": {
        "id": "Er6kg0G5p-JD",
        "colab": {
          "base_uri": "https://localhost:8080/"
        },
        "outputId": "42012457-8009-4f7f-a88d-0b3513916598"
      },
      "outputs": [
        {
          "output_type": "stream",
          "name": "stdout",
          "text": [
            "Collecting deap\n",
            "  Downloading deap-1.4.1-cp310-cp310-manylinux_2_5_x86_64.manylinux1_x86_64.manylinux_2_17_x86_64.manylinux2014_x86_64.whl (135 kB)\n",
            "\u001b[?25l     \u001b[90m━━━━━━━━━━━━━━━━━━━━━━━━━━━━━━━━━━━━━━━━\u001b[0m \u001b[32m0.0/135.4 kB\u001b[0m \u001b[31m?\u001b[0m eta \u001b[36m-:--:--\u001b[0m\r\u001b[2K     \u001b[91m━━━━━━━━━━━━━━━━━━━━━━━━━━━\u001b[0m\u001b[90m╺\u001b[0m\u001b[90m━━━━━━━━━━━━\u001b[0m \u001b[32m92.2/135.4 kB\u001b[0m \u001b[31m2.5 MB/s\u001b[0m eta \u001b[36m0:00:01\u001b[0m\r\u001b[2K     \u001b[90m━━━━━━━━━━━━━━━━━━━━━━━━━━━━━━━━━━━━━━━━\u001b[0m \u001b[32m135.4/135.4 kB\u001b[0m \u001b[31m2.5 MB/s\u001b[0m eta \u001b[36m0:00:00\u001b[0m\n",
            "\u001b[?25hRequirement already satisfied: numpy in /usr/local/lib/python3.10/dist-packages (from deap) (1.25.2)\n",
            "Installing collected packages: deap\n",
            "Successfully installed deap-1.4.1\n"
          ]
        }
      ],
      "source": [
        "!pip install deap"
      ]
    },
    {
      "cell_type": "code",
      "source": [
        "import random\n",
        "import numpy\n",
        "from deap import base\n",
        "from deap import creator\n",
        "from deap import algorithms\n",
        "from deap import tools"
      ],
      "metadata": {
        "id": "s2y0YQnLqjK-"
      },
      "execution_count": 2,
      "outputs": []
    },
    {
      "cell_type": "code",
      "source": [
        "# fileName = '/content/f1_l-d_kp_10_269'\n",
        "# capacidade = 269\n",
        "# optimalSolution = 295\n",
        "\n",
        "fileName = '/content/f2_l-d_kp_20_878'\n",
        "capacidade = 878\n",
        "optimalSolution = 1024"
      ],
      "metadata": {
        "id": "MSW5ILv8ahRu"
      },
      "execution_count": 51,
      "outputs": []
    },
    {
      "cell_type": "code",
      "source": [
        "# Leitura do arquivo teste\n",
        "peso = []\n",
        "custo=[]\n",
        "with open(fileName) as f:\n",
        "    # Ignora a primeira linha\n",
        "    next(f)\n",
        "    # Começa a leitura a partir da segunda linha\n",
        "    for line in f:\n",
        "      v, w = line.split()\n",
        "      peso.append(int(w))\n",
        "      custo.append(int(v))"
      ],
      "metadata": {
        "id": "AJOETZKTa4lw"
      },
      "execution_count": 52,
      "outputs": []
    },
    {
      "cell_type": "code",
      "source": [
        "custo"
      ],
      "metadata": {
        "colab": {
          "base_uri": "https://localhost:8080/"
        },
        "id": "iNJSz11nO1Qk",
        "outputId": "a05b701b-f326-434b-85ec-57f2a32f372c"
      },
      "execution_count": 53,
      "outputs": [
        {
          "output_type": "execute_result",
          "data": {
            "text/plain": [
              "[44, 46, 90, 72, 91, 40, 75, 35, 8, 54, 78, 40, 77, 15, 61, 17, 75, 29, 75, 63]"
            ]
          },
          "metadata": {},
          "execution_count": 53
        }
      ]
    },
    {
      "cell_type": "code",
      "source": [
        "# Função Fitness\n",
        "# Com framework DEAP, deixar uma virgula para\n",
        "#  garantir o padrão multiobjetivo\n",
        "def fitness_function(solucao):\n",
        "  fitness = 0\n",
        "  soma_capacidade = 0\n",
        "  for i in range(len(solucao)):\n",
        "    if solucao[i] == 1:\n",
        "      fitness += custo[i]\n",
        "      soma_capacidade += peso[i]\n",
        "  if soma_capacidade > capacidade:\n",
        "    fitness = 0\n",
        "  return fitness,"
      ],
      "metadata": {
        "id": "YoBnWE3-TyLx"
      },
      "execution_count": 54,
      "outputs": []
    },
    {
      "cell_type": "code",
      "source": [
        "# Gera o objetivo toolbox responsável por registrar as configurações do framewrok\n",
        "toolbox = base.Toolbox()\n",
        "\n",
        "# Tipo de fitness (Maximização ou Minimização) e cromossomo\n",
        "creator.create(\"Maximization\", base.Fitness, weights=(1.0,))\n",
        "creator.create(\"Cromossomo\", list, fitness=creator.Maximization)\n",
        "\n",
        "# Construir o cromossomo\n",
        "toolbox.register(\"atributo\", random.randint,0,1)\n",
        "toolbox.register(\"solucaoFinal\", tools.initRepeat, creator.Cromossomo, toolbox.atributo, n=len(custo))\n",
        "toolbox.register(\"Populacao\", tools.initRepeat, list, toolbox.solucaoFinal)\n",
        "\n",
        "# Cadastrar os operadores\n",
        "#  Função fitness\n",
        "toolbox.register(\"evaluate\", fitness_function)\n",
        "# Cruzamento\n",
        "toolbox.register(\"mate\", tools.cxTwoPoint)\n",
        "# Mutação\n",
        "toolbox.register(\"mutate\", tools.mutFlipBit, indpb=0.05)\n",
        "# Seleção\n",
        "toolbox.register(\"select\", tools.selTournament, tournsize=3)"
      ],
      "metadata": {
        "id": "T3_KnbbGmk4v"
      },
      "execution_count": 61,
      "outputs": []
    },
    {
      "cell_type": "code",
      "source": [
        "# Gera o Algoritmo Genético com a estrutura e operadores cadastrados\n",
        "pop = toolbox.Populacao(n=50)\n",
        "prob_cx= 0.8\n",
        "prob_mt= 0.1\n",
        "nger = 200\n",
        "hof = tools.HallOfFame(10)\n",
        "\n",
        "# Gera o formato de análise estatística\n",
        "st = tools.Statistics(key=lambda ind: ind.fitness.values)\n",
        "st.register(\"Max\", numpy.max)\n",
        "st.register(\"Avg\", numpy.mean)"
      ],
      "metadata": {
        "id": "uF35jwYoq-5x"
      },
      "execution_count": 67,
      "outputs": []
    },
    {
      "cell_type": "code",
      "source": [
        "# Executa o AG\n",
        "finalPop, log = algorithms.eaSimple(pop, toolbox, prob_cx, prob_mt, nger, st, hof, verbose=True)"
      ],
      "metadata": {
        "id": "jD7VYMirIrsu",
        "colab": {
          "base_uri": "https://localhost:8080/"
        },
        "outputId": "647db8a9-3401-403c-e4f5-be4c453dc68b"
      },
      "execution_count": 68,
      "outputs": [
        {
          "output_type": "stream",
          "name": "stdout",
          "text": [
            "gen\tnevals\tMax\tAvg   \n",
            "0  \t50    \t802\t562.16\n",
            "1  \t42    \t906\t664.12\n",
            "2  \t40    \t920\t730.6 \n",
            "3  \t42    \t1001\t743.86\n",
            "4  \t39    \t1001\t773.42\n",
            "5  \t26    \t1016\t871.6 \n",
            "6  \t38    \t1016\t871.28\n",
            "7  \t45    \t1016\t914.46\n",
            "8  \t44    \t1016\t877.94\n",
            "9  \t42    \t1024\t955.1 \n",
            "10 \t40    \t1024\t965.64\n",
            "11 \t44    \t1024\t927.44\n",
            "12 \t40    \t1024\t932.58\n",
            "13 \t44    \t1024\t1013.68\n",
            "14 \t40    \t1024\t1022.5 \n",
            "15 \t45    \t1024\t1017.22\n",
            "16 \t44    \t1024\t1017.64\n",
            "17 \t43    \t1024\t978.5  \n",
            "18 \t40    \t1024\t1018.54\n",
            "19 \t42    \t1024\t1000.28\n",
            "20 \t43    \t1024\t1000.3 \n",
            "21 \t29    \t1024\t1000.26\n",
            "22 \t43    \t1024\t1020.82\n",
            "23 \t37    \t1024\t1019.86\n",
            "24 \t41    \t1024\t1018.68\n",
            "25 \t42    \t1024\t1022.32\n",
            "26 \t37    \t1024\t1017.16\n",
            "27 \t44    \t1024\t1016.9 \n",
            "28 \t48    \t1024\t1021.06\n",
            "29 \t34    \t1024\t981.5  \n",
            "30 \t47    \t1024\t998.48 \n",
            "31 \t46    \t1024\t1022.86\n",
            "32 \t46    \t1024\t976.8  \n",
            "33 \t44    \t1024\t1023.08\n",
            "34 \t38    \t1024\t1021.04\n",
            "35 \t37    \t1024\t1019.68\n",
            "36 \t44    \t1024\t1022.4 \n",
            "37 \t44    \t1024\t1017.7 \n",
            "38 \t44    \t1024\t1015.7 \n",
            "39 \t42    \t1024\t1024   \n",
            "40 \t37    \t1024\t996.98 \n",
            "41 \t42    \t1024\t1021.3 \n",
            "42 \t44    \t1024\t1021.54\n",
            "43 \t35    \t1024\t978.88 \n",
            "44 \t44    \t1024\t1020.74\n",
            "45 \t41    \t1024\t1018.64\n",
            "46 \t43    \t1024\t979    \n",
            "47 \t47    \t1024\t1001.7 \n",
            "48 \t39    \t1024\t995    \n",
            "49 \t44    \t1024\t988.36 \n",
            "50 \t45    \t1024\t1021.58\n",
            "51 \t41    \t1024\t994.42 \n",
            "52 \t44    \t1024\t1017.58\n",
            "53 \t34    \t1024\t1020.38\n",
            "54 \t46    \t1024\t1003.52\n",
            "55 \t38    \t1024\t1019.86\n",
            "56 \t46    \t1024\t1019.06\n",
            "57 \t41    \t1024\t1019.12\n",
            "58 \t41    \t1024\t1018.32\n",
            "59 \t43    \t1024\t1017.82\n",
            "60 \t42    \t1024\t1019.36\n",
            "61 \t42    \t1024\t1024   \n",
            "62 \t36    \t1024\t977.68 \n",
            "63 \t39    \t1024\t1021.2 \n",
            "64 \t40    \t1024\t981.6  \n",
            "65 \t42    \t1024\t1013.86\n",
            "66 \t46    \t1024\t1022.5 \n",
            "67 \t44    \t1024\t1024   \n",
            "68 \t42    \t1024\t1017.94\n",
            "69 \t43    \t1024\t1015.56\n",
            "70 \t48    \t1024\t1016.84\n",
            "71 \t34    \t1024\t999.92 \n",
            "72 \t35    \t1024\t1020.16\n",
            "73 \t44    \t1024\t1020.94\n",
            "74 \t40    \t1024\t1012.54\n",
            "75 \t36    \t1024\t1022.18\n",
            "76 \t34    \t1024\t1019.38\n",
            "77 \t39    \t1024\t1020.7 \n",
            "78 \t41    \t1024\t1023.3 \n",
            "79 \t42    \t1024\t968.94 \n",
            "80 \t38    \t1024\t1015.7 \n",
            "81 \t41    \t1024\t1021.52\n",
            "82 \t31    \t1024\t1022   \n",
            "83 \t47    \t1024\t1002.3 \n",
            "84 \t43    \t1024\t1022.74\n",
            "85 \t41    \t1024\t992.52 \n",
            "86 \t36    \t1024\t1017.32\n",
            "87 \t41    \t1024\t1013.9 \n",
            "88 \t45    \t1024\t1015.4 \n",
            "89 \t45    \t1024\t994.86 \n",
            "90 \t40    \t1024\t937.6  \n",
            "91 \t34    \t1024\t1015.06\n",
            "92 \t46    \t1024\t996.76 \n",
            "93 \t43    \t1024\t1019.9 \n",
            "94 \t38    \t1024\t970    \n",
            "95 \t35    \t1024\t1021.24\n",
            "96 \t41    \t1024\t1017.14\n",
            "97 \t36    \t1024\t998.18 \n",
            "98 \t44    \t1024\t1003.52\n",
            "99 \t50    \t1024\t1015.44\n",
            "100\t31    \t1024\t1003.52\n",
            "101\t46    \t1024\t1022.2 \n",
            "102\t44    \t1024\t1017.04\n",
            "103\t42    \t1024\t1022.16\n",
            "104\t36    \t1024\t999.64 \n",
            "105\t38    \t1024\t1003.52\n",
            "106\t40    \t1024\t997.42 \n",
            "107\t37    \t1024\t1002.6 \n",
            "108\t46    \t1024\t1014.88\n",
            "109\t43    \t1024\t1019.68\n",
            "110\t46    \t1024\t1014.36\n",
            "111\t40    \t1024\t1001.74\n",
            "112\t44    \t1024\t1016.38\n",
            "113\t42    \t1024\t999.98 \n",
            "114\t42    \t1024\t994.6  \n",
            "115\t30    \t1024\t1003.52\n",
            "116\t35    \t1024\t1017.58\n",
            "117\t40    \t1024\t1000.44\n",
            "118\t46    \t1024\t998.54 \n",
            "119\t49    \t1024\t1018.9 \n",
            "120\t42    \t1024\t1001.04\n",
            "121\t42    \t1024\t977.22 \n",
            "122\t40    \t1024\t1002.64\n",
            "123\t41    \t1024\t1020.68\n",
            "124\t47    \t1024\t1015.72\n",
            "125\t34    \t1024\t1020.52\n",
            "126\t39    \t1024\t1019.4 \n",
            "127\t43    \t1024\t1019.38\n",
            "128\t44    \t1024\t998.82 \n",
            "129\t39    \t1024\t1020.32\n",
            "130\t38    \t1024\t996.44 \n",
            "131\t36    \t1024\t1018.56\n",
            "132\t45    \t1024\t1015.28\n",
            "133\t37    \t1024\t1020.22\n",
            "134\t44    \t1024\t958.48 \n",
            "135\t42    \t1024\t1012.3 \n",
            "136\t38    \t1024\t1022.92\n",
            "137\t44    \t1024\t1017.98\n",
            "138\t42    \t1024\t1015.56\n",
            "139\t42    \t1024\t1023.04\n",
            "140\t37    \t1024\t1017.6 \n",
            "141\t42    \t1024\t1022.04\n",
            "142\t42    \t1024\t1024   \n",
            "143\t37    \t1024\t1018.22\n",
            "144\t38    \t1024\t1021.64\n",
            "145\t44    \t1024\t1017.42\n",
            "146\t42    \t1024\t1022.2 \n",
            "147\t47    \t1024\t1024   \n",
            "148\t44    \t1024\t1002.38\n",
            "149\t39    \t1024\t1017.56\n",
            "150\t38    \t1024\t1020.54\n",
            "151\t44    \t1024\t1024   \n",
            "152\t42    \t1024\t1010.78\n",
            "153\t38    \t1024\t1001.72\n",
            "154\t46    \t1024\t1017.02\n",
            "155\t41    \t1024\t1022.44\n",
            "156\t42    \t1024\t1016.12\n",
            "157\t40    \t1024\t1017.46\n",
            "158\t45    \t1024\t974.98 \n",
            "159\t40    \t1024\t1019.22\n",
            "160\t42    \t1024\t997.46 \n",
            "161\t38    \t1024\t1000.48\n",
            "162\t40    \t1024\t953.92 \n",
            "163\t46    \t1024\t1019.46\n",
            "164\t40    \t1024\t1017.5 \n",
            "165\t43    \t1024\t1022.38\n",
            "166\t36    \t1024\t1022.78\n",
            "167\t40    \t1024\t998.18 \n",
            "168\t40    \t1024\t998.52 \n",
            "169\t34    \t1024\t990.72 \n",
            "170\t45    \t1024\t1018.08\n",
            "171\t45    \t1024\t1021.54\n",
            "172\t43    \t1024\t980.3  \n",
            "173\t41    \t1024\t1001.36\n",
            "174\t47    \t1024\t1017.18\n",
            "175\t41    \t1024\t1021.4 \n",
            "176\t40    \t1024\t1017.12\n",
            "177\t39    \t1024\t998.96 \n",
            "178\t40    \t1024\t1022.92\n",
            "179\t39    \t1024\t1000.34\n",
            "180\t26    \t1024\t1000.52\n",
            "181\t43    \t1024\t979.2  \n",
            "182\t40    \t1024\t1021.26\n",
            "183\t43    \t1024\t983.04 \n",
            "184\t48    \t1024\t1022.04\n",
            "185\t39    \t1024\t1001.72\n",
            "186\t36    \t1024\t1024   \n",
            "187\t38    \t1024\t1024   \n",
            "188\t46    \t1024\t996.04 \n",
            "189\t47    \t1024\t1008.7 \n",
            "190\t42    \t1024\t1021.52\n",
            "191\t40    \t1024\t1021.94\n",
            "192\t36    \t1024\t998.1  \n",
            "193\t36    \t1024\t1002.64\n",
            "194\t42    \t1024\t978.82 \n",
            "195\t40    \t1024\t1024   \n",
            "196\t44    \t1024\t1017.08\n",
            "197\t44    \t1024\t1024   \n",
            "198\t40    \t1024\t1019.6 \n",
            "199\t36    \t1024\t1015.56\n",
            "200\t48    \t1024\t1014.46\n"
          ]
        }
      ]
    },
    {
      "cell_type": "code",
      "source": [
        "# Selecionar o melhor individuo final\n",
        "melhorSolucao = tools.selBest(finalPop, 5)\n",
        "# print(f'{melhorSolucao[0]} - {melhorSolucao[0].fitness.values}')\n",
        "for ind in melhorSolucao:\n",
        "  print(f'{ind} - {ind.fitness.values}')"
      ],
      "metadata": {
        "colab": {
          "base_uri": "https://localhost:8080/"
        },
        "id": "01Is5R7aIwDg",
        "outputId": "c492b140-b713-439b-915b-2e76781091af"
      },
      "execution_count": 69,
      "outputs": [
        {
          "output_type": "stream",
          "name": "stdout",
          "text": [
            "[1, 1, 1, 1, 1, 1, 1, 1, 1, 1, 1, 1, 1, 0, 1, 0, 1, 0, 1, 1] - (1024.0,)\n",
            "[1, 1, 1, 1, 1, 1, 1, 1, 1, 1, 1, 1, 1, 0, 1, 0, 1, 0, 1, 1] - (1024.0,)\n",
            "[1, 1, 1, 1, 1, 1, 1, 1, 1, 1, 1, 1, 1, 0, 1, 0, 1, 0, 1, 1] - (1024.0,)\n",
            "[1, 1, 1, 1, 1, 1, 1, 1, 1, 1, 1, 1, 1, 0, 1, 0, 1, 0, 1, 1] - (1024.0,)\n",
            "[1, 1, 1, 1, 1, 1, 1, 1, 1, 1, 1, 1, 1, 0, 1, 0, 1, 0, 1, 1] - (1024.0,)\n"
          ]
        }
      ]
    },
    {
      "cell_type": "code",
      "source": [
        "# Percorre as melhores soluções armazenadas com HallOfFame\n",
        "for best in hof:\n",
        "  print(f'{best} - {best.fitness.values}')"
      ],
      "metadata": {
        "id": "q0AiANrUdqeM",
        "colab": {
          "base_uri": "https://localhost:8080/"
        },
        "outputId": "6a8ead45-3e94-4e62-a373-06ae26483a20"
      },
      "execution_count": 70,
      "outputs": [
        {
          "output_type": "stream",
          "name": "stdout",
          "text": [
            "[1, 1, 1, 1, 1, 1, 1, 1, 1, 1, 1, 1, 1, 0, 1, 0, 1, 0, 1, 1] - (1024.0,)\n",
            "[1, 1, 1, 1, 1, 1, 1, 0, 1, 1, 1, 1, 1, 0, 1, 0, 1, 1, 1, 1] - (1018.0,)\n",
            "[1, 1, 1, 1, 1, 1, 1, 1, 0, 1, 1, 1, 1, 0, 1, 0, 1, 0, 1, 1] - (1016.0,)\n",
            "[1, 1, 1, 1, 1, 0, 1, 1, 1, 1, 1, 1, 1, 0, 1, 0, 1, 1, 1, 1] - (1013.0,)\n",
            "[1, 1, 1, 1, 1, 1, 1, 0, 0, 1, 1, 1, 1, 0, 1, 0, 1, 1, 1, 1] - (1010.0,)\n",
            "[0, 1, 1, 1, 1, 1, 1, 1, 1, 1, 1, 1, 1, 0, 1, 0, 1, 1, 1, 1] - (1009.0,)\n",
            "[1, 1, 1, 1, 1, 1, 1, 0, 1, 1, 1, 1, 1, 1, 1, 0, 1, 0, 1, 1] - (1004.0,)\n",
            "[0, 1, 1, 1, 1, 1, 1, 1, 0, 1, 1, 1, 1, 0, 1, 0, 1, 1, 1, 1] - (1001.0,)\n",
            "[1, 1, 1, 1, 1, 1, 1, 1, 1, 0, 1, 1, 1, 0, 1, 0, 1, 1, 1, 1] - (999.0,)\n",
            "[0, 1, 1, 1, 1, 1, 1, 1, 1, 1, 1, 1, 1, 0, 1, 1, 1, 0, 1, 1] - (997.0,)\n"
          ]
        }
      ]
    },
    {
      "cell_type": "code",
      "source": [
        "# Plotagem das melhores soluções x média das populações\n",
        "import matplotlib.pyplot as plt\n",
        "\n",
        "maxFit, meanFit = log.select(\"Max\", \"Avg\")\n",
        "\n",
        "plt.plot(maxFit, color='blue')\n",
        "# plt.plot(meanFit, color='green')\n",
        "plt.xlabel('Generation')\n",
        "plt.ylabel('Fitness')\n",
        "plt.show()"
      ],
      "metadata": {
        "id": "ol-VMXbBrHm0",
        "colab": {
          "base_uri": "https://localhost:8080/",
          "height": 449
        },
        "outputId": "8372c272-8568-4712-945d-7177c8bd1d8f"
      },
      "execution_count": 71,
      "outputs": [
        {
          "output_type": "display_data",
          "data": {
            "text/plain": [
              "<Figure size 640x480 with 1 Axes>"
            ],
            "image/png": "[encoded data removed]"
          },
          "metadata": {}
        }
      ]
    }
  ]
}