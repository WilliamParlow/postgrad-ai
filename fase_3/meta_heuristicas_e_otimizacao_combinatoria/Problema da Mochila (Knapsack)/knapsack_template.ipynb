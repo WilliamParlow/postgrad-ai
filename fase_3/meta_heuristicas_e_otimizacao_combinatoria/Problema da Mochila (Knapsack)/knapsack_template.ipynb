{
  "nbformat": 4,
  "nbformat_minor": 0,
  "metadata": {
    "colab": {
      "provenance": []
    },
    "kernelspec": {
      "name": "python3",
      "display_name": "Python 3"
    },
    "language_info": {
      "name": "python"
    }
  },
  "cells": [
    {
      "cell_type": "markdown",
      "source": [
        "#### Base de Dados: https://people.sc.fsu.edu/~jburkardt/datasets/knapsack_01/knapsack_01.html\n",
        "* Instância exemplo:\n",
        "  - P01: Conjunto de 10 pesos e custos; Capacidade 165."
      ],
      "metadata": {
        "id": "MPIKT9UXMde2"
      }
    },
    {
      "cell_type": "code",
      "execution_count": null,
      "metadata": {
        "id": "9Xje4ukFLT4h"
      },
      "outputs": [],
      "source": [
        "capacidade = 165\n",
        "peso = [23, 31, 29, 44, 53, 38, 63, 85, 89, 82]\n",
        "custo= [92,57,49,68,60,43,67,84,87,72]\n",
        "melhor_solucao = 309"
      ]
    },
    {
      "cell_type": "code",
      "source": [
        "# Retorna os valores de custo e peso da solução\n",
        "def fitness_test(solucao):\n",
        "  fitness = 0\n",
        "  soma_capacidade = 0\n",
        "  for i in range(len(solucao)):\n",
        "    if solucao[i] == 1:\n",
        "      fitness+=custo[i]\n",
        "      soma_capacidade += peso[i]\n",
        "  if soma_capacidade > capacidade:\n",
        "    # Aplica penalização na solução atual\n",
        "    fitness = 0\n",
        "  return fitness, soma_capacidade"
      ],
      "metadata": {
        "id": "9LXc5607LpOe"
      },
      "execution_count": null,
      "outputs": []
    },
    {
      "cell_type": "code",
      "source": [
        "# # Testando função fitness\n",
        "opt = [1,1,1,1,0,1,0,0,0,0]\n",
        "fit, w = fitness_test(opt)\n",
        "print(f'Fitness: {fit} - Peso: {w}')"
      ],
      "metadata": {
        "id": "VOWjz-x1LsLt",
        "colab": {
          "base_uri": "https://localhost:8080/"
        },
        "outputId": "a03e22d3-2ab5-4bd3-ee9f-fb8ad35851e4"
      },
      "execution_count": null,
      "outputs": [
        {
          "output_type": "stream",
          "name": "stdout",
          "text": [
            "Fitness: 309 - Peso: 165\n"
          ]
        }
      ]
    },
    {
      "cell_type": "code",
      "source": [
        "sum(peso)"
      ],
      "metadata": {
        "colab": {
          "base_uri": "https://localhost:8080/"
        },
        "id": "bCanAIlbvjdX",
        "outputId": "573cd52a-54bf-4d3d-9a44-381a8ec424fd"
      },
      "execution_count": null,
      "outputs": [
        {
          "output_type": "execute_result",
          "data": {
            "text/plain": [
              "537"
            ]
          },
          "metadata": {},
          "execution_count": 4
        }
      ]
    },
    {
      "cell_type": "code",
      "source": [
        "sum(custo)"
      ],
      "metadata": {
        "colab": {
          "base_uri": "https://localhost:8080/"
        },
        "id": "KmexsqQzvqt9",
        "outputId": "5a63494c-8186-49f2-caf5-263f6951ec7d"
      },
      "execution_count": null,
      "outputs": [
        {
          "output_type": "execute_result",
          "data": {
            "text/plain": [
              "679"
            ]
          },
          "metadata": {},
          "execution_count": 5
        }
      ]
    }
  ]
}