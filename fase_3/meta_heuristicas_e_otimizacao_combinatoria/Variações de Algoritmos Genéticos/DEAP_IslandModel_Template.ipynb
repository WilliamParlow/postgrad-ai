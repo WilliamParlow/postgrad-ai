{
  "nbformat": 4,
  "nbformat_minor": 0,
  "metadata": {
    "colab": {
      "provenance": []
    },
    "kernelspec": {
      "name": "python3",
      "display_name": "Python 3"
    },
    "language_info": {
      "name": "python"
    }
  },
  "cells": [
    {
      "cell_type": "markdown",
      "source": [
        "#### Modelo baseado em Ilhas\n",
        "- Topologia Anel\n",
        "\n",
        "<img src=\"https://servicewordpressigti.azurewebsites.net/wp-content/uploads/2022/09/topologia-de-rede-anel-1024x837.jpg\" width=\"200\"\n",
        "  height=\"200\" align=\"left\"/>\n"
      ],
      "metadata": {
        "id": "a_fc02eDUv0X"
      }
    },
    {
      "cell_type": "markdown",
      "source": [
        "#### Técnicas de implementação\n",
        "* Técnica de Migração: migRing (Framework DEAP)\n",
        "\n",
        "#### Programação concorrente\n",
        "* SCOOP: (https://scoop.readthedocs.io/en/0.7/)"
      ],
      "metadata": {
        "id": "GaD-bh6HWCxd"
      }
    },
    {
      "cell_type": "code",
      "source": [
        "!pip install deap\n",
        "!pip install scoop"
      ],
      "metadata": {
        "colab": {
          "base_uri": "https://localhost:8080/"
        },
        "id": "dAEWrGx5SzDJ",
        "outputId": "7596d06a-ec5c-420f-b21a-3a6b7da2a4cc"
      },
      "execution_count": 1,
      "outputs": [
        {
          "output_type": "stream",
          "name": "stdout",
          "text": [
            "Collecting deap\n",
            "  Downloading deap-1.4.1-cp310-cp310-manylinux_2_5_x86_64.manylinux1_x86_64.manylinux_2_17_x86_64.manylinux2014_x86_64.whl (135 kB)\n",
            "\u001b[?25l     \u001b[90m━━━━━━━━━━━━━━━━━━━━━━━━━━━━━━━━━━━━━━━━\u001b[0m \u001b[32m0.0/135.4 kB\u001b[0m \u001b[31m?\u001b[0m eta \u001b[36m-:--:--\u001b[0m\r\u001b[2K     \u001b[90m━━━━━━━━━━━━━━━━━━━━━━━━━━━━━━━━━━━━━━━━\u001b[0m \u001b[32m135.4/135.4 kB\u001b[0m \u001b[31m4.3 MB/s\u001b[0m eta \u001b[36m0:00:00\u001b[0m\n",
            "\u001b[?25hRequirement already satisfied: numpy in /usr/local/lib/python3.10/dist-packages (from deap) (1.25.2)\n",
            "Installing collected packages: deap\n",
            "Successfully installed deap-1.4.1\n",
            "Collecting scoop\n",
            "  Downloading scoop-0.7.2.0.tar.gz (615 kB)\n",
            "\u001b[2K     \u001b[90m━━━━━━━━━━━━━━━━━━━━━━━━━━━━━━━━━━━━━━━━\u001b[0m \u001b[32m615.4/615.4 kB\u001b[0m \u001b[31m8.3 MB/s\u001b[0m eta \u001b[36m0:00:00\u001b[0m\n",
            "\u001b[?25h  Preparing metadata (setup.py) ... \u001b[?25l\u001b[?25hdone\n",
            "Requirement already satisfied: greenlet>=0.3.4 in /usr/local/lib/python3.10/dist-packages (from scoop) (3.0.3)\n",
            "Requirement already satisfied: pyzmq>=13.1.0 in /usr/local/lib/python3.10/dist-packages (from scoop) (23.2.1)\n",
            "Building wheels for collected packages: scoop\n",
            "  Building wheel for scoop (setup.py) ... \u001b[?25l\u001b[?25hdone\n",
            "  Created wheel for scoop: filename=scoop-0.7.2.0-py3-none-any.whl size=78113 sha256=3fed45021b7a176e10a2004211bc7d8104517a75b055dcd9007a089498c5bf91\n",
            "  Stored in directory: /root/.cache/pip/wheels/26/c6/da/088e4bffcfbc33fa40644ca636267bc801c8fd9eef973483db\n",
            "Successfully built scoop\n",
            "Installing collected packages: scoop\n",
            "Successfully installed scoop-0.7.2.0\n"
          ]
        }
      ]
    },
    {
      "cell_type": "code",
      "source": [
        "import array\n",
        "import random\n",
        "import numpy\n",
        "\n",
        "from deap import algorithms\n",
        "from deap import base\n",
        "from deap import creator\n",
        "from deap import tools\n",
        "\n",
        "# Bibliteca execução paralelismo\n",
        "from scoop import futures"
      ],
      "metadata": {
        "id": "SOA9ZdO0R0aW"
      },
      "execution_count": 2,
      "outputs": []
    },
    {
      "cell_type": "code",
      "source": [
        "def fitnessFunction(chromosome):\n",
        "    return sum(chromosome),"
      ],
      "metadata": {
        "id": "B3Doufgt-Fsa"
      },
      "execution_count": 3,
      "outputs": []
    },
    {
      "cell_type": "code",
      "source": [
        "# Cria o tipo de função fitness e indivíduo\n",
        "creator.create(\"Maximization\", base.Fitness, weights=(1.0,))\n",
        "creator.create(\"Genes\", list,fitness=creator.Maximization)\n",
        "\n",
        "toolbox = base.Toolbox()\n",
        "# Registra os nomes e os tipos de individuo, fiteness e população\n",
        "toolbox.register(\"Atributo\", random.randint, 0, 1)\n",
        "toolbox.register(\"Cromossomo\", tools.initRepeat, creator.Genes, toolbox.Atributo, n=300 )\n",
        "toolbox.register(\"Populacao\", tools.initRepeat, list, toolbox.Cromossomo)\n",
        "\n",
        "# Registra os operadores. Deve-se manter os nomes evaluate, mate, mutate e select\n",
        "toolbox.register(\"evaluate\", fitnessFunction)\n",
        "toolbox.register(\"mate\", tools.cxTwoPoint)\n",
        "toolbox.register(\"mutate\", tools.mutFlipBit, indpb = 0.01)\n",
        "toolbox.register(\"select\", tools.selTournament, tournsize = 5)"
      ],
      "metadata": {
        "id": "50eKOsha-DI1",
        "colab": {
          "base_uri": "https://localhost:8080/"
        },
        "outputId": "ac852c6f-5e1b-4c73-e902-393435354459"
      },
      "execution_count": 17,
      "outputs": [
        {
          "output_type": "stream",
          "name": "stderr",
          "text": [
            "/usr/local/lib/python3.10/dist-packages/deap/creator.py:185: RuntimeWarning: A class named 'Maximization' has already been created and it will be overwritten. Consider deleting previous creation of that class or rename it.\n",
            "  warnings.warn(\"A class named '{0}' has already been created and it \"\n",
            "/usr/local/lib/python3.10/dist-packages/deap/creator.py:185: RuntimeWarning: A class named 'Genes' has already been created and it will be overwritten. Consider deleting previous creation of that class or rename it.\n",
            "  warnings.warn(\"A class named '{0}' has already been created and it \"\n"
          ]
        }
      ]
    },
    {
      "cell_type": "code",
      "source": [
        "# Registra a execução em paralismo\n",
        "toolbox.register(\"map\", futures.map)"
      ],
      "metadata": {
        "id": "z20XSqUYl78Y"
      },
      "execution_count": 18,
      "outputs": []
    },
    {
      "cell_type": "code",
      "source": [
        "# Parâmetros do Algoritmo\n",
        "prob_cx = 0.8\n",
        "prob_mt = 0.1\n",
        "nger = 400\n",
        "freq = 10\n",
        "tamPop = 30\n",
        "nIlhas = 5"
      ],
      "metadata": {
        "id": "fO9K2bSU-yId"
      },
      "execution_count": 25,
      "outputs": []
    },
    {
      "cell_type": "code",
      "source": [
        "# Faz a execução do AG em Ilhas\n",
        "islands = [toolbox.Populacao(n=tamPop) for _ in range(nIlhas)]\n",
        "toolbox.register(\"algorithm\", algorithms.eaSimple, toolbox=toolbox,cxpb=prob_cx,\n",
        "                 mutpb = prob_mt, ngen=freq, verbose=False)\n",
        "\n",
        "for _ in range(0, nger, freq):\n",
        "  results = toolbox.map(toolbox.algorithm, islands)\n",
        "  islands = [pop for pop, logbook in results]\n",
        "  tools.migRing(islands, 5, tools.selBest)"
      ],
      "metadata": {
        "id": "jYpsBWzVTTUy"
      },
      "execution_count": 26,
      "outputs": []
    },
    {
      "cell_type": "code",
      "source": [
        "# Imprime o fitness máximo e médio por Ilhas\n",
        "for pop in islands:\n",
        "  # Armazena o Fitness final de cada Ilha\n",
        "  finalFitness = []\n",
        "  for individual in pop:\n",
        "    finalFitness.append(individual.fitness.values)\n",
        "  print(f'Max Fitness: {max(finalFitness)} - Avg Fitness: {numpy.mean(finalFitness)}')"
      ],
      "metadata": {
        "colab": {
          "base_uri": "https://localhost:8080/"
        },
        "id": "tox2MVyypxfa",
        "outputId": "75d568b8-85c5-4f03-b54c-97c3f064c93d"
      },
      "execution_count": 27,
      "outputs": [
        {
          "output_type": "stream",
          "name": "stdout",
          "text": [
            "Max Fitness: (300.0,) - Avg Fitness: 299.3\n",
            "Max Fitness: (300.0,) - Avg Fitness: 299.5\n",
            "Max Fitness: (300.0,) - Avg Fitness: 299.9\n",
            "Max Fitness: (300.0,) - Avg Fitness: 299.6333333333333\n",
            "Max Fitness: (300.0,) - Avg Fitness: 299.7\n"
          ]
        }
      ]
    }
  ]
}