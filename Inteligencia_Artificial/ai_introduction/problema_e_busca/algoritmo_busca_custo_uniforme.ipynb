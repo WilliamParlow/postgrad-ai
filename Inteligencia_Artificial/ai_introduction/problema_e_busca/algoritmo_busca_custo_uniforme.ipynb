{
 "cells": [
  {
   "cell_type": "code",
   "execution_count": 6,
   "id": "6d721673",
   "metadata": {},
   "outputs": [],
   "source": [
    "def busca_custo_uniforme(destino, inicio):\n",
    "  global grafo, custo\n",
    "  resultado = []\n",
    "  # Fila de Prioridades\n",
    "  fila = []\n",
    "  # Inicia o vetor resultado\n",
    "  for i in range(len(destino)):\n",
    "    resultado.append(10**8)\n",
    "  # Insere na fila o primeiro elemento\n",
    "  fila.append([0, inicio])\n",
    "  # Mapeia os nós visitados\n",
    "  visitados = {}\n",
    "  # Contador\n",
    "  contador = 0\n",
    "  # Enquanto a fila não estiver vazia\n",
    "  while (len(fila) > 0):\n",
    "  # Ordena a fila (crescente)\n",
    "    fila = sorted(fila)\n",
    "    # Usa o último elemento (menor)\n",
    "    p = fila[-1]\n",
    "    # Remove o menor elemento da fila\n",
    "    del fila[-1]\n",
    "    # Obtém o valor original da distância\n",
    "    p[0] *=-1\n",
    "    # Verifica se o nó é o destino\n",
    "    if (p[1] in destino):\n",
    "      # Recupera o indexador\n",
    "      index = destino.index(p[1])\n",
    "      # Se um novo destino foi atingido\n",
    "      if (resultado[index] == 10**8):\n",
    "        contador += 1\n",
    "      # Se o custo for inferior, atualiza o custo\n",
    "      if (resultado[index] > p[0]):\n",
    "        resultado[index] = p[0]\n",
    "      # Remove o nó da fila\n",
    "      del fila[-1]\n",
    "      fila = sorted(fila)\n",
    "      if (contador == len(destino)):\n",
    "        return resultado\n",
    "    # Verifica os nós não visitados que são adjacentes ao nó\n",
    "    # atual\n",
    "    if (p[1] not in visitados):\n",
    "      for i in range(len(grafo[p[1]])):\n",
    "        # o valor é multiplicado por-1 de tal forma que\n",
    "        # a menor prioridade está no topo\n",
    "        fila.append( [(p[0] + custo[(p[1], grafo[p[1]][i])])*-1, grafo[p[1]][i]])\n",
    "        # Marca como visitado o nó atual\n",
    "        visitados[p[1]] = 1\n",
    "  return resultado"
   ]
  },
  {
   "cell_type": "code",
   "execution_count": 9,
   "id": "b3681500",
   "metadata": {},
   "outputs": [
    {
     "name": "stdout",
     "output_type": "stream",
     "text": [
      "Custo mínimo de B para ['A', 'C', 'F'] é:  [1, 5, 8]\n"
     ]
    }
   ],
   "source": [
    "# Grafo\n",
    "grafo = {\n",
    "  'A': ['B', 'C'],\n",
    "  'B': ['A', 'D', 'E'],\n",
    "  'C': ['A', 'F'],\n",
    "  'D': ['B', 'G'],\n",
    "  'E': ['B', 'H'],\n",
    "  'F': ['C', 'I'],\n",
    "  'G': ['D'],\n",
    "  'H': ['E'],\n",
    "  'I': ['F']\n",
    "}\n",
    "# Custo\n",
    "custo = {\n",
    "  ('A', 'B'): 1,\n",
    "  ('A', 'C'): 4,\n",
    "  ('B', 'A'): 1,\n",
    "  ('B', 'D'): 2,\n",
    "  ('B', 'E'): 5,\n",
    "  ('C', 'A'): 4,\n",
    "  ('C', 'F'): 3,\n",
    "  ('D', 'B'): 2,\n",
    "  ('D', 'G'): 1,\n",
    "  ('E', 'B'): 5,\n",
    "  ('E', 'H'): 2,\n",
    "  ('F', 'C'): 3,\n",
    "  ('F', 'I'): 6,\n",
    "  ('G', 'D'): 1,\n",
    "  ('H', 'E'): 2,\n",
    "}\n",
    "# Teste\n",
    "destino = ['A', 'C', 'F']\n",
    "inicio = 'B'\n",
    "resultado = busca_custo_uniforme(destino, inicio)\n",
    "print(\"Custo mínimo de {} para {} é: \".format(inicio, destino), resultado)"
   ]
  }
 ],
 "metadata": {
  "kernelspec": {
   "display_name": ".venv",
   "language": "python",
   "name": "python3"
  },
  "language_info": {
   "codemirror_mode": {
    "name": "ipython",
    "version": 3
   },
   "file_extension": ".py",
   "mimetype": "text/x-python",
   "name": "python",
   "nbconvert_exporter": "python",
   "pygments_lexer": "ipython3",
   "version": "3.9.13"
  }
 },
 "nbformat": 4,
 "nbformat_minor": 5
}
