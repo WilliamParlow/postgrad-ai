{
 "cells": [
  {
   "cell_type": "markdown",
   "id": "e9193e04",
   "metadata": {},
   "source": [
    "### Exercício opcional prático com MLPRegressor\n",
    "\n",
    "Fazer a análise dos dados simples do dataset Beer Consumption - Sao Paulo (https://www.kaggle.com/datasets/dongeorge/beer-consumption-sao-paulo) e implementar um modelo de regressão (aproximador universal de funções), conforme o apresentação neste Bloco de Ensino. Observar que os dados devem ser devidamente tratados utilizando o Pandas, uma vez que separador decimal está usando vírgula. Os valores também necessitam de normalização. Outra dica é que o que se pretende predizer é o consumo de cerveja baseado nas outras variáveis dispostas no dataset. Para um modelo ótimo, você deve variar as configurações dos hiperparâmetros. "
   ]
  }
 ],
 "metadata": {
  "language_info": {
   "name": "python"
  }
 },
 "nbformat": 4,
 "nbformat_minor": 5
}
