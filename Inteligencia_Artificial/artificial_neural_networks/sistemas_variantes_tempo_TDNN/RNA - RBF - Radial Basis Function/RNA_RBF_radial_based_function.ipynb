{
 "cells": [
  {
   "cell_type": "markdown",
   "id": "63732f41",
   "metadata": {},
   "source": [
    "# RNA - RBF - Radial Basis Function\n",
    "\n",
    "- [Vídeo do Paulo Henrique Siqueira com a explicação sobre RBF](https://www.youtube.com/watch?v=j3pcwmGgLnY)\n",
    "\n",
    "Links do scikit-Learn com informações da biblioteca relacionadas ao tema:\n",
    "\n",
    "- https://scikit-learn.org/stable/modules/generated/sklearn.gaussian_process.kernels.RBF.html\n",
    "\n",
    "- https://scikit-learn.org/stable/modules/gaussian_process.html#gp-kernels\n",
    "\n",
    "Orientações para testes da RNA RBF:\n",
    "\n",
    "- Tentar aplicar a classificação do dataset Iris utilizando RBF."
   ]
  }
 ],
 "metadata": {
  "language_info": {
   "name": "python"
  }
 },
 "nbformat": 4,
 "nbformat_minor": 5
}
