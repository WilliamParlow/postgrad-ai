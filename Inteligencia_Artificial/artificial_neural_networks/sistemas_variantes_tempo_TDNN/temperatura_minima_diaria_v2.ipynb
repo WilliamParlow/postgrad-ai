{
  "cells": [
    {
      "cell_type": "code",
      "execution_count": 13,
      "metadata": {
        "colab": {
          "base_uri": "https://localhost:8080/"
        },
        "id": "UsrEUf9vq0Jn",
        "outputId": "6b216fd7-efe9-44c0-df80-0f0687658d3b"
      },
      "outputs": [],
      "source": [
        "from sklearn.model_selection import cross_val_score, train_test_split\n",
        "from sklearn.neural_network import MLPRegressor\n",
        "from sklearn.preprocessing import MinMaxScaler, StandardScaler\n",
        "from sklearn.pipeline import Pipeline\n",
        "from sklearn import metrics\n",
        "import matplotlib.pyplot as plt\n",
        "import numpy as np\n",
        "import pandas as pd"
      ]
    },
    {
      "cell_type": "code",
      "execution_count": 14,
      "metadata": {
        "id": "tcS_W48drjS5"
      },
      "outputs": [],
      "source": [
        "df = pd.read_csv('Daily_minimum_temps.csv', header=0)"
      ]
    },
    {
      "cell_type": "code",
      "execution_count": 15,
      "metadata": {
        "id": "gUn8JtXyrkQ2"
      },
      "outputs": [],
      "source": [
        "def create_lagged_features(df, max_lag=20):\n",
        "    df_new = pd.DataFrame()\n",
        "    dados = df.iloc[:, 1].values\n",
        "    tam = len(dados)\n",
        "\n",
        "    for i in range(tam - max_lag):\n",
        "        row_data = {}\n",
        "        for j in range(max_lag + 1):\n",
        "            row_data[f'x-{max_lag - j}'] = dados[i + j]\n",
        "        df_new_row = pd.DataFrame([row_data])\n",
        "        df_new = pd.concat([df_new, df_new_row], ignore_index=True)\n",
        "\n",
        "    y = df_new[['x-0']]\n",
        "    x = df_new.drop('x-0', axis=1)\n",
        "\n",
        "    return df_new, x, y\n",
        "\n",
        "df_new, x, y = create_lagged_features(df, max_lag=7)"
      ]
    },
    {
      "cell_type": "code",
      "execution_count": 16,
      "metadata": {
        "id": "ooCk4pYBrl18"
      },
      "outputs": [],
      "source": [
        "scaler = StandardScaler()\n",
        "x = scaler.fit_transform(x)\n",
        "y = scaler.fit_transform(y)\n",
        "\n",
        "scaler = MinMaxScaler()\n",
        "x = scaler.fit_transform(x)\n",
        "y = scaler.fit_transform(y)\n",
        "\n",
        "x_train, x_test, y_train, y_test = train_test_split(x, y, test_size=0.30, random_state=False)\n",
        "y_test = y_test.ravel()"
      ]
    },
    {
      "cell_type": "code",
      "execution_count": 17,
      "metadata": {
        "id": "ZOA1Y5ksroFn"
      },
      "outputs": [
        {
          "name": "stderr",
          "output_type": "stream",
          "text": [
            "/home/will/Desktop/postgrad-ai/.venv/lib/python3.11/site-packages/sklearn/neural_network/_multilayer_perceptron.py:1770: DataConversionWarning: A column-vector y was passed when a 1d array was expected. Please change the shape of y to (n_samples, ), for example using ravel().\n",
            "  y = column_or_1d(y, warn=True)\n"
          ]
        },
        {
          "data": {
            "application/vnd.microsoft.datawrangler.viewer.v0+json": {
              "columns": [
                {
                  "name": "index",
                  "rawType": "int64",
                  "type": "integer"
                },
                {
                  "name": "Desejado",
                  "rawType": "float64",
                  "type": "float"
                },
                {
                  "name": "Estimado",
                  "rawType": "float64",
                  "type": "float"
                }
              ],
              "ref": "1a825dd9-947e-4893-81ab-1b41df8b3f00",
              "rows": [
                [
                  "0",
                  "0.6539923954372623",
                  "0.6171340950463954"
                ],
                [
                  "1",
                  "0.247148288973384",
                  "0.3714708943944339"
                ],
                [
                  "2",
                  "0.2927756653992395",
                  "0.4482658823277218"
                ],
                [
                  "3",
                  "0.5665399239543726",
                  "0.4925494611058753"
                ],
                [
                  "4",
                  "0.5969581749049429",
                  "0.42485750219593643"
                ],
                [
                  "5",
                  "0.2965779467680608",
                  "0.29822419695522706"
                ],
                [
                  "6",
                  "0.3916349809885932",
                  "0.3214959131038628"
                ],
                [
                  "7",
                  "0.11406844106463876",
                  "0.306674963989965"
                ],
                [
                  "8",
                  "0.26235741444866917",
                  "0.3955694764981741"
                ],
                [
                  "9",
                  "0.43726235741444863",
                  "0.38115831749092843"
                ],
                [
                  "10",
                  "0.31939163498098855",
                  "0.31849253849291426"
                ],
                [
                  "11",
                  "0.4524714828897338",
                  "0.2438649918634005"
                ],
                [
                  "12",
                  "0.7186311787072243",
                  "0.7036124265635753"
                ],
                [
                  "13",
                  "0.35361216730038025",
                  "0.3609118110673854"
                ],
                [
                  "14",
                  "0.2927756653992395",
                  "0.2477536382187319"
                ]
              ],
              "shape": {
                "columns": 2,
                "rows": 15
              }
            },
            "text/html": [
              "<div>\n",
              "<style scoped>\n",
              "    .dataframe tbody tr th:only-of-type {\n",
              "        vertical-align: middle;\n",
              "    }\n",
              "\n",
              "    .dataframe tbody tr th {\n",
              "        vertical-align: top;\n",
              "    }\n",
              "\n",
              "    .dataframe thead th {\n",
              "        text-align: right;\n",
              "    }\n",
              "</style>\n",
              "<table border=\"1\" class=\"dataframe\">\n",
              "  <thead>\n",
              "    <tr style=\"text-align: right;\">\n",
              "      <th></th>\n",
              "      <th>Desejado</th>\n",
              "      <th>Estimado</th>\n",
              "    </tr>\n",
              "  </thead>\n",
              "  <tbody>\n",
              "    <tr>\n",
              "      <th>0</th>\n",
              "      <td>0.653992</td>\n",
              "      <td>0.617134</td>\n",
              "    </tr>\n",
              "    <tr>\n",
              "      <th>1</th>\n",
              "      <td>0.247148</td>\n",
              "      <td>0.371471</td>\n",
              "    </tr>\n",
              "    <tr>\n",
              "      <th>2</th>\n",
              "      <td>0.292776</td>\n",
              "      <td>0.448266</td>\n",
              "    </tr>\n",
              "    <tr>\n",
              "      <th>3</th>\n",
              "      <td>0.566540</td>\n",
              "      <td>0.492549</td>\n",
              "    </tr>\n",
              "    <tr>\n",
              "      <th>4</th>\n",
              "      <td>0.596958</td>\n",
              "      <td>0.424858</td>\n",
              "    </tr>\n",
              "    <tr>\n",
              "      <th>5</th>\n",
              "      <td>0.296578</td>\n",
              "      <td>0.298224</td>\n",
              "    </tr>\n",
              "    <tr>\n",
              "      <th>6</th>\n",
              "      <td>0.391635</td>\n",
              "      <td>0.321496</td>\n",
              "    </tr>\n",
              "    <tr>\n",
              "      <th>7</th>\n",
              "      <td>0.114068</td>\n",
              "      <td>0.306675</td>\n",
              "    </tr>\n",
              "    <tr>\n",
              "      <th>8</th>\n",
              "      <td>0.262357</td>\n",
              "      <td>0.395569</td>\n",
              "    </tr>\n",
              "    <tr>\n",
              "      <th>9</th>\n",
              "      <td>0.437262</td>\n",
              "      <td>0.381158</td>\n",
              "    </tr>\n",
              "    <tr>\n",
              "      <th>10</th>\n",
              "      <td>0.319392</td>\n",
              "      <td>0.318493</td>\n",
              "    </tr>\n",
              "    <tr>\n",
              "      <th>11</th>\n",
              "      <td>0.452471</td>\n",
              "      <td>0.243865</td>\n",
              "    </tr>\n",
              "    <tr>\n",
              "      <th>12</th>\n",
              "      <td>0.718631</td>\n",
              "      <td>0.703612</td>\n",
              "    </tr>\n",
              "    <tr>\n",
              "      <th>13</th>\n",
              "      <td>0.353612</td>\n",
              "      <td>0.360912</td>\n",
              "    </tr>\n",
              "    <tr>\n",
              "      <th>14</th>\n",
              "      <td>0.292776</td>\n",
              "      <td>0.247754</td>\n",
              "    </tr>\n",
              "  </tbody>\n",
              "</table>\n",
              "</div>"
            ],
            "text/plain": [
              "    Desejado  Estimado\n",
              "0   0.653992  0.617134\n",
              "1   0.247148  0.371471\n",
              "2   0.292776  0.448266\n",
              "3   0.566540  0.492549\n",
              "4   0.596958  0.424858\n",
              "5   0.296578  0.298224\n",
              "6   0.391635  0.321496\n",
              "7   0.114068  0.306675\n",
              "8   0.262357  0.395569\n",
              "9   0.437262  0.381158\n",
              "10  0.319392  0.318493\n",
              "11  0.452471  0.243865\n",
              "12  0.718631  0.703612\n",
              "13  0.353612  0.360912\n",
              "14  0.292776  0.247754"
            ]
          },
          "metadata": {},
          "output_type": "display_data"
        },
        {
          "data": {
            "image/png": "[encoded data removed]",
            "text/plain": [
              "<Figure size 1000x600 with 1 Axes>"
            ]
          },
          "metadata": {},
          "output_type": "display_data"
        },
        {
          "data": {
            "image/png": "[encoded data removed]",
            "text/plain": [
              "<Figure size 640x480 with 1 Axes>"
            ]
          },
          "metadata": {},
          "output_type": "display_data"
        },
        {
          "name": "stdout",
          "output_type": "stream",
          "text": [
            "Epochs:  212\n",
            "Loss:  0.004677601732155771\n",
            "Mean Absolute Error (MAE):  0.07433373197924775\n",
            "Mean Square Error (MSE):  0.009087222717542242\n",
            "Root Mean Squared Error (RMSE):  0.009087222717542242\n",
            "R2 Score:  0.6463494523791555\n"
          ]
        }
      ],
      "source": [
        "mlp_reg = MLPRegressor(hidden_layer_sizes=(50), activation='relu', solver='adam', alpha=1e-2,\n",
        "                       max_iter=5000, tol=1e-8, early_stopping=True, epsilon=1e-8,\n",
        "                       learning_rate_init=0.0001, learning_rate='adaptive', random_state=None)\n",
        "\n",
        "mlp_reg.fit(x_train, y_train)\n",
        "\n",
        "y_predict = mlp_reg.predict(x_test)\n",
        "\n",
        "df_temp = pd.DataFrame({'Desejado': y_test, 'Estimado': y_predict})\n",
        "display(df_temp.head(15))\n",
        "df_temp = df_temp.head(30)\n",
        "df_temp.plot(kind='bar', figsize=(10,6))\n",
        "plt.grid(which='major', linestyle='-', linewidth='0.5', color='gray')\n",
        "plt.grid(which='minor', linestyle=':', linewidth='0.5', color='blue')\n",
        "plt.show()\n",
        "\n",
        "plt.plot(mlp_reg.loss_curve_)\n",
        "plt.title('Curva de Perda no Treinamento', fontsize=14)\n",
        "plt.xlabel('Épocas')\n",
        "plt.ylabel('Erro / Custo')\n",
        "plt.show()\n",
        "\n",
        "print('Epochs: ', mlp_reg.n_iter_)\n",
        "print('Loss: ', mlp_reg.loss_)\n",
        "print('Mean Absolute Error (MAE): ', metrics.mean_absolute_error(y_test, y_predict))\n",
        "print('Mean Square Error (MSE): ', metrics.mean_squared_error(y_test, y_predict))\n",
        "print('Root Mean Squared Error (RMSE): ', metrics.mean_squared_error(y_test, y_predict))\n",
        "print('R2 Score: ', metrics.r2_score(y_test, y_predict))"
      ]
    },
    {
      "cell_type": "code",
      "execution_count": 18,
      "metadata": {
        "id": "uEoStNERWHMj"
      },
      "outputs": [
        {
          "name": "stderr",
          "output_type": "stream",
          "text": [
            "/home/will/Desktop/postgrad-ai/.venv/lib/python3.11/site-packages/sklearn/neural_network/_multilayer_perceptron.py:1770: DataConversionWarning: A column-vector y was passed when a 1d array was expected. Please change the shape of y to (n_samples, ), for example using ravel().\n",
            "  y = column_or_1d(y, warn=True)\n",
            "/home/will/Desktop/postgrad-ai/.venv/lib/python3.11/site-packages/sklearn/neural_network/_multilayer_perceptron.py:1770: DataConversionWarning: A column-vector y was passed when a 1d array was expected. Please change the shape of y to (n_samples, ), for example using ravel().\n",
            "  y = column_or_1d(y, warn=True)\n",
            "/home/will/Desktop/postgrad-ai/.venv/lib/python3.11/site-packages/sklearn/neural_network/_multilayer_perceptron.py:1770: DataConversionWarning: A column-vector y was passed when a 1d array was expected. Please change the shape of y to (n_samples, ), for example using ravel().\n",
            "  y = column_or_1d(y, warn=True)\n",
            "/home/will/Desktop/postgrad-ai/.venv/lib/python3.11/site-packages/sklearn/neural_network/_multilayer_perceptron.py:1770: DataConversionWarning: A column-vector y was passed when a 1d array was expected. Please change the shape of y to (n_samples, ), for example using ravel().\n",
            "  y = column_or_1d(y, warn=True)\n",
            "/home/will/Desktop/postgrad-ai/.venv/lib/python3.11/site-packages/sklearn/neural_network/_multilayer_perceptron.py:1770: DataConversionWarning: A column-vector y was passed when a 1d array was expected. Please change the shape of y to (n_samples, ), for example using ravel().\n",
            "  y = column_or_1d(y, warn=True)\n"
          ]
        },
        {
          "name": "stdout",
          "output_type": "stream",
          "text": [
            "Scores: [0.67193455 0.60581076 0.61940671 0.57067473 0.70251398]\n",
            "Score Mean: 0.6340681462729341\n"
          ]
        }
      ],
      "source": [
        "mlp_reg_cv = MLPRegressor(hidden_layer_sizes=(50), activation='relu', solver='adam', alpha=1e-2,\n",
        "                       max_iter=5000, tol=1e-8, early_stopping=True, epsilon=1e-8,\n",
        "                       learning_rate_init=0.0001, learning_rate='adaptive', random_state=None)\n",
        "\n",
        "scores = cross_val_score(mlp_reg_cv, x, y, cv=5)\n",
        "\n",
        "print(\"Scores: {}\".format(scores))\n",
        "print(\"Score Mean: {}\".format(np.mean(scores)))"
      ]
    }
  ],
  "metadata": {
    "colab": {
      "provenance": []
    },
    "kernelspec": {
      "display_name": ".venv",
      "language": "python",
      "name": "python3"
    },
    "language_info": {
      "codemirror_mode": {
        "name": "ipython",
        "version": 3
      },
      "file_extension": ".py",
      "mimetype": "text/x-python",
      "name": "python",
      "nbconvert_exporter": "python",
      "pygments_lexer": "ipython3",
      "version": "3.11.7"
    }
  },
  "nbformat": 4,
  "nbformat_minor": 0
}
