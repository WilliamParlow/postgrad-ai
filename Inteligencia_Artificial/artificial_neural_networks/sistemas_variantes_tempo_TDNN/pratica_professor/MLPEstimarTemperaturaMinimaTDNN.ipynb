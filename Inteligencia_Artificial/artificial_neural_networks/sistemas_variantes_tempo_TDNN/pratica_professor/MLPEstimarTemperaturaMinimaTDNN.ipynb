{
  "cells": [
    {
      "cell_type": "markdown",
      "metadata": {
        "id": "vOGUyB_R6ZyM"
      },
      "source": [
        "Multi-layer Perceptron Regressor (MLPRegressor) - Exercício - Temperatura Mínima Diária da Cidade de Melbourn Austrália - TDNN (rede neural com retardo de tempo)"
      ]
    },
    {
      "cell_type": "code",
      "execution_count": null,
      "metadata": {
        "colab": {
          "base_uri": "https://localhost:8080/"
        },
        "id": "C91QDW9gkG78",
        "outputId": "d2bb67d6-16fa-43a4-af36-6b8eaf4011a8"
      },
      "outputs": [],
      "source": [
        "from sklearn.model_selection import train_test_split # Biblioteca para separação de amostras para treino e teste, curva de aprendizagem do treinamento e para processar a validação cruzada\n",
        "from sklearn.neural_network import MLPRegressor # Biblioteca para utilização do Regressor MLP\n",
        "from sklearn.preprocessing import MinMaxScaler, StandardScaler # Biblioteca utilizada para normalização dos dados\n",
        "from sklearn.pipeline import Pipeline # Biblioteca para organização de ações em sequência\n",
        "from sklearn import metrics # Biblioteca para avaliação das métricas no modelo\n",
        "import matplotlib.pyplot as plt # Para visualizacao dos dados por meio de gráfico\n",
        "import numpy as np # Biblioteca de manipulação de arrays Numpy\n",
        "import pandas as pd # Biblioteca para manipulação de dados, aqui especificamente para importação e manipulação inicial do dataset"
      ]
    },
    {
      "cell_type": "markdown",
      "metadata": {
        "id": "qmmSDIZMz7NO"
      },
      "source": [
        "Carregamento e Organização Inicial do Dataset"
      ]
    },
    {
      "cell_type": "code",
      "execution_count": null,
      "metadata": {
        "colab": {
          "base_uri": "https://localhost:8080/"
        },
        "id": "bnxvaPD6lREX",
        "outputId": "2f372604-7c3f-43c4-898c-12c30b7c019a"
      },
      "outputs": [],
      "source": [
        "# Caminho do dataset no Google Drive que será carregado em df\n",
        "df = pd.read_csv(\"Daily_minimum_temps.csv\") # Carregamento do dataset via Pandas\n",
        "print(df.head(15))\n",
        "\n",
        "dfNew = pd.DataFrame(columns = ['x-10', 'x-9', 'x-8', 'x-7', 'x-6', 'x-5', 'x-4', 'x-3', 'x-2', 'x-1', 'x']) # Criação de um novo dataframe para reorganizar os dados das amostras baseada no histórico dos 4 últimos preços e o target o próximo\n",
        "\n",
        "dados = df.iloc[:, 1].values # Dados recebe a segunda coluna\n",
        "tam = len(dados) # Recebe a quantidade de amostras\n",
        "\n",
        "for i in range(tam-10): # A subtração de 10 é para não incluir dados vazios nas amostras que serão geradas\n",
        "  # É criado um novo dataframe que receberá os dados atrasados e o target em x para construção das amostras que serão apresentado no treinamento\n",
        "  df_new_row = pd.DataFrame({'x-10': [dados[i]], 'x-9': [dados[i+1]], 'x-8': [dados[i+2]], 'x-7': [dados[i+3]],\n",
        "                             'x-6': [dados[i+4]], 'x-5': [dados[i+5]], 'x-4': [dados[i+6]], 'x-3': [dados[i+7]],\n",
        "                             'x-2': [dados[i+8]], 'x-1': [dados[i+9]],'x': [dados[i+10]]})\n",
        "  # A nova amostra é inserida no dataframe final dfNew\n",
        "  dfNew = pd.concat([dfNew, df_new_row], ignore_index=True)\n",
        "\n",
        "y = dfNew[['x']] # Inclusão da variável x no vetor de saídas desejadas\n",
        "x = dfNew.drop('x', axis=1) # Exclusão da variável x das entradas"
      ]
    },
    {
      "cell_type": "markdown",
      "metadata": {
        "id": "CFS4VE4l2eyt"
      },
      "source": [
        "Pré-Processamento dos Dados"
      ]
    },
    {
      "cell_type": "code",
      "execution_count": null,
      "metadata": {
        "id": "ivGsp6qJ2fQZ"
      },
      "outputs": [],
      "source": [
        "scaler = MinMaxScaler()\n",
        "x = scaler.fit_transform(x)\n",
        "y = scaler.fit_transform(y)\n",
        "\n",
        "trainX, testX, trainY, testY = train_test_split(x, y, test_size=0.30, random_state=None) # Separação do dataset em amostras para treino e teste, considerando 30% dos valores para teste\n",
        "testY = testY.ravel()"
      ]
    },
    {
      "cell_type": "markdown",
      "metadata": {
        "id": "D1yFfD313Xii"
      },
      "source": [
        "Aplicação do MLPRegressor"
      ]
    },
    {
      "cell_type": "code",
      "execution_count": null,
      "metadata": {
        "colab": {
          "base_uri": "https://localhost:8080/",
          "height": 146
        },
        "id": "UF6L0uQg3YPp",
        "outputId": "a8fdeec7-64b7-4a6d-f1e1-4a3b2799c23b"
      },
      "outputs": [],
      "source": [
        "mlp_reg = MLPRegressor(hidden_layer_sizes=(50), activation='relu', solver='adam', alpha = 0.00001,\n",
        "                       max_iter=5000, tol=0.00001, momentum=0.9, early_stopping=True, epsilon=1e-06,\n",
        "                       learning_rate_init = 0.001, learning_rate = 'constant')\n",
        "\n",
        "# Execução do treinamento da RNA, no primeiro parâmetro são os dados de entrada e no segundo parâmetro são os dados de saída\n",
        "mlp_reg.fit(trainX, trainY)"
      ]
    },
    {
      "cell_type": "markdown",
      "metadata": {
        "id": "k-XzvFPB3mfP"
      },
      "source": [
        "Avaliação do Modelo"
      ]
    },
    {
      "cell_type": "code",
      "execution_count": null,
      "metadata": {
        "colab": {
          "base_uri": "https://localhost:8080/",
          "height": 526
        },
        "id": "p9P0zhm73o_F",
        "outputId": "6caf3972-b1d4-400f-b5e5-6c59ba6ba305"
      },
      "outputs": [],
      "source": [
        "# predict() executa a predição das saídas baseado no modelo treinado no passo anterior com dados não apresentados no treinamento da RNA\n",
        "y_pred = mlp_reg.predict(testX)\n",
        "\n",
        "df_temp = pd.DataFrame({'Desejado': testY, 'Estimado': y_pred}) # Criação de um dataframe com os dados desejados e os estimados na predição\n",
        "df_temp = df_temp.head(60) # Armazena a quantidade de elementos a serem apresentados no gráfico, pois pode ser visualmente difícil de abstrair caso tenham muitas informações\n",
        "df_temp.plot(kind='bar',figsize=(10,6)) # Configuração do tipo de gráfico 'bar' e tamanho da figura\n",
        "plt.grid(which='major', linestyle='-', linewidth='0.5', color='gray') # Configuração do grid do gráfico\n",
        "plt.grid(which='minor', linestyle=':', linewidth='0.5', color='blue') # Configuração do grid do gráfico\n",
        "plt.show() # Apresenta o gráfico comparando o desejado e o estimado pelo modelo neural"
      ]
    },
    {
      "cell_type": "markdown",
      "metadata": {
        "id": "VBLJKTiQ6x5D"
      },
      "source": [
        "Avaliação do Erro no Processo de Treinamento"
      ]
    },
    {
      "cell_type": "code",
      "execution_count": null,
      "metadata": {
        "colab": {
          "base_uri": "https://localhost:8080/",
          "height": 475
        },
        "id": "9p9iS0dv6yHk",
        "outputId": "4945d55d-8d35-4dd3-de32-3de1909f3c41"
      },
      "outputs": [],
      "source": [
        "plt.plot(mlp_reg.loss_curve_) # Plotando o gráfico de erros no processo de treinamento - o loss_curve_ só funciona com o adam\n",
        "plt.title(\"Curva de Perda no Treinamento\", fontsize=14)\n",
        "plt.xlabel('Épocas')\n",
        "plt.ylabel('Custo')\n",
        "plt.show()"
      ]
    },
    {
      "cell_type": "markdown",
      "metadata": {
        "id": "KcHrj3pPDexi"
      },
      "source": [
        "Resumo das Métricas\n",
        "Links de Referência:\n",
        "- https://michael-fuchs-python.netlify.app/2019/06/30/metrics-for-regression-analysis/\n",
        "- https://medium.com/turing-talks/como-avaliar-seu-modelo-de-regress%C3%A3o-c2c8d73dab96"
      ]
    },
    {
      "cell_type": "code",
      "execution_count": null,
      "metadata": {
        "colab": {
          "base_uri": "https://localhost:8080/"
        },
        "id": "KbdxFWI7DfXL",
        "outputId": "70238647-dc8f-4565-e4ec-c65693f7305e"
      },
      "outputs": [],
      "source": [
        "print('Epochs: ', mlp_reg.n_iter_)\n",
        "print('Loss: ', mlp_reg.loss_)\n",
        "print('Mean Absolute Error (MAE): ', metrics.mean_absolute_error(testY, y_pred)) # Variação de 0 ao infinito. Quanto menor, melhor.\n",
        "print('Mean Squared Error (MSE): ', metrics.mean_squared_error(testY, y_pred)) # Variação de 0 ao infinito. Quanto menor, melhor.\n",
        "print('Root Mean Squared Error (RMSE): ', metrics.mean_squared_error(testY, y_pred, squared=False)) # Variação de 0 ao infinito. Quanto menor, melhor.\n",
        "print('R2 Score: ', metrics.r2_score(testY, y_pred)) # Apresenta em porcentagem de erros em relação ao desejado."
      ]
    },
    {
      "cell_type": "markdown",
      "metadata": {
        "id": "VrGnSLdt77hd"
      },
      "source": [
        "Sintonizador dos melhores Hiperparâmetros"
      ]
    },
    {
      "cell_type": "code",
      "execution_count": null,
      "metadata": {
        "id": "2UhIjCuv78Jr"
      },
      "outputs": [],
      "source": [
        "from sklearn.model_selection import GridSearchCV\n",
        "param_grid = {\n",
        "    'hidden_layer_sizes': [(50), (100), (150)],\n",
        "    'max_iter': [2000, 5000],\n",
        "    'activation': ['tanh', 'relu'],\n",
        "    'solver': [ 'adam', 'lbfgs'],\n",
        "    'alpha': [0.01, 0.001],\n",
        "    'learning_rate': ['constant','adaptive'],\n",
        "}\n",
        "\n",
        "grid = GridSearchCV(mlp_reg, param_grid, cv=5)\n",
        "grid.fit(x, y.ravel())\n",
        "\n",
        "print(grid.best_params_)\n",
        "\n",
        "grid_predictions = grid.predict(testX)\n",
        "df_temp2 = pd.DataFrame({'Actual': testY, 'Predicted': grid_predictions})\n",
        "df_temp2.head()\n",
        "\n",
        "df_temp2 = df_temp2.head(30)\n",
        "df_temp2.plot(kind='bar',figsize=(10,6))\n",
        "plt.grid(which='major', linestyle='-', linewidth='0.5', color='green')\n",
        "plt.grid(which='minor', linestyle=':', linewidth='0.5', color='black')\n",
        "plt.show()"
      ]
    }
  ],
  "metadata": {
    "colab": {
      "provenance": []
    },
    "kernelspec": {
      "display_name": ".venv",
      "language": "python",
      "name": "python3"
    },
    "language_info": {
      "codemirror_mode": {
        "name": "ipython",
        "version": 3
      },
      "file_extension": ".py",
      "mimetype": "text/x-python",
      "name": "python",
      "nbconvert_exporter": "python",
      "pygments_lexer": "ipython3",
      "version": "3.11.7"
    }
  },
  "nbformat": 4,
  "nbformat_minor": 0
}
