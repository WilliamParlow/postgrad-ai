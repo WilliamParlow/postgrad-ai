{
 "cells": [
  {
   "cell_type": "markdown",
   "id": "9ffac3f7",
   "metadata": {},
   "source": [
    "# RNA - Mapas Auto-organizáveis (SOM - Self-Organizing Map)\n",
    "\n",
    "Link para estudo:\n",
    "\n",
    "- https://medium.com/machine-learning-researcher/self-organizing-map-som-c296561e2117\n",
    "\n",
    "Sugestão de prática:\n",
    "\n",
    "- Com base no tutorial apresentado no link acima, implementar o exemplo proposto."
   ]
  }
 ],
 "metadata": {
  "language_info": {
   "name": "python"
  }
 },
 "nbformat": 4,
 "nbformat_minor": 5
}
