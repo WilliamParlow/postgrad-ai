{
 "cells": [
  {
   "cell_type": "markdown",
   "id": "ed9eaeae",
   "metadata": {},
   "source": [
    "### Desafio - Bloco 3 - Classificação Diabetes\n",
    "\n",
    "Baseado no exemplo prático deste bloco com a implementação do algoritmo MLPClassifier utilizando o Sklearn Python, crie um modelo neural para classificação da incidência de Diabetes baseado em características definidas no dataset, em anexo. Note que o dataset possui muitas particularidades. Há amostras com variáveis zeradas e isso pode ser um problema no treinamento e testes. Outro detalhe que precisa ser observado é a correlação entre variáveis, que muitas vezes se apresentam baixas (boas correlações devem se apresentar acima de 0,8). Outros detalhes podem ser observados, como a distribuição entre 2 variáveis distintas, podendo inferir em alguma informação importante na definição do modelo. O desafio é construir um modelo neural de classificação (MLPClassifier) que apresente um resultado satisfatório. Para isso, a definição da quantidade de neurônio na camada oculta e a quantidade de camadas, além da função de ativação e épocas de treinamento podem influenciar nos resultados.\n",
    "\n",
    "Fonte do dataset com explicações sobre as variáveis: https://www.kaggle.com/datasets/mathchi/diabetes-data-set"
   ]
  }
 ],
 "metadata": {
  "language_info": {
   "name": "python"
  }
 },
 "nbformat": 4,
 "nbformat_minor": 5
}
