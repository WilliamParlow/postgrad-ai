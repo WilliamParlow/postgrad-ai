{
 "cells": [
  {
   "cell_type": "markdown",
   "id": "994c1a6f",
   "metadata": {},
   "source": [
    "### Desafio 2 - Exercício prático com SGDClassifier\n",
    "\n",
    "Executar o exercício prático das Válvulas (anexo) utilizando o SGDClassifier do Sklearn para obtenção dos resultados de classificação. \n",
    "\n",
    "Link da documentação: https://scikit-learn.org/stable/modules/generated/sklearn.linear_model.SGDClassifier.html"
   ]
  },
  {
   "cell_type": "code",
   "execution_count": 1,
   "id": "3ee87b21",
   "metadata": {},
   "outputs": [],
   "source": [
    "from sklearn import preprocessing # biblioteca para suporte ao pré-processamento\n",
    "from sklearn.model_selection import cross_val_score # biblioteca para separação de amostras para treino e teste\n",
    "from sklearn.linear_model import SGDClassifier # biblioteca com funções para a execução da RNA SGDClassifier\n",
    "from sklearn.metrics import accuracy_score, classification_report, confusion_matrix, ConfusionMatrixDisplay\n",
    "from sklearn import metrics # biblioteca para obtenção de métricas para avaliação dos modelos\n",
    "import matplotlib.pyplot as plt # biblioteca para plotar gráfico\n",
    "import numpy as np\n",
    "import pandas as pd"
   ]
  },
  {
   "cell_type": "code",
   "execution_count": 2,
   "id": "cf637ef6",
   "metadata": {},
   "outputs": [
    {
     "data": {
      "application/vnd.microsoft.datawrangler.viewer.v0+json": {
       "columns": [
        {
         "name": "index",
         "rawType": "object",
         "type": "string"
        },
        {
         "name": "0.4329",
         "rawType": "float64",
         "type": "float"
        },
        {
         "name": "-1.3719",
         "rawType": "float64",
         "type": "float"
        },
        {
         "name": "0.7022",
         "rawType": "float64",
         "type": "float"
        },
        {
         "name": "-0.8535",
         "rawType": "float64",
         "type": "float"
        },
        {
         "name": "1.0000",
         "rawType": "float64",
         "type": "float"
        }
       ],
       "ref": "98f81863-dc26-4c2f-bf49-475ace755cd3",
       "rows": [
        [
         "count",
         "34.0",
         "34.0",
         "34.0",
         "34.0",
         "34.0"
        ],
        [
         "mean",
         "0.4524882352941177",
         "-0.09545000000000001",
         "0.4702147058823529",
         "1.7691911764705883",
         "-0.058823529411764705"
        ],
        [
         "std",
         "0.506778966082313",
         "1.17412844252469",
         "0.3228007868004689",
         "1.8119960514653024",
         "1.0132807942097979"
        ],
        [
         "min",
         "-0.5231",
         "-3.2329",
         "-0.2291",
         "-2.4572",
         "-1.0"
        ],
        [
         "25%",
         "0.138175",
         "-0.795075",
         "0.27015",
         "0.8232",
         "-1.0"
        ],
        [
         "50%",
         "0.4378",
         "0.042050000000000004",
         "0.4621",
         "1.5629499999999998",
         "-1.0"
        ],
        [
         "75%",
         "0.73245",
         "0.66915",
         "0.7256",
         "2.871025",
         "1.0"
        ],
        [
         "max",
         "1.4276",
         "2.1479",
         "1.053",
         "5.8235",
         "1.0"
        ]
       ],
       "shape": {
        "columns": 5,
        "rows": 8
       }
      },
      "text/html": [
       "<div>\n",
       "<style scoped>\n",
       "    .dataframe tbody tr th:only-of-type {\n",
       "        vertical-align: middle;\n",
       "    }\n",
       "\n",
       "    .dataframe tbody tr th {\n",
       "        vertical-align: top;\n",
       "    }\n",
       "\n",
       "    .dataframe thead th {\n",
       "        text-align: right;\n",
       "    }\n",
       "</style>\n",
       "<table border=\"1\" class=\"dataframe\">\n",
       "  <thead>\n",
       "    <tr style=\"text-align: right;\">\n",
       "      <th></th>\n",
       "      <th>0.4329</th>\n",
       "      <th>-1.3719</th>\n",
       "      <th>0.7022</th>\n",
       "      <th>-0.8535</th>\n",
       "      <th>1.0000</th>\n",
       "    </tr>\n",
       "  </thead>\n",
       "  <tbody>\n",
       "    <tr>\n",
       "      <th>count</th>\n",
       "      <td>34.000000</td>\n",
       "      <td>34.000000</td>\n",
       "      <td>34.000000</td>\n",
       "      <td>34.000000</td>\n",
       "      <td>34.000000</td>\n",
       "    </tr>\n",
       "    <tr>\n",
       "      <th>mean</th>\n",
       "      <td>0.452488</td>\n",
       "      <td>-0.095450</td>\n",
       "      <td>0.470215</td>\n",
       "      <td>1.769191</td>\n",
       "      <td>-0.058824</td>\n",
       "    </tr>\n",
       "    <tr>\n",
       "      <th>std</th>\n",
       "      <td>0.506779</td>\n",
       "      <td>1.174128</td>\n",
       "      <td>0.322801</td>\n",
       "      <td>1.811996</td>\n",
       "      <td>1.013281</td>\n",
       "    </tr>\n",
       "    <tr>\n",
       "      <th>min</th>\n",
       "      <td>-0.523100</td>\n",
       "      <td>-3.232900</td>\n",
       "      <td>-0.229100</td>\n",
       "      <td>-2.457200</td>\n",
       "      <td>-1.000000</td>\n",
       "    </tr>\n",
       "    <tr>\n",
       "      <th>25%</th>\n",
       "      <td>0.138175</td>\n",
       "      <td>-0.795075</td>\n",
       "      <td>0.270150</td>\n",
       "      <td>0.823200</td>\n",
       "      <td>-1.000000</td>\n",
       "    </tr>\n",
       "    <tr>\n",
       "      <th>50%</th>\n",
       "      <td>0.437800</td>\n",
       "      <td>0.042050</td>\n",
       "      <td>0.462100</td>\n",
       "      <td>1.562950</td>\n",
       "      <td>-1.000000</td>\n",
       "    </tr>\n",
       "    <tr>\n",
       "      <th>75%</th>\n",
       "      <td>0.732450</td>\n",
       "      <td>0.669150</td>\n",
       "      <td>0.725600</td>\n",
       "      <td>2.871025</td>\n",
       "      <td>1.000000</td>\n",
       "    </tr>\n",
       "    <tr>\n",
       "      <th>max</th>\n",
       "      <td>1.427600</td>\n",
       "      <td>2.147900</td>\n",
       "      <td>1.053000</td>\n",
       "      <td>5.823500</td>\n",
       "      <td>1.000000</td>\n",
       "    </tr>\n",
       "  </tbody>\n",
       "</table>\n",
       "</div>"
      ],
      "text/plain": [
       "          0.4329    -1.3719     0.7022    -0.8535     1.0000\n",
       "count  34.000000  34.000000  34.000000  34.000000  34.000000\n",
       "mean    0.452488  -0.095450   0.470215   1.769191  -0.058824\n",
       "std     0.506779   1.174128   0.322801   1.811996   1.013281\n",
       "min    -0.523100  -3.232900  -0.229100  -2.457200  -1.000000\n",
       "25%     0.138175  -0.795075   0.270150   0.823200  -1.000000\n",
       "50%     0.437800   0.042050   0.462100   1.562950  -1.000000\n",
       "75%     0.732450   0.669150   0.725600   2.871025   1.000000\n",
       "max     1.427600   2.147900   1.053000   5.823500   1.000000"
      ]
     },
     "execution_count": 2,
     "metadata": {},
     "output_type": "execute_result"
    }
   ],
   "source": [
    "df = pd.read_csv('valvulas.csv')\n",
    "df_test = pd.read_csv('valvulasTestes.csv')\n",
    "df.describe()"
   ]
  },
  {
   "cell_type": "code",
   "execution_count": 3,
   "id": "b0f34ea2",
   "metadata": {},
   "outputs": [
    {
     "data": {
      "application/vnd.microsoft.datawrangler.viewer.v0+json": {
       "columns": [
        {
         "name": "index",
         "rawType": "object",
         "type": "string"
        },
        {
         "name": "0.9694",
         "rawType": "float64",
         "type": "float"
        },
        {
         "name": "0.6909",
         "rawType": "float64",
         "type": "float"
        },
        {
         "name": "0.4334",
         "rawType": "float64",
         "type": "float"
        },
        {
         "name": "3.4965",
         "rawType": "float64",
         "type": "float"
        },
        {
         "name": "-1",
         "rawType": "float64",
         "type": "float"
        }
       ],
       "ref": "e5f9297c-7795-49ac-ae79-7c8ea482595f",
       "rows": [
        [
         "count",
         "14.0",
         "14.0",
         "14.0",
         "14.0",
         "14.0"
        ],
        [
         "mean",
         "0.5026642857142857",
         "0.5377642857142856",
         "0.6595928571428572",
         "2.4147214285714287",
         "0.0"
        ],
        [
         "std",
         "0.49247549038137284",
         "1.452559060950518",
         "0.25540581423502273",
         "1.75421882030307",
         "1.0377490433255416"
        ],
        [
         "min",
         "-0.1874",
         "-2.0656",
         "0.203",
         "-0.6585",
         "-1.0"
        ],
        [
         "25%",
         "0.234675",
         "-0.49737499999999996",
         "0.551175",
         "0.879575",
         "-1.0"
        ],
        [
         "50%",
         "0.49755",
         "0.7822",
         "0.6257",
         "3.1153",
         "0.0"
        ],
        [
         "75%",
         "0.59175",
         "1.33365",
         "0.880075",
         "3.63635",
         "1.0"
        ],
        [
         "max",
         "1.6375",
         "3.5369",
         "1.0359",
         "5.3532",
         "1.0"
        ]
       ],
       "shape": {
        "columns": 5,
        "rows": 8
       }
      },
      "text/html": [
       "<div>\n",
       "<style scoped>\n",
       "    .dataframe tbody tr th:only-of-type {\n",
       "        vertical-align: middle;\n",
       "    }\n",
       "\n",
       "    .dataframe tbody tr th {\n",
       "        vertical-align: top;\n",
       "    }\n",
       "\n",
       "    .dataframe thead th {\n",
       "        text-align: right;\n",
       "    }\n",
       "</style>\n",
       "<table border=\"1\" class=\"dataframe\">\n",
       "  <thead>\n",
       "    <tr style=\"text-align: right;\">\n",
       "      <th></th>\n",
       "      <th>0.9694</th>\n",
       "      <th>0.6909</th>\n",
       "      <th>0.4334</th>\n",
       "      <th>3.4965</th>\n",
       "      <th>-1</th>\n",
       "    </tr>\n",
       "  </thead>\n",
       "  <tbody>\n",
       "    <tr>\n",
       "      <th>count</th>\n",
       "      <td>14.000000</td>\n",
       "      <td>14.000000</td>\n",
       "      <td>14.000000</td>\n",
       "      <td>14.000000</td>\n",
       "      <td>14.000000</td>\n",
       "    </tr>\n",
       "    <tr>\n",
       "      <th>mean</th>\n",
       "      <td>0.502664</td>\n",
       "      <td>0.537764</td>\n",
       "      <td>0.659593</td>\n",
       "      <td>2.414721</td>\n",
       "      <td>0.000000</td>\n",
       "    </tr>\n",
       "    <tr>\n",
       "      <th>std</th>\n",
       "      <td>0.492475</td>\n",
       "      <td>1.452559</td>\n",
       "      <td>0.255406</td>\n",
       "      <td>1.754219</td>\n",
       "      <td>1.037749</td>\n",
       "    </tr>\n",
       "    <tr>\n",
       "      <th>min</th>\n",
       "      <td>-0.187400</td>\n",
       "      <td>-2.065600</td>\n",
       "      <td>0.203000</td>\n",
       "      <td>-0.658500</td>\n",
       "      <td>-1.000000</td>\n",
       "    </tr>\n",
       "    <tr>\n",
       "      <th>25%</th>\n",
       "      <td>0.234675</td>\n",
       "      <td>-0.497375</td>\n",
       "      <td>0.551175</td>\n",
       "      <td>0.879575</td>\n",
       "      <td>-1.000000</td>\n",
       "    </tr>\n",
       "    <tr>\n",
       "      <th>50%</th>\n",
       "      <td>0.497550</td>\n",
       "      <td>0.782200</td>\n",
       "      <td>0.625700</td>\n",
       "      <td>3.115300</td>\n",
       "      <td>0.000000</td>\n",
       "    </tr>\n",
       "    <tr>\n",
       "      <th>75%</th>\n",
       "      <td>0.591750</td>\n",
       "      <td>1.333650</td>\n",
       "      <td>0.880075</td>\n",
       "      <td>3.636350</td>\n",
       "      <td>1.000000</td>\n",
       "    </tr>\n",
       "    <tr>\n",
       "      <th>max</th>\n",
       "      <td>1.637500</td>\n",
       "      <td>3.536900</td>\n",
       "      <td>1.035900</td>\n",
       "      <td>5.353200</td>\n",
       "      <td>1.000000</td>\n",
       "    </tr>\n",
       "  </tbody>\n",
       "</table>\n",
       "</div>"
      ],
      "text/plain": [
       "          0.9694     0.6909     0.4334     3.4965         -1\n",
       "count  14.000000  14.000000  14.000000  14.000000  14.000000\n",
       "mean    0.502664   0.537764   0.659593   2.414721   0.000000\n",
       "std     0.492475   1.452559   0.255406   1.754219   1.037749\n",
       "min    -0.187400  -2.065600   0.203000  -0.658500  -1.000000\n",
       "25%     0.234675  -0.497375   0.551175   0.879575  -1.000000\n",
       "50%     0.497550   0.782200   0.625700   3.115300   0.000000\n",
       "75%     0.591750   1.333650   0.880075   3.636350   1.000000\n",
       "max     1.637500   3.536900   1.035900   5.353200   1.000000"
      ]
     },
     "execution_count": 3,
     "metadata": {},
     "output_type": "execute_result"
    }
   ],
   "source": [
    "df_test.describe()"
   ]
  },
  {
   "cell_type": "code",
   "execution_count": 7,
   "id": "5b3f3521",
   "metadata": {},
   "outputs": [],
   "source": [
    "x_train = df.iloc[:, range(0,4)].values\n",
    "y_train = df.iloc[:, [4]].values"
   ]
  },
  {
   "cell_type": "code",
   "execution_count": 6,
   "id": "d9e5749b",
   "metadata": {},
   "outputs": [],
   "source": [
    "x_test = df_test.iloc[:, range(0,4)].values\n",
    "y_test = df_test.iloc[:, [4]].values"
   ]
  },
  {
   "cell_type": "markdown",
   "id": "ee9e4dd0",
   "metadata": {},
   "source": [
    "### MinMaxScaler"
   ]
  },
  {
   "cell_type": "code",
   "execution_count": 8,
   "id": "456b5a72",
   "metadata": {},
   "outputs": [],
   "source": [
    "scaler = preprocessing.MinMaxScaler()\n",
    "x_train = scaler.fit_transform(x_train)\n",
    "x_test = scaler.fit_transform(x_test)"
   ]
  },
  {
   "cell_type": "code",
   "execution_count": 214,
   "id": "bc52900f",
   "metadata": {},
   "outputs": [
    {
     "name": "stderr",
     "output_type": "stream",
     "text": [
      "/home/will/Desktop/postgrad-ai/.venv/lib/python3.11/site-packages/sklearn/utils/validation.py:1406: DataConversionWarning: A column-vector y was passed when a 1d array was expected. Please change the shape of y to (n_samples, ), for example using ravel().\n",
      "  y = column_or_1d(y, warn=True)\n",
      "/home/will/Desktop/postgrad-ai/.venv/lib/python3.11/site-packages/sklearn/utils/validation.py:1406: DataConversionWarning: A column-vector y was passed when a 1d array was expected. Please change the shape of y to (n_samples, ), for example using ravel().\n",
      "  y = column_or_1d(y, warn=True)\n",
      "/home/will/Desktop/postgrad-ai/.venv/lib/python3.11/site-packages/sklearn/utils/validation.py:1406: DataConversionWarning: A column-vector y was passed when a 1d array was expected. Please change the shape of y to (n_samples, ), for example using ravel().\n",
      "  y = column_or_1d(y, warn=True)\n",
      "/home/will/Desktop/postgrad-ai/.venv/lib/python3.11/site-packages/sklearn/utils/validation.py:1406: DataConversionWarning: A column-vector y was passed when a 1d array was expected. Please change the shape of y to (n_samples, ), for example using ravel().\n",
      "  y = column_or_1d(y, warn=True)\n",
      "/home/will/Desktop/postgrad-ai/.venv/lib/python3.11/site-packages/sklearn/utils/validation.py:1406: DataConversionWarning: A column-vector y was passed when a 1d array was expected. Please change the shape of y to (n_samples, ), for example using ravel().\n",
      "  y = column_or_1d(y, warn=True)\n",
      "/home/will/Desktop/postgrad-ai/.venv/lib/python3.11/site-packages/sklearn/utils/validation.py:1406: DataConversionWarning: A column-vector y was passed when a 1d array was expected. Please change the shape of y to (n_samples, ), for example using ravel().\n",
      "  y = column_or_1d(y, warn=True)\n",
      "/home/will/Desktop/postgrad-ai/.venv/lib/python3.11/site-packages/sklearn/utils/validation.py:1406: DataConversionWarning: A column-vector y was passed when a 1d array was expected. Please change the shape of y to (n_samples, ), for example using ravel().\n",
      "  y = column_or_1d(y, warn=True)\n",
      "/home/will/Desktop/postgrad-ai/.venv/lib/python3.11/site-packages/sklearn/utils/validation.py:1406: DataConversionWarning: A column-vector y was passed when a 1d array was expected. Please change the shape of y to (n_samples, ), for example using ravel().\n",
      "  y = column_or_1d(y, warn=True)\n",
      "/home/will/Desktop/postgrad-ai/.venv/lib/python3.11/site-packages/sklearn/utils/validation.py:1406: DataConversionWarning: A column-vector y was passed when a 1d array was expected. Please change the shape of y to (n_samples, ), for example using ravel().\n",
      "  y = column_or_1d(y, warn=True)\n",
      "/home/will/Desktop/postgrad-ai/.venv/lib/python3.11/site-packages/sklearn/utils/validation.py:1406: DataConversionWarning: A column-vector y was passed when a 1d array was expected. Please change the shape of y to (n_samples, ), for example using ravel().\n",
      "  y = column_or_1d(y, warn=True)\n",
      "/home/will/Desktop/postgrad-ai/.venv/lib/python3.11/site-packages/sklearn/utils/validation.py:1406: DataConversionWarning: A column-vector y was passed when a 1d array was expected. Please change the shape of y to (n_samples, ), for example using ravel().\n",
      "  y = column_or_1d(y, warn=True)\n",
      "/home/will/Desktop/postgrad-ai/.venv/lib/python3.11/site-packages/sklearn/utils/validation.py:1406: DataConversionWarning: A column-vector y was passed when a 1d array was expected. Please change the shape of y to (n_samples, ), for example using ravel().\n",
      "  y = column_or_1d(y, warn=True)\n",
      "/home/will/Desktop/postgrad-ai/.venv/lib/python3.11/site-packages/sklearn/utils/validation.py:1406: DataConversionWarning: A column-vector y was passed when a 1d array was expected. Please change the shape of y to (n_samples, ), for example using ravel().\n",
      "  y = column_or_1d(y, warn=True)\n",
      "/home/will/Desktop/postgrad-ai/.venv/lib/python3.11/site-packages/sklearn/utils/validation.py:1406: DataConversionWarning: A column-vector y was passed when a 1d array was expected. Please change the shape of y to (n_samples, ), for example using ravel().\n",
      "  y = column_or_1d(y, warn=True)\n",
      "/home/will/Desktop/postgrad-ai/.venv/lib/python3.11/site-packages/sklearn/utils/validation.py:1406: DataConversionWarning: A column-vector y was passed when a 1d array was expected. Please change the shape of y to (n_samples, ), for example using ravel().\n",
      "  y = column_or_1d(y, warn=True)\n",
      "/home/will/Desktop/postgrad-ai/.venv/lib/python3.11/site-packages/sklearn/utils/validation.py:1406: DataConversionWarning: A column-vector y was passed when a 1d array was expected. Please change the shape of y to (n_samples, ), for example using ravel().\n",
      "  y = column_or_1d(y, warn=True)\n",
      "/home/will/Desktop/postgrad-ai/.venv/lib/python3.11/site-packages/sklearn/utils/validation.py:1406: DataConversionWarning: A column-vector y was passed when a 1d array was expected. Please change the shape of y to (n_samples, ), for example using ravel().\n",
      "  y = column_or_1d(y, warn=True)\n"
     ]
    },
    {
     "name": "stdout",
     "output_type": "stream",
     "text": [
      "Resultados da validação cruzada do conjunto completo de dados:\n",
      "[1.         0.66666667 0.5        1.         0.5        1.\n",
      " 1.         1.         1.         1.         1.         0.5\n",
      " 1.         1.         1.         1.        ]\n",
      "Média:  0.8854166666666666\n",
      "Desvio Padrão:  0.20171788261496965\n",
      "\n",
      "Processo de fit do modelo\n",
      "\n",
      "Iterações:  33\n",
      "\n",
      "MÉTRICAS DA CLASSIFICAÇÃO\n",
      "Acurácia das amostras na classificação não apresentadas no treinamento: 0.6428571428571429\n",
      "Matriz de confusão das amostras não apresentadas no treinamento:\n",
      " [[7 0]\n",
      " [5 2]]\n",
      "\n",
      "Relatório de classificação das amostras não apresentadas no treinamento:\n",
      "              precision    recall  f1-score   support\n",
      "\n",
      "          -1       0.58      1.00      0.74         7\n",
      "           1       1.00      0.29      0.44         7\n",
      "\n",
      "    accuracy                           0.64        14\n",
      "   macro avg       0.79      0.64      0.59        14\n",
      "weighted avg       0.79      0.64      0.59        14\n",
      "\n"
     ]
    },
    {
     "data": {
      "image/png": "[encoded data removed]",
      "text/plain": [
       "<Figure size 640x480 with 2 Axes>"
      ]
     },
     "metadata": {},
     "output_type": "display_data"
    }
   ],
   "source": [
    "sgdc = SGDClassifier(max_iter=5000, tol=0.000001, alpha=0.00001, learning_rate='adaptive', penalty='elasticnet', eta0=0.0001, loss='perceptron')\n",
    "scores = cross_val_score(sgdc, x_train, y_train, cv=16)\n",
    "print(\"Resultados da validação cruzada do conjunto completo de dados:\")\n",
    "print(scores)\n",
    "print(\"Média: \", np.mean(scores))\n",
    "print(\"Desvio Padrão: \", np.std(scores))\n",
    "\n",
    "print(\"\\nProcesso de fit do modelo\\n\")\n",
    "sgdc.fit(x_train, y_train)\n",
    "print(\"Iterações: \", sgdc.n_iter_)\n",
    "y_pred = sgdc.predict(x_test)\n",
    "\n",
    "print(\"\\nMÉTRICAS DA CLASSIFICAÇÃO\")\n",
    "# Todas as métricas do sklearn.metrics para classificação https://scikit-learn.org/stable/modules/model_evaluation.html#classification-metrics\n",
    "print(f\"Acurácia das amostras na classificação não apresentadas no treinamento: {accuracy_score(y_test, y_pred)}\")\n",
    "print(f\"Matriz de confusão das amostras não apresentadas no treinamento:\\n {confusion_matrix(y_test, y_pred)}\")\n",
    "\n",
    "print(\"\")\n",
    "\n",
    "relatorio = classification_report(y_test, y_pred)\n",
    "print(\"Relatório de classificação das amostras não apresentadas no treinamento:\")\n",
    "print(relatorio)\n",
    "\n",
    "conf_matrix = confusion_matrix(y_test, y_pred)\n",
    "cm_display = ConfusionMatrixDisplay(confusion_matrix = conf_matrix)\n",
    "cm_display.plot()\n",
    "plt.show()"
   ]
  }
 ],
 "metadata": {
  "kernelspec": {
   "display_name": ".venv",
   "language": "python",
   "name": "python3"
  },
  "language_info": {
   "codemirror_mode": {
    "name": "ipython",
    "version": 3
   },
   "file_extension": ".py",
   "mimetype": "text/x-python",
   "name": "python",
   "nbconvert_exporter": "python",
   "pygments_lexer": "ipython3",
   "version": "3.11.7"
  }
 },
 "nbformat": 4,
 "nbformat_minor": 5
}
