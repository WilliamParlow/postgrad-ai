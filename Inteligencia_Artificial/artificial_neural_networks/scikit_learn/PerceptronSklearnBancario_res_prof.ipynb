{
  "cells": [
    {
      "cell_type": "code",
      "execution_count": null,
      "metadata": {
        "colab": {
          "base_uri": "https://localhost:8080/"
        },
        "id": "w82LaFK9GtEE",
        "outputId": "db67310c-61c6-4e26-8dd8-2e54b60d7e38"
      },
      "outputs": [],
      "source": [
        "from sklearn import preprocessing # biblioteca para suporte ao pré-processamento\n",
        "from sklearn.model_selection import train_test_split # biblioteca para separação de amostras para treino e teste\n",
        "from sklearn.linear_model import Perceptron # biblioteca com funções para a execução da RNA Perceptron\n",
        "from sklearn.metrics import accuracy_score, classification_report, confusion_matrix # métricas para avaliação dos modelos\n",
        "from sklearn import metrics # biblioteca para obtenção de métricas para avaliação dos modelos\n",
        "import matplotlib.pyplot as plt # biblioteca para plotar gráfico\n",
        "import numpy as np\n",
        "import pandas as pd\n",
        "import random # biblioteca aplicada na geração de números randômicos\n",
        "from google.colab import drive # Montando o Google Drive na mesma conta do Google Colab\n",
        "drive.mount('/content/drive')"
      ]
    },
    {
      "cell_type": "code",
      "execution_count": null,
      "metadata": {
        "colab": {
          "base_uri": "https://localhost:8080/",
          "height": 576
        },
        "id": "00nwoEMaHXPr",
        "outputId": "5ccca3c9-bd23-4763-ea58-878d42909b00"
      },
      "outputs": [],
      "source": [
        "# Caminho do dataset no Google Drive que será carregado em df\n",
        "df = pd.read_csv(\"/content/drive/MyDrive/RNA_Datasets/bancario.csv\")\n",
        "\n",
        "print(df.head())\n",
        "\n",
        "# separando a coluna da classe das 100 primeiras amostras do dataset\n",
        "y = df.iloc[1:,3].values\n",
        "\n",
        "# substituindo o valor string em numérico, baseado no que determina a função de ativação\n",
        "y = np.where(y == 'mau', -1, 1)\n",
        "\n",
        "# separando as colunas de entrada\n",
        "X = df.iloc[1:,[1,2]].values\n",
        "\n",
        "# Variáveis que armazenam os valores máximos para normalização manual na validação individual\n",
        "maxXRenda = X[1:,0].max()\n",
        "maxXDivida = X[1:,1].max()\n",
        "\n",
        "# normalização dos dados sklearn - dados entre 0 e 1 - https://pt.linux-console.net/?p=5847\n",
        "scaler = preprocessing.MinMaxScaler()\n",
        "X = scaler.fit_transform(X)\n",
        "\n",
        "# plotando o gráfico para verificação se as amostras são linearmente separáveis\n",
        "plt.scatter(X[:,0],X[:,1],c=y)\n",
        "plt.title(\"Renda x Dívida\" )\n",
        "plt.xlabel('Renda')\n",
        "plt.ylabel('Dívida')\n",
        "plt.show\n",
        "\n",
        "# separação do dataset em amostras para treino e teste, considerando 30% dos valores para teste\n",
        "X_train, X_test, y_train, y_test = train_test_split(X, y, test_size=0.30, random_state=12)"
      ]
    },
    {
      "cell_type": "code",
      "execution_count": null,
      "metadata": {
        "colab": {
          "base_uri": "https://localhost:8080/",
          "height": 74
        },
        "id": "3Lhi2XF51-KR",
        "outputId": "ecc9a08d-5d3b-4eef-efb9-9a59ad58d115"
      },
      "outputs": [],
      "source": [
        "p = Perceptron(max_iter=100, alpha=0.01, n_iter_no_change=10) # Criação do objeto Perceptron\n",
        "p.fit(X_train, y_train) # Treinamento da Perceptron"
      ]
    },
    {
      "cell_type": "code",
      "execution_count": null,
      "metadata": {
        "colab": {
          "base_uri": "https://localhost:8080/",
          "height": 701
        },
        "id": "xULpsnYspzhZ",
        "outputId": "f69cbaa6-494b-4428-cf01-50402bd18ef9"
      },
      "outputs": [],
      "source": [
        "predictions_train = p.predict(X_train) # validação do conjunto de amostras treinadas\n",
        "predictions_test = p.predict(X_test) # validação do conjunto de amostras que não participaram do treinamento\n",
        "train_score = accuracy_score(predictions_train, y_train) # avaliação de acurácia da classificação das amostras que foram apresentadas no treinamento\n",
        "print(\"Acurácia com dados de treinamento: \", train_score)\n",
        "test_score = accuracy_score(predictions_test, y_test) # avaliação de acurácia da classificação das amostras não apresentadas no treinamento\n",
        "print(\"Acurária com dados de validação: \", test_score)\n",
        "\n",
        "print(classification_report(predictions_test, y_test))\n",
        "print(\"Número de épocas no treinamento: \", p.n_iter_)\n",
        "print(\"Lista de parâmetros configurados na Perceptron: \", p.get_params())\n",
        "\n",
        "# Apresentação gráfica da matriz de confusão dos testes classificados\n",
        "conf_matrix = confusion_matrix(y_test, predictions_test)\n",
        "cm_display = metrics.ConfusionMatrixDisplay(confusion_matrix = conf_matrix, display_labels = [False, True])\n",
        "cm_display.plot()\n",
        "plt.show()"
      ]
    },
    {
      "cell_type": "code",
      "execution_count": null,
      "metadata": {
        "colab": {
          "base_uri": "https://localhost:8080/"
        },
        "id": "2F39IOllr4VP",
        "outputId": "359f8e46-9745-4502-e3c3-b5eb26345658"
      },
      "outputs": [],
      "source": [
        "# Teste individual de amostras\n",
        "# Teste individual de amostras\n",
        "rendaA = 5000\n",
        "dividaA = 500\n",
        "rendaB = 3000\n",
        "dividaB = 500\n",
        "\n",
        "# Normalizando manualmente amostras isoladas\n",
        "rendaA = rendaA/maxXRenda\n",
        "rendaB = rendaB/maxXRenda\n",
        "dividaA = dividaA/maxXDivida\n",
        "dividaB = dividaB/maxXDivida\n",
        "\n",
        "print([rendaA, dividaA])\n",
        "\n",
        "A = np.array([rendaA, dividaA]) # Padrão correto = 1\n",
        "A_y = np.array([1])\n",
        "B = np.array([rendaB, dividaB]) # Padrão correto = -1\n",
        "B_y = np.array([1])\n",
        "\n",
        "prediction_A = p.predict([A])\n",
        "prediction_B = p.predict([B])\n",
        "score_A = accuracy_score(prediction_A, A_y)\n",
        "print(\"Acurácia com dados de A: \", score_A)\n",
        "score_B = accuracy_score(prediction_B, B_y)\n",
        "print(\"Acurária com dados de B: \", score_B)"
      ]
    }
  ],
  "metadata": {
    "colab": {
      "provenance": []
    },
    "kernelspec": {
      "display_name": ".venv",
      "language": "python",
      "name": "python3"
    },
    "language_info": {
      "codemirror_mode": {
        "name": "ipython",
        "version": 3
      },
      "file_extension": ".py",
      "mimetype": "text/x-python",
      "name": "python",
      "nbconvert_exporter": "python",
      "pygments_lexer": "ipython3",
      "version": "3.11.7"
    }
  },
  "nbformat": 4,
  "nbformat_minor": 0
}
