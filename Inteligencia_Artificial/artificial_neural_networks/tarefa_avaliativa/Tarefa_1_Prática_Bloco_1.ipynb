{
  "cells": [
    {
      "cell_type": "markdown",
      "metadata": {
        "id": "U7BxzhMKeIpG"
      },
      "source": [
        "# Tarefa 1 - Prática - Bloco 1\n",
        "\n",
        "Baseado no notebook em que se aplicou a implementação da RNA Perceptron para determinar a classe da flor iris, você deve ajustar o mesmo algoritmo, no Google Colab, para a execução do dataset Bancario (disponível aqui no Moodle). Fazer testes com valores diferentes das amostras treinadas. Entregar um PDF no Notebook gerado com os devidos processamentos.\n",
        "\n",
        "Obs: A entrega até a data limite será atribuída a nota integral com os descontos dos erros. A partir desta data será descontado 10% da nota no dia seguinte somado a 1% por dia de atraso, podendo ser entregue até a data final da Segunda Chamada. Contudo, parte da resolução do exercício será disponibilizada no dia posterior à data limite sem desconto."
      ]
    },
    {
      "cell_type": "code",
      "execution_count": null,
      "metadata": {
        "colab": {
          "base_uri": "https://localhost:8080/"
        },
        "id": "uQtCPBz4e9XO",
        "outputId": "7f30af0d-394b-4321-a04a-d3b142c87506"
      },
      "outputs": [],
      "source": [
        "from sklearn import preprocessing\n",
        "from sklearn.model_selection import train_test_split\n",
        "from sklearn.linear_model import Perceptron\n",
        "from sklearn.metrics import accuracy_score, classification_report, confusion_matrix\n",
        "from sklearn import metrics\n",
        "import pandas as pd\n",
        "import numpy as np\n",
        "import matplotlib.pyplot as plt"
      ]
    },
    {
      "cell_type": "code",
      "execution_count": null,
      "metadata": {
        "colab": {
          "base_uri": "https://localhost:8080/",
          "height": 708
        },
        "id": "6-NCYEOhlu_0",
        "outputId": "28282928-f9e7-46ed-bb23-94f67053cb26"
      },
      "outputs": [
        {
          "data": {
            "application/vnd.microsoft.datawrangler.viewer.v0+json": {
              "columns": [
                {
                  "name": "index",
                  "rawType": "int64",
                  "type": "integer"
                },
                {
                  "name": "Conta",
                  "rawType": "int64",
                  "type": "integer"
                },
                {
                  "name": "Renda",
                  "rawType": "int64",
                  "type": "integer"
                },
                {
                  "name": "Dívida",
                  "rawType": "int64",
                  "type": "integer"
                },
                {
                  "name": "Classe",
                  "rawType": "object",
                  "type": "string"
                }
              ],
              "ref": "5539c24d-f41b-4142-9553-19553c6608a9",
              "rows": [
                [
                  "0",
                  "101",
                  "2800",
                  "550",
                  "bom"
                ],
                [
                  "1",
                  "102",
                  "1300",
                  "500",
                  "mau"
                ],
                [
                  "2",
                  "103",
                  "1400",
                  "80",
                  "bom"
                ],
                [
                  "3",
                  "104",
                  "500",
                  "200",
                  "mau"
                ],
                [
                  "4",
                  "105",
                  "1100",
                  "270",
                  "mau"
                ],
                [
                  "5",
                  "106",
                  "1800",
                  "450",
                  "bom"
                ],
                [
                  "6",
                  "107",
                  "2400",
                  "650",
                  "bom"
                ],
                [
                  "7",
                  "108",
                  "1950",
                  "600",
                  "bom"
                ],
                [
                  "8",
                  "109",
                  "450",
                  "70",
                  "mau"
                ],
                [
                  "9",
                  "110",
                  "2750",
                  "730",
                  "bom"
                ],
                [
                  "10",
                  "111",
                  "850",
                  "90",
                  "mau"
                ],
                [
                  "11",
                  "112",
                  "1300",
                  "200",
                  "mau"
                ],
                [
                  "12",
                  "113",
                  "2100",
                  "750",
                  "bom"
                ],
                [
                  "13",
                  "114",
                  "900",
                  "300",
                  "mau"
                ],
                [
                  "14",
                  "115",
                  "2700",
                  "250",
                  "bom"
                ],
                [
                  "15",
                  "116",
                  "1600",
                  "500",
                  "mau"
                ],
                [
                  "16",
                  "117",
                  "1900",
                  "150",
                  "bom"
                ],
                [
                  "17",
                  "118",
                  "2500",
                  "800",
                  "bom"
                ],
                [
                  "18",
                  "119",
                  "1600",
                  "700",
                  "mau"
                ],
                [
                  "19",
                  "120",
                  "2300",
                  "500",
                  "bom"
                ],
                [
                  "20",
                  "121",
                  "2100",
                  "250",
                  "bom"
                ]
              ],
              "shape": {
                "columns": 4,
                "rows": 21
              }
            },
            "text/html": [
              "<div>\n",
              "<style scoped>\n",
              "    .dataframe tbody tr th:only-of-type {\n",
              "        vertical-align: middle;\n",
              "    }\n",
              "\n",
              "    .dataframe tbody tr th {\n",
              "        vertical-align: top;\n",
              "    }\n",
              "\n",
              "    .dataframe thead th {\n",
              "        text-align: right;\n",
              "    }\n",
              "</style>\n",
              "<table border=\"1\" class=\"dataframe\">\n",
              "  <thead>\n",
              "    <tr style=\"text-align: right;\">\n",
              "      <th></th>\n",
              "      <th>Conta</th>\n",
              "      <th>Renda</th>\n",
              "      <th>Dívida</th>\n",
              "      <th>Classe</th>\n",
              "    </tr>\n",
              "  </thead>\n",
              "  <tbody>\n",
              "    <tr>\n",
              "      <th>0</th>\n",
              "      <td>101</td>\n",
              "      <td>2800</td>\n",
              "      <td>550</td>\n",
              "      <td>bom</td>\n",
              "    </tr>\n",
              "    <tr>\n",
              "      <th>1</th>\n",
              "      <td>102</td>\n",
              "      <td>1300</td>\n",
              "      <td>500</td>\n",
              "      <td>mau</td>\n",
              "    </tr>\n",
              "    <tr>\n",
              "      <th>2</th>\n",
              "      <td>103</td>\n",
              "      <td>1400</td>\n",
              "      <td>80</td>\n",
              "      <td>bom</td>\n",
              "    </tr>\n",
              "    <tr>\n",
              "      <th>3</th>\n",
              "      <td>104</td>\n",
              "      <td>500</td>\n",
              "      <td>200</td>\n",
              "      <td>mau</td>\n",
              "    </tr>\n",
              "    <tr>\n",
              "      <th>4</th>\n",
              "      <td>105</td>\n",
              "      <td>1100</td>\n",
              "      <td>270</td>\n",
              "      <td>mau</td>\n",
              "    </tr>\n",
              "    <tr>\n",
              "      <th>5</th>\n",
              "      <td>106</td>\n",
              "      <td>1800</td>\n",
              "      <td>450</td>\n",
              "      <td>bom</td>\n",
              "    </tr>\n",
              "    <tr>\n",
              "      <th>6</th>\n",
              "      <td>107</td>\n",
              "      <td>2400</td>\n",
              "      <td>650</td>\n",
              "      <td>bom</td>\n",
              "    </tr>\n",
              "    <tr>\n",
              "      <th>7</th>\n",
              "      <td>108</td>\n",
              "      <td>1950</td>\n",
              "      <td>600</td>\n",
              "      <td>bom</td>\n",
              "    </tr>\n",
              "    <tr>\n",
              "      <th>8</th>\n",
              "      <td>109</td>\n",
              "      <td>450</td>\n",
              "      <td>70</td>\n",
              "      <td>mau</td>\n",
              "    </tr>\n",
              "    <tr>\n",
              "      <th>9</th>\n",
              "      <td>110</td>\n",
              "      <td>2750</td>\n",
              "      <td>730</td>\n",
              "      <td>bom</td>\n",
              "    </tr>\n",
              "    <tr>\n",
              "      <th>10</th>\n",
              "      <td>111</td>\n",
              "      <td>850</td>\n",
              "      <td>90</td>\n",
              "      <td>mau</td>\n",
              "    </tr>\n",
              "    <tr>\n",
              "      <th>11</th>\n",
              "      <td>112</td>\n",
              "      <td>1300</td>\n",
              "      <td>200</td>\n",
              "      <td>mau</td>\n",
              "    </tr>\n",
              "    <tr>\n",
              "      <th>12</th>\n",
              "      <td>113</td>\n",
              "      <td>2100</td>\n",
              "      <td>750</td>\n",
              "      <td>bom</td>\n",
              "    </tr>\n",
              "    <tr>\n",
              "      <th>13</th>\n",
              "      <td>114</td>\n",
              "      <td>900</td>\n",
              "      <td>300</td>\n",
              "      <td>mau</td>\n",
              "    </tr>\n",
              "    <tr>\n",
              "      <th>14</th>\n",
              "      <td>115</td>\n",
              "      <td>2700</td>\n",
              "      <td>250</td>\n",
              "      <td>bom</td>\n",
              "    </tr>\n",
              "    <tr>\n",
              "      <th>15</th>\n",
              "      <td>116</td>\n",
              "      <td>1600</td>\n",
              "      <td>500</td>\n",
              "      <td>mau</td>\n",
              "    </tr>\n",
              "    <tr>\n",
              "      <th>16</th>\n",
              "      <td>117</td>\n",
              "      <td>1900</td>\n",
              "      <td>150</td>\n",
              "      <td>bom</td>\n",
              "    </tr>\n",
              "    <tr>\n",
              "      <th>17</th>\n",
              "      <td>118</td>\n",
              "      <td>2500</td>\n",
              "      <td>800</td>\n",
              "      <td>bom</td>\n",
              "    </tr>\n",
              "    <tr>\n",
              "      <th>18</th>\n",
              "      <td>119</td>\n",
              "      <td>1600</td>\n",
              "      <td>700</td>\n",
              "      <td>mau</td>\n",
              "    </tr>\n",
              "    <tr>\n",
              "      <th>19</th>\n",
              "      <td>120</td>\n",
              "      <td>2300</td>\n",
              "      <td>500</td>\n",
              "      <td>bom</td>\n",
              "    </tr>\n",
              "    <tr>\n",
              "      <th>20</th>\n",
              "      <td>121</td>\n",
              "      <td>2100</td>\n",
              "      <td>250</td>\n",
              "      <td>bom</td>\n",
              "    </tr>\n",
              "  </tbody>\n",
              "</table>\n",
              "</div>"
            ],
            "text/plain": [
              "    Conta  Renda  Dívida Classe\n",
              "0     101   2800     550    bom\n",
              "1     102   1300     500    mau\n",
              "2     103   1400      80    bom\n",
              "3     104    500     200    mau\n",
              "4     105   1100     270    mau\n",
              "5     106   1800     450    bom\n",
              "6     107   2400     650    bom\n",
              "7     108   1950     600    bom\n",
              "8     109    450      70    mau\n",
              "9     110   2750     730    bom\n",
              "10    111    850      90    mau\n",
              "11    112   1300     200    mau\n",
              "12    113   2100     750    bom\n",
              "13    114    900     300    mau\n",
              "14    115   2700     250    bom\n",
              "15    116   1600     500    mau\n",
              "16    117   1900     150    bom\n",
              "17    118   2500     800    bom\n",
              "18    119   1600     700    mau\n",
              "19    120   2300     500    bom\n",
              "20    121   2100     250    bom"
            ]
          },
          "metadata": {},
          "output_type": "display_data"
        }
      ],
      "source": [
        "df = pd.read_csv('bancario.csv')\n",
        "display(df)"
      ]
    },
    {
      "cell_type": "code",
      "execution_count": 3,
      "metadata": {
        "id": "kxF9tEpommzX"
      },
      "outputs": [],
      "source": [
        "X=df.iloc[:, [1,2]].values\n",
        "\n",
        "scaler = preprocessing.MinMaxScaler()\n",
        "X=scaler.fit_transform(X)"
      ]
    },
    {
      "cell_type": "code",
      "execution_count": 4,
      "metadata": {
        "colab": {
          "base_uri": "https://localhost:8080/"
        },
        "id": "KDS-_g06sUEq",
        "outputId": "2716c9be-515d-4f02-c1bf-92c005abd10c"
      },
      "outputs": [
        {
          "data": {
            "text/plain": [
              "array([ 1, -1,  1, -1, -1,  1,  1,  1, -1,  1, -1, -1,  1, -1,  1, -1,  1,\n",
              "        1, -1,  1,  1])"
            ]
          },
          "execution_count": 4,
          "metadata": {},
          "output_type": "execute_result"
        }
      ],
      "source": [
        "# bom = 1, mau = -1\n",
        "y=df.iloc[:, 3].values\n",
        "y=np.where(y == 'bom', 1, -1)\n",
        "y"
      ]
    },
    {
      "cell_type": "code",
      "execution_count": 5,
      "metadata": {
        "colab": {
          "base_uri": "https://localhost:8080/",
          "height": 449
        },
        "id": "sVHEbyCSs05l",
        "outputId": "36961a9b-236c-4519-d6c2-6b1409c0914a"
      },
      "outputs": [
        {
          "data": {
            "image/png": "[encoded data removed]",
            "text/plain": [
              "<Figure size 640x480 with 1 Axes>"
            ]
          },
          "metadata": {},
          "output_type": "display_data"
        }
      ],
      "source": [
        "plt.scatter(X[:, 1], X[:, 0], c=y)\n",
        "plt.xlabel('Renda')\n",
        "plt.ylabel('Empréstimo')\n",
        "plt.show()"
      ]
    },
    {
      "cell_type": "code",
      "execution_count": 6,
      "metadata": {
        "colab": {
          "base_uri": "https://localhost:8080/",
          "height": 681
        },
        "id": "qBe2RLmp1cZ1",
        "outputId": "be60baf6-73a9-4a50-8a6b-7d7eb9b58b83"
      },
      "outputs": [
        {
          "name": "stdout",
          "output_type": "stream",
          "text": [
            "Acurácia de treino:  1.0\n",
            "Acurácia de teste:  0.8571428571428571\n",
            "Total de iterações:  6\n",
            "              precision    recall  f1-score   support\n",
            "\n",
            "          -1       1.00      0.75      0.86         4\n",
            "           1       0.75      1.00      0.86         3\n",
            "\n",
            "    accuracy                           0.86         7\n",
            "   macro avg       0.88      0.88      0.86         7\n",
            "weighted avg       0.89      0.86      0.86         7\n",
            "\n"
          ]
        },
        {
          "data": {
            "text/plain": [
              "<sklearn.metrics._plot.confusion_matrix.ConfusionMatrixDisplay at 0x7a95700e8b90>"
            ]
          },
          "execution_count": 6,
          "metadata": {},
          "output_type": "execute_result"
        },
        {
          "data": {
            "image/png": "[encoded data removed]",
            "text/plain": [
              "<Figure size 640x480 with 2 Axes>"
            ]
          },
          "metadata": {},
          "output_type": "display_data"
        }
      ],
      "source": [
        "# Treinamento sem ajuste nos pesos:\n",
        "X_train, X_test, y_train, y_test = train_test_split(X, y, test_size=0.30, random_state=42)\n",
        "\n",
        "p = Perceptron(eta0=0.001, random_state=42, penalty='elasticnet', l1_ratio=1)\n",
        "p.fit(X_train, y_train)\n",
        "\n",
        "prediction_train = p.predict(X_train)\n",
        "train_score = accuracy_score(prediction_train, y_train)\n",
        "print(\"Acurácia de treino: \", train_score)\n",
        "\n",
        "prediction_test = p.predict(X_test)\n",
        "test_sore = accuracy_score(prediction_test, y_test)\n",
        "print(\"Acurácia de teste: \", test_sore)\n",
        "\n",
        "print(\"Total de iterações: \", p.n_iter_)\n",
        "\n",
        "print(classification_report(y_test, prediction_test))\n",
        "\n",
        "conf_matrix = confusion_matrix(y_test, prediction_test)\n",
        "cm_display = metrics.ConfusionMatrixDisplay(confusion_matrix = conf_matrix, display_labels = ['Bom', 'Mau'])\n",
        "cm_display.plot()"
      ]
    },
    {
      "cell_type": "code",
      "execution_count": 7,
      "metadata": {
        "colab": {
          "base_uri": "https://localhost:8080/",
          "height": 681
        },
        "id": "v41ogqb222ca",
        "outputId": "09641baa-61db-47fa-bc81-7491a41e1065"
      },
      "outputs": [
        {
          "name": "stdout",
          "output_type": "stream",
          "text": [
            "Acurácia de treino:  1.0\n",
            "Acurácia de teste:  1.0\n",
            "Total de iterações:  6\n",
            "              precision    recall  f1-score   support\n",
            "\n",
            "          -1       1.00      1.00      1.00         3\n",
            "           1       1.00      1.00      1.00         4\n",
            "\n",
            "    accuracy                           1.00         7\n",
            "   macro avg       1.00      1.00      1.00         7\n",
            "weighted avg       1.00      1.00      1.00         7\n",
            "\n"
          ]
        },
        {
          "data": {
            "text/plain": [
              "<sklearn.metrics._plot.confusion_matrix.ConfusionMatrixDisplay at 0x7a95701f7fd0>"
            ]
          },
          "execution_count": 7,
          "metadata": {},
          "output_type": "execute_result"
        },
        {
          "data": {
            "image/png": "[encoded data removed]",
            "text/plain": [
              "<Figure size 640x480 with 2 Axes>"
            ]
          },
          "metadata": {},
          "output_type": "display_data"
        }
      ],
      "source": [
        "# Treinamento sem ajuste nos pesos + stratify:\n",
        "X_train, X_test, y_train, y_test = train_test_split(X, y, test_size=0.30, random_state=42, stratify=y)\n",
        "\n",
        "p = Perceptron(eta0=0.001, random_state=42, penalty='elasticnet', l1_ratio=1)\n",
        "p.fit(X_train, y_train)\n",
        "\n",
        "prediction_train = p.predict(X_train)\n",
        "train_score = accuracy_score(prediction_train, y_train)\n",
        "print(\"Acurácia de treino: \", train_score)\n",
        "\n",
        "prediction_test = p.predict(X_test)\n",
        "test_sore = accuracy_score(prediction_test, y_test)\n",
        "print(\"Acurácia de teste: \", test_sore)\n",
        "\n",
        "print(\"Total de iterações: \", p.n_iter_)\n",
        "\n",
        "print(classification_report(y_test, prediction_test))\n",
        "\n",
        "conf_matrix = confusion_matrix(y_test, prediction_test)\n",
        "cm_display = metrics.ConfusionMatrixDisplay(confusion_matrix = conf_matrix, display_labels = ['Bom', 'Mau'])\n",
        "cm_display.plot()"
      ]
    },
    {
      "cell_type": "code",
      "execution_count": 8,
      "metadata": {
        "colab": {
          "base_uri": "https://localhost:8080/",
          "height": 681
        },
        "id": "BSZnTWe1sesB",
        "outputId": "ad473326-c300-4140-a554-f4a4fa088383"
      },
      "outputs": [
        {
          "name": "stdout",
          "output_type": "stream",
          "text": [
            "Acurácia de treino:  1.0\n",
            "Acurácia de teste:  1.0\n",
            "Total de iterações:  6\n",
            "              precision    recall  f1-score   support\n",
            "\n",
            "          -1       1.00      1.00      1.00         4\n",
            "           1       1.00      1.00      1.00         3\n",
            "\n",
            "    accuracy                           1.00         7\n",
            "   macro avg       1.00      1.00      1.00         7\n",
            "weighted avg       1.00      1.00      1.00         7\n",
            "\n"
          ]
        },
        {
          "data": {
            "text/plain": [
              "<sklearn.metrics._plot.confusion_matrix.ConfusionMatrixDisplay at 0x7a956dff49d0>"
            ]
          },
          "execution_count": 8,
          "metadata": {},
          "output_type": "execute_result"
        },
        {
          "data": {
            "image/png": "[encoded data removed]",
            "text/plain": [
              "<Figure size 640x480 with 2 Axes>"
            ]
          },
          "metadata": {},
          "output_type": "display_data"
        }
      ],
      "source": [
        "# Treinamento com ajuste nos pesos:\n",
        "X_train, X_test, y_train, y_test = train_test_split(X, y, test_size=0.30, random_state=42)\n",
        "\n",
        "p = Perceptron(eta0=0.001, random_state=42, class_weight={1: 0.55, -1: 0.5})\n",
        "p.fit(X_train, y_train)\n",
        "\n",
        "prediction_train = p.predict(X_train)\n",
        "train_score = accuracy_score(prediction_train, y_train)\n",
        "print(\"Acurácia de treino: \", train_score)\n",
        "\n",
        "prediction_test = p.predict(X_test)\n",
        "test_sore = accuracy_score(prediction_test, y_test)\n",
        "print(\"Acurácia de teste: \", test_sore)\n",
        "\n",
        "print(\"Total de iterações: \", p.n_iter_)\n",
        "\n",
        "print(classification_report(y_test, prediction_test))\n",
        "\n",
        "conf_matrix = confusion_matrix(y_test, prediction_test)\n",
        "cm_display = metrics.ConfusionMatrixDisplay(confusion_matrix = conf_matrix, display_labels = ['Bom', 'Mau'])\n",
        "cm_display.plot()"
      ]
    }
  ],
  "metadata": {
    "colab": {
      "provenance": []
    },
    "kernelspec": {
      "display_name": ".venv",
      "language": "python",
      "name": "python3"
    },
    "language_info": {
      "codemirror_mode": {
        "name": "ipython",
        "version": 3
      },
      "file_extension": ".py",
      "mimetype": "text/x-python",
      "name": "python",
      "nbconvert_exporter": "python",
      "pygments_lexer": "ipython3",
      "version": "3.11.7"
    }
  },
  "nbformat": 4,
  "nbformat_minor": 0
}
